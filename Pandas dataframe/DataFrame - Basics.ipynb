{
 "cells": [
  {
   "cell_type": "markdown",
   "metadata": {},
   "source": [
    "# Pandas' DataFrame\n",
    "Pandas is a python library that provides data structures for the programmer to perform data analysis.   "
   ]
  },
  {
   "cell_type": "code",
   "execution_count": 360,
   "metadata": {},
   "outputs": [],
   "source": [
    "import numpy as np\n",
    "import pandas as pd"
   ]
  },
  {
   "cell_type": "markdown",
   "metadata": {},
   "source": [
    "### 1) Defining a dataframe\n",
    "The key function in pandas is DataFrame. It allows defining a dataframe object. A dataframe object is a **(2D, heterogenous, mutable) tabular data structure** whose rows and columns are labeled.\n",
    "\n",
    "To define a dataframe we call function DataFrame as follows:"
   ]
  },
  {
   "cell_type": "markdown",
   "metadata": {},
   "source": [
    "pd.DataFrame(data, index, columns, dtype, copy)"
   ]
  },
  {
   "cell_type": "markdown",
   "metadata": {},
   "source": [
    "where\n",
    "- data can be numpy array, a list, a dictionary or a DataFrame. We can (i) build a dataframe from another dataframe or (ii) use other data structures such as numpy arrays and lists.\n",
    "- index is used to access dataframe rows.\n",
    "- columns is used to access dataframe columns.\n",
    "- dtype specifies the type of the data (if we want to force a homogenous dataframe).\n",
    "- copy, when set to True, it makes a copy of the data."
   ]
  },
  {
   "cell_type": "markdown",
   "metadata": {},
   "source": [
    "Next, we make a dataframe from a numpy array. First, we define a 2D array of size 4x3."
   ]
  },
  {
   "cell_type": "code",
   "execution_count": 362,
   "metadata": {},
   "outputs": [],
   "source": [
    "array = np.random.randn(4, 3)"
   ]
  },
  {
   "cell_type": "code",
   "execution_count": 363,
   "metadata": {},
   "outputs": [
    {
     "data": {
      "text/plain": [
       "array([[-1.29793819,  1.72352923,  1.54330071],\n",
       "       [ 0.2297917 , -0.20911437,  0.62631504],\n",
       "       [ 1.40314928,  1.52680861,  0.40615058],\n",
       "       [-0.35689016, -0.71079543,  1.90983918]])"
      ]
     },
     "execution_count": 363,
     "metadata": {},
     "output_type": "execute_result"
    }
   ],
   "source": [
    "array"
   ]
  },
  {
   "cell_type": "markdown",
   "metadata": {},
   "source": [
    "To make a dataframe from array, we call function DataFrame with data=array. We also name the rows and columns."
   ]
  },
  {
   "cell_type": "code",
   "execution_count": 364,
   "metadata": {},
   "outputs": [],
   "source": [
    "arr_data = pd.DataFrame(array,\n",
    "                       index = ['Row1','Row2','Row3','Row4'],\n",
    "                       columns = ['Col1','Col2','Col3'])"
   ]
  },
  {
   "cell_type": "code",
   "execution_count": 365,
   "metadata": {},
   "outputs": [
    {
     "data": {
      "text/html": [
       "<div>\n",
       "<style scoped>\n",
       "    .dataframe tbody tr th:only-of-type {\n",
       "        vertical-align: middle;\n",
       "    }\n",
       "\n",
       "    .dataframe tbody tr th {\n",
       "        vertical-align: top;\n",
       "    }\n",
       "\n",
       "    .dataframe thead th {\n",
       "        text-align: right;\n",
       "    }\n",
       "</style>\n",
       "<table border=\"1\" class=\"dataframe\">\n",
       "  <thead>\n",
       "    <tr style=\"text-align: right;\">\n",
       "      <th></th>\n",
       "      <th>Col1</th>\n",
       "      <th>Col2</th>\n",
       "      <th>Col3</th>\n",
       "    </tr>\n",
       "  </thead>\n",
       "  <tbody>\n",
       "    <tr>\n",
       "      <th>Row1</th>\n",
       "      <td>-1.297938</td>\n",
       "      <td>1.723529</td>\n",
       "      <td>1.543301</td>\n",
       "    </tr>\n",
       "    <tr>\n",
       "      <th>Row2</th>\n",
       "      <td>0.229792</td>\n",
       "      <td>-0.209114</td>\n",
       "      <td>0.626315</td>\n",
       "    </tr>\n",
       "    <tr>\n",
       "      <th>Row3</th>\n",
       "      <td>1.403149</td>\n",
       "      <td>1.526809</td>\n",
       "      <td>0.406151</td>\n",
       "    </tr>\n",
       "    <tr>\n",
       "      <th>Row4</th>\n",
       "      <td>-0.356890</td>\n",
       "      <td>-0.710795</td>\n",
       "      <td>1.909839</td>\n",
       "    </tr>\n",
       "  </tbody>\n",
       "</table>\n",
       "</div>"
      ],
      "text/plain": [
       "          Col1      Col2      Col3\n",
       "Row1 -1.297938  1.723529  1.543301\n",
       "Row2  0.229792 -0.209114  0.626315\n",
       "Row3  1.403149  1.526809  0.406151\n",
       "Row4 -0.356890 -0.710795  1.909839"
      ]
     },
     "execution_count": 365,
     "metadata": {},
     "output_type": "execute_result"
    }
   ],
   "source": [
    "arr_data"
   ]
  },
  {
   "cell_type": "markdown",
   "metadata": {},
   "source": [
    "We use \"index\" and \"columns\" to access to data. "
   ]
  },
  {
   "cell_type": "code",
   "execution_count": 366,
   "metadata": {},
   "outputs": [],
   "source": [
    "col1 = arr_data[\"Col1\"]"
   ]
  },
  {
   "cell_type": "code",
   "execution_count": 367,
   "metadata": {},
   "outputs": [
    {
     "data": {
      "text/plain": [
       "Row1   -1.297938\n",
       "Row2    0.229792\n",
       "Row3    1.403149\n",
       "Row4   -0.356890\n",
       "Name: Col1, dtype: float64"
      ]
     },
     "execution_count": 367,
     "metadata": {},
     "output_type": "execute_result"
    }
   ],
   "source": [
    "col1"
   ]
  },
  {
   "cell_type": "markdown",
   "metadata": {},
   "source": [
    "We can access multiple columns."
   ]
  },
  {
   "cell_type": "code",
   "execution_count": 368,
   "metadata": {},
   "outputs": [
    {
     "data": {
      "text/html": [
       "<div>\n",
       "<style scoped>\n",
       "    .dataframe tbody tr th:only-of-type {\n",
       "        vertical-align: middle;\n",
       "    }\n",
       "\n",
       "    .dataframe tbody tr th {\n",
       "        vertical-align: top;\n",
       "    }\n",
       "\n",
       "    .dataframe thead th {\n",
       "        text-align: right;\n",
       "    }\n",
       "</style>\n",
       "<table border=\"1\" class=\"dataframe\">\n",
       "  <thead>\n",
       "    <tr style=\"text-align: right;\">\n",
       "      <th></th>\n",
       "      <th>Col1</th>\n",
       "      <th>Col3</th>\n",
       "    </tr>\n",
       "  </thead>\n",
       "  <tbody>\n",
       "    <tr>\n",
       "      <th>Row1</th>\n",
       "      <td>-1.297938</td>\n",
       "      <td>1.543301</td>\n",
       "    </tr>\n",
       "    <tr>\n",
       "      <th>Row2</th>\n",
       "      <td>0.229792</td>\n",
       "      <td>0.626315</td>\n",
       "    </tr>\n",
       "    <tr>\n",
       "      <th>Row3</th>\n",
       "      <td>1.403149</td>\n",
       "      <td>0.406151</td>\n",
       "    </tr>\n",
       "    <tr>\n",
       "      <th>Row4</th>\n",
       "      <td>-0.356890</td>\n",
       "      <td>1.909839</td>\n",
       "    </tr>\n",
       "  </tbody>\n",
       "</table>\n",
       "</div>"
      ],
      "text/plain": [
       "          Col1      Col3\n",
       "Row1 -1.297938  1.543301\n",
       "Row2  0.229792  0.626315\n",
       "Row3  1.403149  0.406151\n",
       "Row4 -0.356890  1.909839"
      ]
     },
     "execution_count": 368,
     "metadata": {},
     "output_type": "execute_result"
    }
   ],
   "source": [
    "arr_data[[\"Col1\",\"Col3\"]]"
   ]
  },
  {
   "cell_type": "code",
   "execution_count": 369,
   "metadata": {},
   "outputs": [
    {
     "data": {
      "text/plain": [
       "pandas.core.frame.DataFrame"
      ]
     },
     "execution_count": 369,
     "metadata": {},
     "output_type": "execute_result"
    }
   ],
   "source": [
    "type(arr_data)"
   ]
  },
  {
   "cell_type": "markdown",
   "metadata": {},
   "source": [
    "A DataFrame of dimension 1 is a Series."
   ]
  },
  {
   "cell_type": "code",
   "execution_count": 370,
   "metadata": {},
   "outputs": [
    {
     "data": {
      "text/plain": [
       "pandas.core.series.Series"
      ]
     },
     "execution_count": 370,
     "metadata": {},
     "output_type": "execute_result"
    }
   ],
   "source": [
    "type(col1)"
   ]
  },
  {
   "cell_type": "code",
   "execution_count": 371,
   "metadata": {},
   "outputs": [],
   "source": [
    "row2 = arr_data.loc[\"Row2\"]"
   ]
  },
  {
   "cell_type": "code",
   "execution_count": 372,
   "metadata": {},
   "outputs": [
    {
     "data": {
      "text/plain": [
       "Col1    0.229792\n",
       "Col2   -0.209114\n",
       "Col3    0.626315\n",
       "Name: Row2, dtype: float64"
      ]
     },
     "execution_count": 372,
     "metadata": {},
     "output_type": "execute_result"
    }
   ],
   "source": [
    "row2"
   ]
  },
  {
   "cell_type": "code",
   "execution_count": 373,
   "metadata": {},
   "outputs": [
    {
     "data": {
      "text/plain": [
       "pandas.core.series.Series"
      ]
     },
     "execution_count": 373,
     "metadata": {},
     "output_type": "execute_result"
    }
   ],
   "source": [
    "type(row2)"
   ]
  },
  {
   "cell_type": "code",
   "execution_count": 374,
   "metadata": {},
   "outputs": [
    {
     "data": {
      "text/html": [
       "<div>\n",
       "<style scoped>\n",
       "    .dataframe tbody tr th:only-of-type {\n",
       "        vertical-align: middle;\n",
       "    }\n",
       "\n",
       "    .dataframe tbody tr th {\n",
       "        vertical-align: top;\n",
       "    }\n",
       "\n",
       "    .dataframe thead th {\n",
       "        text-align: right;\n",
       "    }\n",
       "</style>\n",
       "<table border=\"1\" class=\"dataframe\">\n",
       "  <thead>\n",
       "    <tr style=\"text-align: right;\">\n",
       "      <th></th>\n",
       "      <th>Col1</th>\n",
       "      <th>Col2</th>\n",
       "      <th>Col3</th>\n",
       "    </tr>\n",
       "  </thead>\n",
       "  <tbody>\n",
       "    <tr>\n",
       "      <th>Row2</th>\n",
       "      <td>0.229792</td>\n",
       "      <td>-0.209114</td>\n",
       "      <td>0.626315</td>\n",
       "    </tr>\n",
       "    <tr>\n",
       "      <th>Row3</th>\n",
       "      <td>1.403149</td>\n",
       "      <td>1.526809</td>\n",
       "      <td>0.406151</td>\n",
       "    </tr>\n",
       "  </tbody>\n",
       "</table>\n",
       "</div>"
      ],
      "text/plain": [
       "          Col1      Col2      Col3\n",
       "Row2  0.229792 -0.209114  0.626315\n",
       "Row3  1.403149  1.526809  0.406151"
      ]
     },
     "execution_count": 374,
     "metadata": {},
     "output_type": "execute_result"
    }
   ],
   "source": [
    "arr_data.loc[[\"Row2\",\"Row3\"]]"
   ]
  },
  {
   "cell_type": "markdown",
   "metadata": {},
   "source": [
    "What if we do not specify \"index\" and \"columns\"?"
   ]
  },
  {
   "cell_type": "code",
   "execution_count": 375,
   "metadata": {},
   "outputs": [],
   "source": [
    "array_test = np.random.randn(11, 5)"
   ]
  },
  {
   "cell_type": "code",
   "execution_count": 376,
   "metadata": {},
   "outputs": [],
   "source": [
    "df = pd.DataFrame(array_test)"
   ]
  },
  {
   "cell_type": "code",
   "execution_count": 377,
   "metadata": {},
   "outputs": [
    {
     "data": {
      "text/html": [
       "<div>\n",
       "<style scoped>\n",
       "    .dataframe tbody tr th:only-of-type {\n",
       "        vertical-align: middle;\n",
       "    }\n",
       "\n",
       "    .dataframe tbody tr th {\n",
       "        vertical-align: top;\n",
       "    }\n",
       "\n",
       "    .dataframe thead th {\n",
       "        text-align: right;\n",
       "    }\n",
       "</style>\n",
       "<table border=\"1\" class=\"dataframe\">\n",
       "  <thead>\n",
       "    <tr style=\"text-align: right;\">\n",
       "      <th></th>\n",
       "      <th>0</th>\n",
       "      <th>1</th>\n",
       "      <th>2</th>\n",
       "      <th>3</th>\n",
       "      <th>4</th>\n",
       "    </tr>\n",
       "  </thead>\n",
       "  <tbody>\n",
       "    <tr>\n",
       "      <th>0</th>\n",
       "      <td>0.176247</td>\n",
       "      <td>-2.366187</td>\n",
       "      <td>-1.661328</td>\n",
       "      <td>-0.919650</td>\n",
       "      <td>0.778643</td>\n",
       "    </tr>\n",
       "    <tr>\n",
       "      <th>1</th>\n",
       "      <td>0.464449</td>\n",
       "      <td>-0.633439</td>\n",
       "      <td>1.397082</td>\n",
       "      <td>1.133217</td>\n",
       "      <td>-0.696861</td>\n",
       "    </tr>\n",
       "    <tr>\n",
       "      <th>2</th>\n",
       "      <td>-0.695419</td>\n",
       "      <td>-0.226230</td>\n",
       "      <td>-1.985125</td>\n",
       "      <td>-0.143309</td>\n",
       "      <td>1.915521</td>\n",
       "    </tr>\n",
       "    <tr>\n",
       "      <th>3</th>\n",
       "      <td>-1.227636</td>\n",
       "      <td>-0.543208</td>\n",
       "      <td>0.757297</td>\n",
       "      <td>1.749714</td>\n",
       "      <td>0.275690</td>\n",
       "    </tr>\n",
       "    <tr>\n",
       "      <th>4</th>\n",
       "      <td>-0.629682</td>\n",
       "      <td>-0.984064</td>\n",
       "      <td>0.391784</td>\n",
       "      <td>-0.936299</td>\n",
       "      <td>-0.291280</td>\n",
       "    </tr>\n",
       "    <tr>\n",
       "      <th>5</th>\n",
       "      <td>-1.336826</td>\n",
       "      <td>0.807996</td>\n",
       "      <td>0.186094</td>\n",
       "      <td>1.318127</td>\n",
       "      <td>0.551252</td>\n",
       "    </tr>\n",
       "    <tr>\n",
       "      <th>6</th>\n",
       "      <td>-0.185977</td>\n",
       "      <td>-1.045222</td>\n",
       "      <td>0.487823</td>\n",
       "      <td>0.802348</td>\n",
       "      <td>0.623669</td>\n",
       "    </tr>\n",
       "    <tr>\n",
       "      <th>7</th>\n",
       "      <td>-2.280539</td>\n",
       "      <td>-1.382598</td>\n",
       "      <td>-0.226239</td>\n",
       "      <td>-0.707665</td>\n",
       "      <td>0.160197</td>\n",
       "    </tr>\n",
       "    <tr>\n",
       "      <th>8</th>\n",
       "      <td>-0.104400</td>\n",
       "      <td>1.799209</td>\n",
       "      <td>-1.762497</td>\n",
       "      <td>-0.494822</td>\n",
       "      <td>-0.184652</td>\n",
       "    </tr>\n",
       "    <tr>\n",
       "      <th>9</th>\n",
       "      <td>-0.582063</td>\n",
       "      <td>-0.004632</td>\n",
       "      <td>-0.571274</td>\n",
       "      <td>0.362729</td>\n",
       "      <td>-0.569015</td>\n",
       "    </tr>\n",
       "    <tr>\n",
       "      <th>10</th>\n",
       "      <td>1.306143</td>\n",
       "      <td>0.551700</td>\n",
       "      <td>-0.458635</td>\n",
       "      <td>1.431860</td>\n",
       "      <td>-2.072625</td>\n",
       "    </tr>\n",
       "  </tbody>\n",
       "</table>\n",
       "</div>"
      ],
      "text/plain": [
       "           0         1         2         3         4\n",
       "0   0.176247 -2.366187 -1.661328 -0.919650  0.778643\n",
       "1   0.464449 -0.633439  1.397082  1.133217 -0.696861\n",
       "2  -0.695419 -0.226230 -1.985125 -0.143309  1.915521\n",
       "3  -1.227636 -0.543208  0.757297  1.749714  0.275690\n",
       "4  -0.629682 -0.984064  0.391784 -0.936299 -0.291280\n",
       "5  -1.336826  0.807996  0.186094  1.318127  0.551252\n",
       "6  -0.185977 -1.045222  0.487823  0.802348  0.623669\n",
       "7  -2.280539 -1.382598 -0.226239 -0.707665  0.160197\n",
       "8  -0.104400  1.799209 -1.762497 -0.494822 -0.184652\n",
       "9  -0.582063 -0.004632 -0.571274  0.362729 -0.569015\n",
       "10  1.306143  0.551700 -0.458635  1.431860 -2.072625"
      ]
     },
     "execution_count": 377,
     "metadata": {},
     "output_type": "execute_result"
    }
   ],
   "source": [
    "df"
   ]
  },
  {
   "cell_type": "code",
   "execution_count": 378,
   "metadata": {},
   "outputs": [
    {
     "data": {
      "text/plain": [
       "0    -2.366187\n",
       "1    -0.633439\n",
       "2    -0.226230\n",
       "3    -0.543208\n",
       "4    -0.984064\n",
       "5     0.807996\n",
       "6    -1.045222\n",
       "7    -1.382598\n",
       "8     1.799209\n",
       "9    -0.004632\n",
       "10    0.551700\n",
       "Name: 1, dtype: float64"
      ]
     },
     "execution_count": 378,
     "metadata": {},
     "output_type": "execute_result"
    }
   ],
   "source": [
    "df[1]"
   ]
  },
  {
   "cell_type": "code",
   "execution_count": 379,
   "metadata": {},
   "outputs": [
    {
     "data": {
      "text/plain": [
       "0   -2.280539\n",
       "1   -1.382598\n",
       "2   -0.226239\n",
       "3   -0.707665\n",
       "4    0.160197\n",
       "Name: 7, dtype: float64"
      ]
     },
     "execution_count": 379,
     "metadata": {},
     "output_type": "execute_result"
    }
   ],
   "source": [
    "df.loc[7]"
   ]
  },
  {
   "cell_type": "markdown",
   "metadata": {},
   "source": [
    "We can make a dataframe from a list. "
   ]
  },
  {
   "cell_type": "code",
   "execution_count": 380,
   "metadata": {},
   "outputs": [],
   "source": [
    "df_univ = pd.DataFrame([[1,\"Ocha-dai\",30],[2,\"To-dai\",40],[3,\"Kyo-dai\",60]],\n",
    "                  index = ['Row1','Row2','Row3'],\n",
    "                  columns = ['Col1','Col2','Col3'])"
   ]
  },
  {
   "cell_type": "code",
   "execution_count": 381,
   "metadata": {},
   "outputs": [
    {
     "data": {
      "text/html": [
       "<div>\n",
       "<style scoped>\n",
       "    .dataframe tbody tr th:only-of-type {\n",
       "        vertical-align: middle;\n",
       "    }\n",
       "\n",
       "    .dataframe tbody tr th {\n",
       "        vertical-align: top;\n",
       "    }\n",
       "\n",
       "    .dataframe thead th {\n",
       "        text-align: right;\n",
       "    }\n",
       "</style>\n",
       "<table border=\"1\" class=\"dataframe\">\n",
       "  <thead>\n",
       "    <tr style=\"text-align: right;\">\n",
       "      <th></th>\n",
       "      <th>Col1</th>\n",
       "      <th>Col2</th>\n",
       "      <th>Col3</th>\n",
       "    </tr>\n",
       "  </thead>\n",
       "  <tbody>\n",
       "    <tr>\n",
       "      <th>Row1</th>\n",
       "      <td>1</td>\n",
       "      <td>Ocha-dai</td>\n",
       "      <td>30</td>\n",
       "    </tr>\n",
       "    <tr>\n",
       "      <th>Row2</th>\n",
       "      <td>2</td>\n",
       "      <td>To-dai</td>\n",
       "      <td>40</td>\n",
       "    </tr>\n",
       "    <tr>\n",
       "      <th>Row3</th>\n",
       "      <td>3</td>\n",
       "      <td>Kyo-dai</td>\n",
       "      <td>60</td>\n",
       "    </tr>\n",
       "  </tbody>\n",
       "</table>\n",
       "</div>"
      ],
      "text/plain": [
       "      Col1      Col2  Col3\n",
       "Row1     1  Ocha-dai    30\n",
       "Row2     2    To-dai    40\n",
       "Row3     3   Kyo-dai    60"
      ]
     },
     "execution_count": 381,
     "metadata": {},
     "output_type": "execute_result"
    }
   ],
   "source": [
    "df_univ"
   ]
  },
  {
   "cell_type": "code",
   "execution_count": 382,
   "metadata": {},
   "outputs": [
    {
     "data": {
      "text/plain": [
       "Row1    30\n",
       "Row2    40\n",
       "Row3    60\n",
       "Name: Col3, dtype: int64"
      ]
     },
     "execution_count": 382,
     "metadata": {},
     "output_type": "execute_result"
    }
   ],
   "source": [
    "df_univ['Col3']"
   ]
  },
  {
   "cell_type": "code",
   "execution_count": 383,
   "metadata": {},
   "outputs": [
    {
     "data": {
      "text/plain": [
       "pandas.core.series.Series"
      ]
     },
     "execution_count": 383,
     "metadata": {},
     "output_type": "execute_result"
    }
   ],
   "source": [
    "type(df_univ['Col3'])"
   ]
  },
  {
   "cell_type": "markdown",
   "metadata": {},
   "source": [
    "To access rows, we use attribute 'loc'. We give the name or the index of the row to 'loc' as follows:"
   ]
  },
  {
   "cell_type": "code",
   "execution_count": 384,
   "metadata": {},
   "outputs": [
    {
     "data": {
      "text/plain": [
       "Col1          3\n",
       "Col2    Kyo-dai\n",
       "Col3         60\n",
       "Name: Row3, dtype: object"
      ]
     },
     "execution_count": 384,
     "metadata": {},
     "output_type": "execute_result"
    }
   ],
   "source": [
    "df_univ.loc['Row3']"
   ]
  },
  {
   "cell_type": "code",
   "execution_count": 385,
   "metadata": {},
   "outputs": [
    {
     "data": {
      "text/html": [
       "<div>\n",
       "<style scoped>\n",
       "    .dataframe tbody tr th:only-of-type {\n",
       "        vertical-align: middle;\n",
       "    }\n",
       "\n",
       "    .dataframe tbody tr th {\n",
       "        vertical-align: top;\n",
       "    }\n",
       "\n",
       "    .dataframe thead th {\n",
       "        text-align: right;\n",
       "    }\n",
       "</style>\n",
       "<table border=\"1\" class=\"dataframe\">\n",
       "  <thead>\n",
       "    <tr style=\"text-align: right;\">\n",
       "      <th></th>\n",
       "      <th>0</th>\n",
       "      <th>1</th>\n",
       "      <th>2</th>\n",
       "      <th>3</th>\n",
       "      <th>4</th>\n",
       "    </tr>\n",
       "  </thead>\n",
       "  <tbody>\n",
       "    <tr>\n",
       "      <th>0</th>\n",
       "      <td>0.176247</td>\n",
       "      <td>-2.366187</td>\n",
       "      <td>-1.661328</td>\n",
       "      <td>-0.919650</td>\n",
       "      <td>0.778643</td>\n",
       "    </tr>\n",
       "    <tr>\n",
       "      <th>1</th>\n",
       "      <td>0.464449</td>\n",
       "      <td>-0.633439</td>\n",
       "      <td>1.397082</td>\n",
       "      <td>1.133217</td>\n",
       "      <td>-0.696861</td>\n",
       "    </tr>\n",
       "    <tr>\n",
       "      <th>2</th>\n",
       "      <td>-0.695419</td>\n",
       "      <td>-0.226230</td>\n",
       "      <td>-1.985125</td>\n",
       "      <td>-0.143309</td>\n",
       "      <td>1.915521</td>\n",
       "    </tr>\n",
       "    <tr>\n",
       "      <th>3</th>\n",
       "      <td>-1.227636</td>\n",
       "      <td>-0.543208</td>\n",
       "      <td>0.757297</td>\n",
       "      <td>1.749714</td>\n",
       "      <td>0.275690</td>\n",
       "    </tr>\n",
       "    <tr>\n",
       "      <th>4</th>\n",
       "      <td>-0.629682</td>\n",
       "      <td>-0.984064</td>\n",
       "      <td>0.391784</td>\n",
       "      <td>-0.936299</td>\n",
       "      <td>-0.291280</td>\n",
       "    </tr>\n",
       "    <tr>\n",
       "      <th>5</th>\n",
       "      <td>-1.336826</td>\n",
       "      <td>0.807996</td>\n",
       "      <td>0.186094</td>\n",
       "      <td>1.318127</td>\n",
       "      <td>0.551252</td>\n",
       "    </tr>\n",
       "    <tr>\n",
       "      <th>6</th>\n",
       "      <td>-0.185977</td>\n",
       "      <td>-1.045222</td>\n",
       "      <td>0.487823</td>\n",
       "      <td>0.802348</td>\n",
       "      <td>0.623669</td>\n",
       "    </tr>\n",
       "    <tr>\n",
       "      <th>7</th>\n",
       "      <td>-2.280539</td>\n",
       "      <td>-1.382598</td>\n",
       "      <td>-0.226239</td>\n",
       "      <td>-0.707665</td>\n",
       "      <td>0.160197</td>\n",
       "    </tr>\n",
       "    <tr>\n",
       "      <th>8</th>\n",
       "      <td>-0.104400</td>\n",
       "      <td>1.799209</td>\n",
       "      <td>-1.762497</td>\n",
       "      <td>-0.494822</td>\n",
       "      <td>-0.184652</td>\n",
       "    </tr>\n",
       "    <tr>\n",
       "      <th>9</th>\n",
       "      <td>-0.582063</td>\n",
       "      <td>-0.004632</td>\n",
       "      <td>-0.571274</td>\n",
       "      <td>0.362729</td>\n",
       "      <td>-0.569015</td>\n",
       "    </tr>\n",
       "    <tr>\n",
       "      <th>10</th>\n",
       "      <td>1.306143</td>\n",
       "      <td>0.551700</td>\n",
       "      <td>-0.458635</td>\n",
       "      <td>1.431860</td>\n",
       "      <td>-2.072625</td>\n",
       "    </tr>\n",
       "  </tbody>\n",
       "</table>\n",
       "</div>"
      ],
      "text/plain": [
       "           0         1         2         3         4\n",
       "0   0.176247 -2.366187 -1.661328 -0.919650  0.778643\n",
       "1   0.464449 -0.633439  1.397082  1.133217 -0.696861\n",
       "2  -0.695419 -0.226230 -1.985125 -0.143309  1.915521\n",
       "3  -1.227636 -0.543208  0.757297  1.749714  0.275690\n",
       "4  -0.629682 -0.984064  0.391784 -0.936299 -0.291280\n",
       "5  -1.336826  0.807996  0.186094  1.318127  0.551252\n",
       "6  -0.185977 -1.045222  0.487823  0.802348  0.623669\n",
       "7  -2.280539 -1.382598 -0.226239 -0.707665  0.160197\n",
       "8  -0.104400  1.799209 -1.762497 -0.494822 -0.184652\n",
       "9  -0.582063 -0.004632 -0.571274  0.362729 -0.569015\n",
       "10  1.306143  0.551700 -0.458635  1.431860 -2.072625"
      ]
     },
     "execution_count": 385,
     "metadata": {},
     "output_type": "execute_result"
    }
   ],
   "source": [
    "df"
   ]
  },
  {
   "cell_type": "code",
   "execution_count": 386,
   "metadata": {},
   "outputs": [
    {
     "data": {
      "text/plain": [
       "0   -1.227636\n",
       "1   -0.543208\n",
       "2    0.757297\n",
       "3    1.749714\n",
       "4    0.275690\n",
       "Name: 3, dtype: float64"
      ]
     },
     "execution_count": 386,
     "metadata": {},
     "output_type": "execute_result"
    }
   ],
   "source": [
    "df.loc[3]"
   ]
  },
  {
   "cell_type": "markdown",
   "metadata": {},
   "source": [
    "We can make a dataframe from a dictionary."
   ]
  },
  {
   "cell_type": "code",
   "execution_count": 387,
   "metadata": {},
   "outputs": [],
   "source": [
    "dic = {'Name':['Maria Callas','Freddie Mercury','Glenn Gould','Sergei Rachmaninoff'],\n",
    "      'Birthdate':['02/12/1923','05/09/1946','25/09/1932','01/04/1873'],\n",
    "      'Country':[['USA','Greece'],['UK'],['Canada'],['Russia']],\n",
    "      'Music type':['Soprano','Rock','Soloist','Symphony'],\n",
    "      'Album':[4,18,12,0]}"
   ]
  },
  {
   "cell_type": "code",
   "execution_count": 388,
   "metadata": {},
   "outputs": [],
   "source": [
    "df_music = pd.DataFrame(dic)"
   ]
  },
  {
   "cell_type": "code",
   "execution_count": 389,
   "metadata": {},
   "outputs": [
    {
     "data": {
      "text/html": [
       "<div>\n",
       "<style scoped>\n",
       "    .dataframe tbody tr th:only-of-type {\n",
       "        vertical-align: middle;\n",
       "    }\n",
       "\n",
       "    .dataframe tbody tr th {\n",
       "        vertical-align: top;\n",
       "    }\n",
       "\n",
       "    .dataframe thead th {\n",
       "        text-align: right;\n",
       "    }\n",
       "</style>\n",
       "<table border=\"1\" class=\"dataframe\">\n",
       "  <thead>\n",
       "    <tr style=\"text-align: right;\">\n",
       "      <th></th>\n",
       "      <th>Name</th>\n",
       "      <th>Birthdate</th>\n",
       "      <th>Country</th>\n",
       "      <th>Music type</th>\n",
       "      <th>Album</th>\n",
       "    </tr>\n",
       "  </thead>\n",
       "  <tbody>\n",
       "    <tr>\n",
       "      <th>0</th>\n",
       "      <td>Maria Callas</td>\n",
       "      <td>02/12/1923</td>\n",
       "      <td>[USA, Greece]</td>\n",
       "      <td>Soprano</td>\n",
       "      <td>4</td>\n",
       "    </tr>\n",
       "    <tr>\n",
       "      <th>1</th>\n",
       "      <td>Freddie Mercury</td>\n",
       "      <td>05/09/1946</td>\n",
       "      <td>[UK]</td>\n",
       "      <td>Rock</td>\n",
       "      <td>18</td>\n",
       "    </tr>\n",
       "    <tr>\n",
       "      <th>2</th>\n",
       "      <td>Glenn Gould</td>\n",
       "      <td>25/09/1932</td>\n",
       "      <td>[Canada]</td>\n",
       "      <td>Soloist</td>\n",
       "      <td>12</td>\n",
       "    </tr>\n",
       "    <tr>\n",
       "      <th>3</th>\n",
       "      <td>Sergei Rachmaninoff</td>\n",
       "      <td>01/04/1873</td>\n",
       "      <td>[Russia]</td>\n",
       "      <td>Symphony</td>\n",
       "      <td>0</td>\n",
       "    </tr>\n",
       "  </tbody>\n",
       "</table>\n",
       "</div>"
      ],
      "text/plain": [
       "                  Name   Birthdate        Country Music type  Album\n",
       "0         Maria Callas  02/12/1923  [USA, Greece]    Soprano      4\n",
       "1      Freddie Mercury  05/09/1946           [UK]       Rock     18\n",
       "2          Glenn Gould  25/09/1932       [Canada]    Soloist     12\n",
       "3  Sergei Rachmaninoff  01/04/1873       [Russia]   Symphony      0"
      ]
     },
     "execution_count": 389,
     "metadata": {},
     "output_type": "execute_result"
    }
   ],
   "source": [
    "df_music"
   ]
  },
  {
   "cell_type": "code",
   "execution_count": 390,
   "metadata": {},
   "outputs": [
    {
     "data": {
      "text/plain": [
       "0    [USA, Greece]\n",
       "1             [UK]\n",
       "2         [Canada]\n",
       "3         [Russia]\n",
       "Name: Country, dtype: object"
      ]
     },
     "execution_count": 390,
     "metadata": {},
     "output_type": "execute_result"
    }
   ],
   "source": [
    "df_music['Country']"
   ]
  },
  {
   "cell_type": "code",
   "execution_count": 391,
   "metadata": {},
   "outputs": [
    {
     "data": {
      "text/plain": [
       "Name           Maria Callas\n",
       "Birthdate        02/12/1923\n",
       "Country       [USA, Greece]\n",
       "Music type          Soprano\n",
       "Album                     4\n",
       "Name: 0, dtype: object"
      ]
     },
     "execution_count": 391,
     "metadata": {},
     "output_type": "execute_result"
    }
   ],
   "source": [
    "df_music.loc[0]"
   ]
  },
  {
   "cell_type": "markdown",
   "metadata": {},
   "source": [
    "We can perform slicing on dataframe using the attribute 'iloc'.  This is a slicing based on integer indexing, which is similar to the slicing on numpy array (see notebook on Numpy). "
   ]
  },
  {
   "cell_type": "code",
   "execution_count": 392,
   "metadata": {},
   "outputs": [
    {
     "data": {
      "text/html": [
       "<div>\n",
       "<style scoped>\n",
       "    .dataframe tbody tr th:only-of-type {\n",
       "        vertical-align: middle;\n",
       "    }\n",
       "\n",
       "    .dataframe tbody tr th {\n",
       "        vertical-align: top;\n",
       "    }\n",
       "\n",
       "    .dataframe thead th {\n",
       "        text-align: right;\n",
       "    }\n",
       "</style>\n",
       "<table border=\"1\" class=\"dataframe\">\n",
       "  <thead>\n",
       "    <tr style=\"text-align: right;\">\n",
       "      <th></th>\n",
       "      <th>Name</th>\n",
       "      <th>Birthdate</th>\n",
       "      <th>Country</th>\n",
       "      <th>Music type</th>\n",
       "      <th>Album</th>\n",
       "    </tr>\n",
       "  </thead>\n",
       "  <tbody>\n",
       "    <tr>\n",
       "      <th>0</th>\n",
       "      <td>Maria Callas</td>\n",
       "      <td>02/12/1923</td>\n",
       "      <td>[USA, Greece]</td>\n",
       "      <td>Soprano</td>\n",
       "      <td>4</td>\n",
       "    </tr>\n",
       "    <tr>\n",
       "      <th>1</th>\n",
       "      <td>Freddie Mercury</td>\n",
       "      <td>05/09/1946</td>\n",
       "      <td>[UK]</td>\n",
       "      <td>Rock</td>\n",
       "      <td>18</td>\n",
       "    </tr>\n",
       "    <tr>\n",
       "      <th>2</th>\n",
       "      <td>Glenn Gould</td>\n",
       "      <td>25/09/1932</td>\n",
       "      <td>[Canada]</td>\n",
       "      <td>Soloist</td>\n",
       "      <td>12</td>\n",
       "    </tr>\n",
       "    <tr>\n",
       "      <th>3</th>\n",
       "      <td>Sergei Rachmaninoff</td>\n",
       "      <td>01/04/1873</td>\n",
       "      <td>[Russia]</td>\n",
       "      <td>Symphony</td>\n",
       "      <td>0</td>\n",
       "    </tr>\n",
       "  </tbody>\n",
       "</table>\n",
       "</div>"
      ],
      "text/plain": [
       "                  Name   Birthdate        Country Music type  Album\n",
       "0         Maria Callas  02/12/1923  [USA, Greece]    Soprano      4\n",
       "1      Freddie Mercury  05/09/1946           [UK]       Rock     18\n",
       "2          Glenn Gould  25/09/1932       [Canada]    Soloist     12\n",
       "3  Sergei Rachmaninoff  01/04/1873       [Russia]   Symphony      0"
      ]
     },
     "execution_count": 392,
     "metadata": {},
     "output_type": "execute_result"
    }
   ],
   "source": [
    "df_music"
   ]
  },
  {
   "cell_type": "code",
   "execution_count": 393,
   "metadata": {},
   "outputs": [
    {
     "data": {
      "text/html": [
       "<div>\n",
       "<style scoped>\n",
       "    .dataframe tbody tr th:only-of-type {\n",
       "        vertical-align: middle;\n",
       "    }\n",
       "\n",
       "    .dataframe tbody tr th {\n",
       "        vertical-align: top;\n",
       "    }\n",
       "\n",
       "    .dataframe thead th {\n",
       "        text-align: right;\n",
       "    }\n",
       "</style>\n",
       "<table border=\"1\" class=\"dataframe\">\n",
       "  <thead>\n",
       "    <tr style=\"text-align: right;\">\n",
       "      <th></th>\n",
       "      <th>Name</th>\n",
       "      <th>Birthdate</th>\n",
       "      <th>Country</th>\n",
       "      <th>Music type</th>\n",
       "      <th>Album</th>\n",
       "    </tr>\n",
       "  </thead>\n",
       "  <tbody>\n",
       "    <tr>\n",
       "      <th>2</th>\n",
       "      <td>Glenn Gould</td>\n",
       "      <td>25/09/1932</td>\n",
       "      <td>[Canada]</td>\n",
       "      <td>Soloist</td>\n",
       "      <td>12</td>\n",
       "    </tr>\n",
       "    <tr>\n",
       "      <th>3</th>\n",
       "      <td>Sergei Rachmaninoff</td>\n",
       "      <td>01/04/1873</td>\n",
       "      <td>[Russia]</td>\n",
       "      <td>Symphony</td>\n",
       "      <td>0</td>\n",
       "    </tr>\n",
       "  </tbody>\n",
       "</table>\n",
       "</div>"
      ],
      "text/plain": [
       "                  Name   Birthdate   Country Music type  Album\n",
       "2          Glenn Gould  25/09/1932  [Canada]    Soloist     12\n",
       "3  Sergei Rachmaninoff  01/04/1873  [Russia]   Symphony      0"
      ]
     },
     "execution_count": 393,
     "metadata": {},
     "output_type": "execute_result"
    }
   ],
   "source": [
    "df_music.iloc[2:]"
   ]
  },
  {
   "cell_type": "code",
   "execution_count": 394,
   "metadata": {},
   "outputs": [],
   "source": [
    "col = df_music.iloc[2:,3]"
   ]
  },
  {
   "cell_type": "code",
   "execution_count": 395,
   "metadata": {},
   "outputs": [
    {
     "data": {
      "text/plain": [
       "2     Soloist\n",
       "3    Symphony\n",
       "Name: Music type, dtype: object"
      ]
     },
     "execution_count": 395,
     "metadata": {},
     "output_type": "execute_result"
    }
   ],
   "source": [
    "col"
   ]
  },
  {
   "cell_type": "code",
   "execution_count": 396,
   "metadata": {},
   "outputs": [
    {
     "data": {
      "text/plain": [
       "pandas.core.series.Series"
      ]
     },
     "execution_count": 396,
     "metadata": {},
     "output_type": "execute_result"
    }
   ],
   "source": [
    "type(col)"
   ]
  },
  {
   "cell_type": "markdown",
   "metadata": {},
   "source": [
    "We can perform slicing on dataframe using the attribute 'loc'.  This is a slicing based on label indexing. Try the following example to understand how it works."
   ]
  },
  {
   "cell_type": "code",
   "execution_count": 397,
   "metadata": {},
   "outputs": [
    {
     "data": {
      "text/html": [
       "<div>\n",
       "<style scoped>\n",
       "    .dataframe tbody tr th:only-of-type {\n",
       "        vertical-align: middle;\n",
       "    }\n",
       "\n",
       "    .dataframe tbody tr th {\n",
       "        vertical-align: top;\n",
       "    }\n",
       "\n",
       "    .dataframe thead th {\n",
       "        text-align: right;\n",
       "    }\n",
       "</style>\n",
       "<table border=\"1\" class=\"dataframe\">\n",
       "  <thead>\n",
       "    <tr style=\"text-align: right;\">\n",
       "      <th></th>\n",
       "      <th>Name</th>\n",
       "      <th>Birthdate</th>\n",
       "      <th>Country</th>\n",
       "      <th>Music type</th>\n",
       "      <th>Album</th>\n",
       "    </tr>\n",
       "  </thead>\n",
       "  <tbody>\n",
       "    <tr>\n",
       "      <th>0</th>\n",
       "      <td>Maria Callas</td>\n",
       "      <td>02/12/1923</td>\n",
       "      <td>[USA, Greece]</td>\n",
       "      <td>Soprano</td>\n",
       "      <td>4</td>\n",
       "    </tr>\n",
       "    <tr>\n",
       "      <th>1</th>\n",
       "      <td>Freddie Mercury</td>\n",
       "      <td>05/09/1946</td>\n",
       "      <td>[UK]</td>\n",
       "      <td>Rock</td>\n",
       "      <td>18</td>\n",
       "    </tr>\n",
       "    <tr>\n",
       "      <th>2</th>\n",
       "      <td>Glenn Gould</td>\n",
       "      <td>25/09/1932</td>\n",
       "      <td>[Canada]</td>\n",
       "      <td>Soloist</td>\n",
       "      <td>12</td>\n",
       "    </tr>\n",
       "    <tr>\n",
       "      <th>3</th>\n",
       "      <td>Sergei Rachmaninoff</td>\n",
       "      <td>01/04/1873</td>\n",
       "      <td>[Russia]</td>\n",
       "      <td>Symphony</td>\n",
       "      <td>0</td>\n",
       "    </tr>\n",
       "  </tbody>\n",
       "</table>\n",
       "</div>"
      ],
      "text/plain": [
       "                  Name   Birthdate        Country Music type  Album\n",
       "0         Maria Callas  02/12/1923  [USA, Greece]    Soprano      4\n",
       "1      Freddie Mercury  05/09/1946           [UK]       Rock     18\n",
       "2          Glenn Gould  25/09/1932       [Canada]    Soloist     12\n",
       "3  Sergei Rachmaninoff  01/04/1873       [Russia]   Symphony      0"
      ]
     },
     "execution_count": 397,
     "metadata": {},
     "output_type": "execute_result"
    }
   ],
   "source": [
    "df_music"
   ]
  },
  {
   "cell_type": "code",
   "execution_count": 398,
   "metadata": {},
   "outputs": [
    {
     "data": {
      "text/plain": [
       "Country       [UK]\n",
       "Music type    Rock\n",
       "Album           18\n",
       "Name: 1, dtype: object"
      ]
     },
     "execution_count": 398,
     "metadata": {},
     "output_type": "execute_result"
    }
   ],
   "source": [
    "df_music.loc[1,'Country':]"
   ]
  },
  {
   "cell_type": "code",
   "execution_count": 399,
   "metadata": {},
   "outputs": [
    {
     "data": {
      "text/html": [
       "<div>\n",
       "<style scoped>\n",
       "    .dataframe tbody tr th:only-of-type {\n",
       "        vertical-align: middle;\n",
       "    }\n",
       "\n",
       "    .dataframe tbody tr th {\n",
       "        vertical-align: top;\n",
       "    }\n",
       "\n",
       "    .dataframe thead th {\n",
       "        text-align: right;\n",
       "    }\n",
       "</style>\n",
       "<table border=\"1\" class=\"dataframe\">\n",
       "  <thead>\n",
       "    <tr style=\"text-align: right;\">\n",
       "      <th></th>\n",
       "      <th>Name</th>\n",
       "      <th>Birthdate</th>\n",
       "      <th>Country</th>\n",
       "    </tr>\n",
       "  </thead>\n",
       "  <tbody>\n",
       "    <tr>\n",
       "      <th>0</th>\n",
       "      <td>Maria Callas</td>\n",
       "      <td>02/12/1923</td>\n",
       "      <td>[USA, Greece]</td>\n",
       "    </tr>\n",
       "    <tr>\n",
       "      <th>1</th>\n",
       "      <td>Freddie Mercury</td>\n",
       "      <td>05/09/1946</td>\n",
       "      <td>[UK]</td>\n",
       "    </tr>\n",
       "    <tr>\n",
       "      <th>2</th>\n",
       "      <td>Glenn Gould</td>\n",
       "      <td>25/09/1932</td>\n",
       "      <td>[Canada]</td>\n",
       "    </tr>\n",
       "    <tr>\n",
       "      <th>3</th>\n",
       "      <td>Sergei Rachmaninoff</td>\n",
       "      <td>01/04/1873</td>\n",
       "      <td>[Russia]</td>\n",
       "    </tr>\n",
       "  </tbody>\n",
       "</table>\n",
       "</div>"
      ],
      "text/plain": [
       "                  Name   Birthdate        Country\n",
       "0         Maria Callas  02/12/1923  [USA, Greece]\n",
       "1      Freddie Mercury  05/09/1946           [UK]\n",
       "2          Glenn Gould  25/09/1932       [Canada]\n",
       "3  Sergei Rachmaninoff  01/04/1873       [Russia]"
      ]
     },
     "execution_count": 399,
     "metadata": {},
     "output_type": "execute_result"
    }
   ],
   "source": [
    "df_music.loc[:,'Name':'Country']"
   ]
  },
  {
   "cell_type": "code",
   "execution_count": 400,
   "metadata": {},
   "outputs": [
    {
     "data": {
      "text/plain": [
       "Name          Sergei Rachmaninoff\n",
       "Birthdate              01/04/1873\n",
       "Country                  [Russia]\n",
       "Music type               Symphony\n",
       "Album                           0\n",
       "Name: 3, dtype: object"
      ]
     },
     "execution_count": 400,
     "metadata": {},
     "output_type": "execute_result"
    }
   ],
   "source": [
    "df_music.loc[3]"
   ]
  },
  {
   "cell_type": "code",
   "execution_count": 401,
   "metadata": {},
   "outputs": [
    {
     "data": {
      "text/plain": [
       "0    False\n",
       "1     True\n",
       "2     True\n",
       "3    False\n",
       "Name: Album, dtype: bool"
      ]
     },
     "execution_count": 401,
     "metadata": {},
     "output_type": "execute_result"
    }
   ],
   "source": [
    "df_music.loc[:,'Album'] > 5"
   ]
  },
  {
   "cell_type": "markdown",
   "metadata": {},
   "source": [
    "### 2) Some attributes\n",
    "We have already seen attributes 'iloc' and 'loc' for data access and slicing. In the following, we list some useful attributes. For a complete list, please refer to pandas' official documentation: https://pandas.pydata.org/pandas-docs/stable/reference/api/pandas.DataFrame.html#pandas.DataFrame"
   ]
  },
  {
   "cell_type": "code",
   "execution_count": 402,
   "metadata": {},
   "outputs": [
    {
     "data": {
      "text/html": [
       "<div>\n",
       "<style scoped>\n",
       "    .dataframe tbody tr th:only-of-type {\n",
       "        vertical-align: middle;\n",
       "    }\n",
       "\n",
       "    .dataframe tbody tr th {\n",
       "        vertical-align: top;\n",
       "    }\n",
       "\n",
       "    .dataframe thead th {\n",
       "        text-align: right;\n",
       "    }\n",
       "</style>\n",
       "<table border=\"1\" class=\"dataframe\">\n",
       "  <thead>\n",
       "    <tr style=\"text-align: right;\">\n",
       "      <th></th>\n",
       "      <th>Name</th>\n",
       "      <th>Birthdate</th>\n",
       "      <th>Country</th>\n",
       "      <th>Music type</th>\n",
       "      <th>Album</th>\n",
       "    </tr>\n",
       "  </thead>\n",
       "  <tbody>\n",
       "    <tr>\n",
       "      <th>0</th>\n",
       "      <td>Maria Callas</td>\n",
       "      <td>02/12/1923</td>\n",
       "      <td>[USA, Greece]</td>\n",
       "      <td>Soprano</td>\n",
       "      <td>4</td>\n",
       "    </tr>\n",
       "    <tr>\n",
       "      <th>1</th>\n",
       "      <td>Freddie Mercury</td>\n",
       "      <td>05/09/1946</td>\n",
       "      <td>[UK]</td>\n",
       "      <td>Rock</td>\n",
       "      <td>18</td>\n",
       "    </tr>\n",
       "    <tr>\n",
       "      <th>2</th>\n",
       "      <td>Glenn Gould</td>\n",
       "      <td>25/09/1932</td>\n",
       "      <td>[Canada]</td>\n",
       "      <td>Soloist</td>\n",
       "      <td>12</td>\n",
       "    </tr>\n",
       "    <tr>\n",
       "      <th>3</th>\n",
       "      <td>Sergei Rachmaninoff</td>\n",
       "      <td>01/04/1873</td>\n",
       "      <td>[Russia]</td>\n",
       "      <td>Symphony</td>\n",
       "      <td>0</td>\n",
       "    </tr>\n",
       "  </tbody>\n",
       "</table>\n",
       "</div>"
      ],
      "text/plain": [
       "                  Name   Birthdate        Country Music type  Album\n",
       "0         Maria Callas  02/12/1923  [USA, Greece]    Soprano      4\n",
       "1      Freddie Mercury  05/09/1946           [UK]       Rock     18\n",
       "2          Glenn Gould  25/09/1932       [Canada]    Soloist     12\n",
       "3  Sergei Rachmaninoff  01/04/1873       [Russia]   Symphony      0"
      ]
     },
     "execution_count": 402,
     "metadata": {},
     "output_type": "execute_result"
    }
   ],
   "source": [
    "df_music"
   ]
  },
  {
   "cell_type": "markdown",
   "metadata": {},
   "source": [
    "Attribute 'dtypes' lists the types of the data. Note that data in the same column have the same type."
   ]
  },
  {
   "cell_type": "code",
   "execution_count": 403,
   "metadata": {},
   "outputs": [
    {
     "data": {
      "text/plain": [
       "Name          object\n",
       "Birthdate     object\n",
       "Country       object\n",
       "Music type    object\n",
       "Album          int64\n",
       "dtype: object"
      ]
     },
     "execution_count": 403,
     "metadata": {},
     "output_type": "execute_result"
    }
   ],
   "source": [
    "df_music.dtypes"
   ]
  },
  {
   "cell_type": "markdown",
   "metadata": {},
   "source": [
    "Attribute 'T' transpose the rows and columns."
   ]
  },
  {
   "cell_type": "code",
   "execution_count": 404,
   "metadata": {},
   "outputs": [
    {
     "data": {
      "text/html": [
       "<div>\n",
       "<style scoped>\n",
       "    .dataframe tbody tr th:only-of-type {\n",
       "        vertical-align: middle;\n",
       "    }\n",
       "\n",
       "    .dataframe tbody tr th {\n",
       "        vertical-align: top;\n",
       "    }\n",
       "\n",
       "    .dataframe thead th {\n",
       "        text-align: right;\n",
       "    }\n",
       "</style>\n",
       "<table border=\"1\" class=\"dataframe\">\n",
       "  <thead>\n",
       "    <tr style=\"text-align: right;\">\n",
       "      <th></th>\n",
       "      <th>0</th>\n",
       "      <th>1</th>\n",
       "      <th>2</th>\n",
       "      <th>3</th>\n",
       "    </tr>\n",
       "  </thead>\n",
       "  <tbody>\n",
       "    <tr>\n",
       "      <th>Name</th>\n",
       "      <td>Maria Callas</td>\n",
       "      <td>Freddie Mercury</td>\n",
       "      <td>Glenn Gould</td>\n",
       "      <td>Sergei Rachmaninoff</td>\n",
       "    </tr>\n",
       "    <tr>\n",
       "      <th>Birthdate</th>\n",
       "      <td>02/12/1923</td>\n",
       "      <td>05/09/1946</td>\n",
       "      <td>25/09/1932</td>\n",
       "      <td>01/04/1873</td>\n",
       "    </tr>\n",
       "    <tr>\n",
       "      <th>Country</th>\n",
       "      <td>[USA, Greece]</td>\n",
       "      <td>[UK]</td>\n",
       "      <td>[Canada]</td>\n",
       "      <td>[Russia]</td>\n",
       "    </tr>\n",
       "    <tr>\n",
       "      <th>Music type</th>\n",
       "      <td>Soprano</td>\n",
       "      <td>Rock</td>\n",
       "      <td>Soloist</td>\n",
       "      <td>Symphony</td>\n",
       "    </tr>\n",
       "    <tr>\n",
       "      <th>Album</th>\n",
       "      <td>4</td>\n",
       "      <td>18</td>\n",
       "      <td>12</td>\n",
       "      <td>0</td>\n",
       "    </tr>\n",
       "  </tbody>\n",
       "</table>\n",
       "</div>"
      ],
      "text/plain": [
       "                        0                1            2                    3\n",
       "Name         Maria Callas  Freddie Mercury  Glenn Gould  Sergei Rachmaninoff\n",
       "Birthdate      02/12/1923       05/09/1946   25/09/1932           01/04/1873\n",
       "Country     [USA, Greece]             [UK]     [Canada]             [Russia]\n",
       "Music type        Soprano             Rock      Soloist             Symphony\n",
       "Album                   4               18           12                    0"
      ]
     },
     "execution_count": 404,
     "metadata": {},
     "output_type": "execute_result"
    }
   ],
   "source": [
    "df_music.T"
   ]
  },
  {
   "cell_type": "code",
   "execution_count": 405,
   "metadata": {},
   "outputs": [
    {
     "data": {
      "text/html": [
       "<div>\n",
       "<style scoped>\n",
       "    .dataframe tbody tr th:only-of-type {\n",
       "        vertical-align: middle;\n",
       "    }\n",
       "\n",
       "    .dataframe tbody tr th {\n",
       "        vertical-align: top;\n",
       "    }\n",
       "\n",
       "    .dataframe thead th {\n",
       "        text-align: right;\n",
       "    }\n",
       "</style>\n",
       "<table border=\"1\" class=\"dataframe\">\n",
       "  <thead>\n",
       "    <tr style=\"text-align: right;\">\n",
       "      <th></th>\n",
       "      <th>Name</th>\n",
       "      <th>Birthdate</th>\n",
       "      <th>Country</th>\n",
       "      <th>Music type</th>\n",
       "      <th>Album</th>\n",
       "    </tr>\n",
       "  </thead>\n",
       "  <tbody>\n",
       "    <tr>\n",
       "      <th>0</th>\n",
       "      <td>Maria Callas</td>\n",
       "      <td>02/12/1923</td>\n",
       "      <td>[USA, Greece]</td>\n",
       "      <td>Soprano</td>\n",
       "      <td>4</td>\n",
       "    </tr>\n",
       "    <tr>\n",
       "      <th>1</th>\n",
       "      <td>Freddie Mercury</td>\n",
       "      <td>05/09/1946</td>\n",
       "      <td>[UK]</td>\n",
       "      <td>Rock</td>\n",
       "      <td>18</td>\n",
       "    </tr>\n",
       "    <tr>\n",
       "      <th>2</th>\n",
       "      <td>Glenn Gould</td>\n",
       "      <td>25/09/1932</td>\n",
       "      <td>[Canada]</td>\n",
       "      <td>Soloist</td>\n",
       "      <td>12</td>\n",
       "    </tr>\n",
       "    <tr>\n",
       "      <th>3</th>\n",
       "      <td>Sergei Rachmaninoff</td>\n",
       "      <td>01/04/1873</td>\n",
       "      <td>[Russia]</td>\n",
       "      <td>Symphony</td>\n",
       "      <td>0</td>\n",
       "    </tr>\n",
       "  </tbody>\n",
       "</table>\n",
       "</div>"
      ],
      "text/plain": [
       "                  Name   Birthdate        Country Music type  Album\n",
       "0         Maria Callas  02/12/1923  [USA, Greece]    Soprano      4\n",
       "1      Freddie Mercury  05/09/1946           [UK]       Rock     18\n",
       "2          Glenn Gould  25/09/1932       [Canada]    Soloist     12\n",
       "3  Sergei Rachmaninoff  01/04/1873       [Russia]   Symphony      0"
      ]
     },
     "execution_count": 405,
     "metadata": {},
     "output_type": "execute_result"
    }
   ],
   "source": [
    "df_music"
   ]
  },
  {
   "cell_type": "markdown",
   "metadata": {},
   "source": [
    "Attribute 'shape' gives the dimention of the dataframe."
   ]
  },
  {
   "cell_type": "code",
   "execution_count": 406,
   "metadata": {},
   "outputs": [
    {
     "data": {
      "text/plain": [
       "(4, 5)"
      ]
     },
     "execution_count": 406,
     "metadata": {},
     "output_type": "execute_result"
    }
   ],
   "source": [
    "df_music.shape"
   ]
  },
  {
   "cell_type": "markdown",
   "metadata": {},
   "source": [
    "Attribute 'size' gives the number of elements in the dataframe."
   ]
  },
  {
   "cell_type": "code",
   "execution_count": 407,
   "metadata": {},
   "outputs": [
    {
     "data": {
      "text/plain": [
       "20"
      ]
     },
     "execution_count": 407,
     "metadata": {},
     "output_type": "execute_result"
    }
   ],
   "source": [
    "df_music.size"
   ]
  },
  {
   "cell_type": "markdown",
   "metadata": {},
   "source": [
    "To convert a dataframe to Numpy array, use attribute 'values'. In this case, all elements are forced to have the same type (recall that Numpy array is a homogenous data structure)."
   ]
  },
  {
   "cell_type": "code",
   "execution_count": 408,
   "metadata": {},
   "outputs": [
    {
     "data": {
      "text/html": [
       "<div>\n",
       "<style scoped>\n",
       "    .dataframe tbody tr th:only-of-type {\n",
       "        vertical-align: middle;\n",
       "    }\n",
       "\n",
       "    .dataframe tbody tr th {\n",
       "        vertical-align: top;\n",
       "    }\n",
       "\n",
       "    .dataframe thead th {\n",
       "        text-align: right;\n",
       "    }\n",
       "</style>\n",
       "<table border=\"1\" class=\"dataframe\">\n",
       "  <thead>\n",
       "    <tr style=\"text-align: right;\">\n",
       "      <th></th>\n",
       "      <th>0</th>\n",
       "      <th>1</th>\n",
       "      <th>2</th>\n",
       "      <th>3</th>\n",
       "      <th>4</th>\n",
       "    </tr>\n",
       "  </thead>\n",
       "  <tbody>\n",
       "    <tr>\n",
       "      <th>0</th>\n",
       "      <td>0.176247</td>\n",
       "      <td>-2.366187</td>\n",
       "      <td>-1.661328</td>\n",
       "      <td>-0.919650</td>\n",
       "      <td>0.778643</td>\n",
       "    </tr>\n",
       "    <tr>\n",
       "      <th>1</th>\n",
       "      <td>0.464449</td>\n",
       "      <td>-0.633439</td>\n",
       "      <td>1.397082</td>\n",
       "      <td>1.133217</td>\n",
       "      <td>-0.696861</td>\n",
       "    </tr>\n",
       "    <tr>\n",
       "      <th>2</th>\n",
       "      <td>-0.695419</td>\n",
       "      <td>-0.226230</td>\n",
       "      <td>-1.985125</td>\n",
       "      <td>-0.143309</td>\n",
       "      <td>1.915521</td>\n",
       "    </tr>\n",
       "    <tr>\n",
       "      <th>3</th>\n",
       "      <td>-1.227636</td>\n",
       "      <td>-0.543208</td>\n",
       "      <td>0.757297</td>\n",
       "      <td>1.749714</td>\n",
       "      <td>0.275690</td>\n",
       "    </tr>\n",
       "    <tr>\n",
       "      <th>4</th>\n",
       "      <td>-0.629682</td>\n",
       "      <td>-0.984064</td>\n",
       "      <td>0.391784</td>\n",
       "      <td>-0.936299</td>\n",
       "      <td>-0.291280</td>\n",
       "    </tr>\n",
       "    <tr>\n",
       "      <th>5</th>\n",
       "      <td>-1.336826</td>\n",
       "      <td>0.807996</td>\n",
       "      <td>0.186094</td>\n",
       "      <td>1.318127</td>\n",
       "      <td>0.551252</td>\n",
       "    </tr>\n",
       "    <tr>\n",
       "      <th>6</th>\n",
       "      <td>-0.185977</td>\n",
       "      <td>-1.045222</td>\n",
       "      <td>0.487823</td>\n",
       "      <td>0.802348</td>\n",
       "      <td>0.623669</td>\n",
       "    </tr>\n",
       "    <tr>\n",
       "      <th>7</th>\n",
       "      <td>-2.280539</td>\n",
       "      <td>-1.382598</td>\n",
       "      <td>-0.226239</td>\n",
       "      <td>-0.707665</td>\n",
       "      <td>0.160197</td>\n",
       "    </tr>\n",
       "    <tr>\n",
       "      <th>8</th>\n",
       "      <td>-0.104400</td>\n",
       "      <td>1.799209</td>\n",
       "      <td>-1.762497</td>\n",
       "      <td>-0.494822</td>\n",
       "      <td>-0.184652</td>\n",
       "    </tr>\n",
       "    <tr>\n",
       "      <th>9</th>\n",
       "      <td>-0.582063</td>\n",
       "      <td>-0.004632</td>\n",
       "      <td>-0.571274</td>\n",
       "      <td>0.362729</td>\n",
       "      <td>-0.569015</td>\n",
       "    </tr>\n",
       "    <tr>\n",
       "      <th>10</th>\n",
       "      <td>1.306143</td>\n",
       "      <td>0.551700</td>\n",
       "      <td>-0.458635</td>\n",
       "      <td>1.431860</td>\n",
       "      <td>-2.072625</td>\n",
       "    </tr>\n",
       "  </tbody>\n",
       "</table>\n",
       "</div>"
      ],
      "text/plain": [
       "           0         1         2         3         4\n",
       "0   0.176247 -2.366187 -1.661328 -0.919650  0.778643\n",
       "1   0.464449 -0.633439  1.397082  1.133217 -0.696861\n",
       "2  -0.695419 -0.226230 -1.985125 -0.143309  1.915521\n",
       "3  -1.227636 -0.543208  0.757297  1.749714  0.275690\n",
       "4  -0.629682 -0.984064  0.391784 -0.936299 -0.291280\n",
       "5  -1.336826  0.807996  0.186094  1.318127  0.551252\n",
       "6  -0.185977 -1.045222  0.487823  0.802348  0.623669\n",
       "7  -2.280539 -1.382598 -0.226239 -0.707665  0.160197\n",
       "8  -0.104400  1.799209 -1.762497 -0.494822 -0.184652\n",
       "9  -0.582063 -0.004632 -0.571274  0.362729 -0.569015\n",
       "10  1.306143  0.551700 -0.458635  1.431860 -2.072625"
      ]
     },
     "execution_count": 408,
     "metadata": {},
     "output_type": "execute_result"
    }
   ],
   "source": [
    "df"
   ]
  },
  {
   "cell_type": "code",
   "execution_count": 409,
   "metadata": {},
   "outputs": [
    {
     "data": {
      "text/plain": [
       "array([[ 0.17624655, -2.36618669, -1.6613278 , -0.91964968,  0.77864307],\n",
       "       [ 0.46444891, -0.63343891,  1.39708221,  1.13321689, -0.69686104],\n",
       "       [-0.69541867, -0.22623045, -1.98512526, -0.14330925,  1.91552056],\n",
       "       [-1.22763628, -0.54320764,  0.75729681,  1.74971382,  0.27569009],\n",
       "       [-0.62968223, -0.98406422,  0.39178394, -0.93629867, -0.29128006],\n",
       "       [-1.33682612,  0.80799573,  0.18609417,  1.31812747,  0.55125245],\n",
       "       [-0.18597749, -1.04522176,  0.48782312,  0.80234845,  0.62366888],\n",
       "       [-2.28053876, -1.38259764, -0.22623853, -0.70766519,  0.16019655],\n",
       "       [-0.10439981,  1.79920871, -1.7624967 , -0.49482174, -0.18465247],\n",
       "       [-0.58206285, -0.00463219, -0.57127427,  0.36272854, -0.56901456],\n",
       "       [ 1.30614339,  0.55170003, -0.4586354 ,  1.43186035, -2.07262468]])"
      ]
     },
     "execution_count": 409,
     "metadata": {},
     "output_type": "execute_result"
    }
   ],
   "source": [
    "df.values"
   ]
  },
  {
   "cell_type": "code",
   "execution_count": 411,
   "metadata": {},
   "outputs": [],
   "source": [
    "np_music = df_music.values"
   ]
  },
  {
   "cell_type": "markdown",
   "metadata": {},
   "source": [
    "Dataframe df_music have columns with mixed types (string, list, integers). In this case, all element are converted to a broader type called object. "
   ]
  },
  {
   "cell_type": "code",
   "execution_count": 412,
   "metadata": {},
   "outputs": [
    {
     "data": {
      "text/plain": [
       "array([['Maria Callas', '02/12/1923', list(['USA', 'Greece']), 'Soprano',\n",
       "        4],\n",
       "       ['Freddie Mercury', '05/09/1946', list(['UK']), 'Rock', 18],\n",
       "       ['Glenn Gould', '25/09/1932', list(['Canada']), 'Soloist', 12],\n",
       "       ['Sergei Rachmaninoff', '01/04/1873', list(['Russia']),\n",
       "        'Symphony', 0]], dtype=object)"
      ]
     },
     "execution_count": 412,
     "metadata": {},
     "output_type": "execute_result"
    }
   ],
   "source": [
    "np_music "
   ]
  },
  {
   "cell_type": "markdown",
   "metadata": {},
   "source": [
    "Also, we can use the column name as attribute!"
   ]
  },
  {
   "cell_type": "code",
   "execution_count": 413,
   "metadata": {},
   "outputs": [
    {
     "data": {
      "text/plain": [
       "0           Maria Callas\n",
       "1        Freddie Mercury\n",
       "2            Glenn Gould\n",
       "3    Sergei Rachmaninoff\n",
       "Name: Name, dtype: object"
      ]
     },
     "execution_count": 413,
     "metadata": {},
     "output_type": "execute_result"
    }
   ],
   "source": [
    "df_music.Name"
   ]
  },
  {
   "cell_type": "code",
   "execution_count": 414,
   "metadata": {},
   "outputs": [
    {
     "data": {
      "text/plain": [
       "0     4\n",
       "1    18\n",
       "2    12\n",
       "3     0\n",
       "Name: Album, dtype: int64"
      ]
     },
     "execution_count": 414,
     "metadata": {},
     "output_type": "execute_result"
    }
   ],
   "source": [
    "df_music.Album"
   ]
  },
  {
   "cell_type": "markdown",
   "metadata": {},
   "source": [
    "The attributes 'columns' and 'index' gives the labels of dataframe columns and rows, respectively."
   ]
  },
  {
   "cell_type": "code",
   "execution_count": 415,
   "metadata": {},
   "outputs": [
    {
     "data": {
      "text/plain": [
       "Index(['Name', 'Birthdate', 'Country', 'Music type', 'Album'], dtype='object')"
      ]
     },
     "execution_count": 415,
     "metadata": {},
     "output_type": "execute_result"
    }
   ],
   "source": [
    "df_music.columns"
   ]
  },
  {
   "cell_type": "code",
   "execution_count": 416,
   "metadata": {},
   "outputs": [
    {
     "data": {
      "text/plain": [
       "RangeIndex(start=0, stop=4, step=1)"
      ]
     },
     "execution_count": 416,
     "metadata": {},
     "output_type": "execute_result"
    }
   ],
   "source": [
    "df_music.index"
   ]
  },
  {
   "cell_type": "markdown",
   "metadata": {},
   "source": [
    "### 3) Some methods\n",
    "In the following, we list some useful methods (functions) to work with dataframe objects. For a complete list, please refer to pandas' official documentation: https://pandas.pydata.org/pandas-docs/stable/reference/api/pandas.DataFrame.html#pandas.DataFrame"
   ]
  },
  {
   "cell_type": "code",
   "execution_count": 417,
   "metadata": {},
   "outputs": [],
   "source": [
    "arr = np.random.randn(400, 10)"
   ]
  },
  {
   "cell_type": "code",
   "execution_count": 418,
   "metadata": {},
   "outputs": [],
   "source": [
    "columns = ['A','B','C','D','E','F','G','H','I','J']"
   ]
  },
  {
   "cell_type": "code",
   "execution_count": 419,
   "metadata": {},
   "outputs": [],
   "source": [
    "data = pd.DataFrame(arr, index = None, columns = columns)"
   ]
  },
  {
   "cell_type": "markdown",
   "metadata": {},
   "source": [
    "#### 3.1) Basic statistics"
   ]
  },
  {
   "cell_type": "markdown",
   "metadata": {},
   "source": [
    "When the data is too large, we use 'head()' to display a section of the dataframe, i.e. the 5 first rows. We use 'head(n)' to display the $n$ first rows."
   ]
  },
  {
   "cell_type": "code",
   "execution_count": 420,
   "metadata": {},
   "outputs": [
    {
     "data": {
      "text/html": [
       "<div>\n",
       "<style scoped>\n",
       "    .dataframe tbody tr th:only-of-type {\n",
       "        vertical-align: middle;\n",
       "    }\n",
       "\n",
       "    .dataframe tbody tr th {\n",
       "        vertical-align: top;\n",
       "    }\n",
       "\n",
       "    .dataframe thead th {\n",
       "        text-align: right;\n",
       "    }\n",
       "</style>\n",
       "<table border=\"1\" class=\"dataframe\">\n",
       "  <thead>\n",
       "    <tr style=\"text-align: right;\">\n",
       "      <th></th>\n",
       "      <th>A</th>\n",
       "      <th>B</th>\n",
       "      <th>C</th>\n",
       "      <th>D</th>\n",
       "      <th>E</th>\n",
       "      <th>F</th>\n",
       "      <th>G</th>\n",
       "      <th>H</th>\n",
       "      <th>I</th>\n",
       "      <th>J</th>\n",
       "    </tr>\n",
       "  </thead>\n",
       "  <tbody>\n",
       "    <tr>\n",
       "      <th>0</th>\n",
       "      <td>-0.508419</td>\n",
       "      <td>-0.809501</td>\n",
       "      <td>0.464212</td>\n",
       "      <td>0.004010</td>\n",
       "      <td>-2.591329</td>\n",
       "      <td>-0.629943</td>\n",
       "      <td>-1.028110</td>\n",
       "      <td>0.071180</td>\n",
       "      <td>-0.352970</td>\n",
       "      <td>-0.166813</td>\n",
       "    </tr>\n",
       "    <tr>\n",
       "      <th>1</th>\n",
       "      <td>0.458703</td>\n",
       "      <td>-0.741903</td>\n",
       "      <td>-0.222123</td>\n",
       "      <td>-0.165650</td>\n",
       "      <td>0.812513</td>\n",
       "      <td>-0.607341</td>\n",
       "      <td>-1.434015</td>\n",
       "      <td>-0.339093</td>\n",
       "      <td>0.841057</td>\n",
       "      <td>-0.205175</td>\n",
       "    </tr>\n",
       "    <tr>\n",
       "      <th>2</th>\n",
       "      <td>-0.421503</td>\n",
       "      <td>0.802356</td>\n",
       "      <td>0.982811</td>\n",
       "      <td>-0.327560</td>\n",
       "      <td>-1.432869</td>\n",
       "      <td>-0.611179</td>\n",
       "      <td>-0.211967</td>\n",
       "      <td>-0.794308</td>\n",
       "      <td>-0.491659</td>\n",
       "      <td>-0.842206</td>\n",
       "    </tr>\n",
       "    <tr>\n",
       "      <th>3</th>\n",
       "      <td>0.653125</td>\n",
       "      <td>-0.156830</td>\n",
       "      <td>-2.315100</td>\n",
       "      <td>-0.465468</td>\n",
       "      <td>-0.274741</td>\n",
       "      <td>-1.484076</td>\n",
       "      <td>-0.756861</td>\n",
       "      <td>-0.566303</td>\n",
       "      <td>0.258462</td>\n",
       "      <td>1.110805</td>\n",
       "    </tr>\n",
       "    <tr>\n",
       "      <th>4</th>\n",
       "      <td>-1.375795</td>\n",
       "      <td>-0.518241</td>\n",
       "      <td>-2.202036</td>\n",
       "      <td>0.496923</td>\n",
       "      <td>-0.591149</td>\n",
       "      <td>-0.369657</td>\n",
       "      <td>-0.090341</td>\n",
       "      <td>-0.035255</td>\n",
       "      <td>0.758453</td>\n",
       "      <td>-1.157040</td>\n",
       "    </tr>\n",
       "  </tbody>\n",
       "</table>\n",
       "</div>"
      ],
      "text/plain": [
       "          A         B         C         D         E         F         G  \\\n",
       "0 -0.508419 -0.809501  0.464212  0.004010 -2.591329 -0.629943 -1.028110   \n",
       "1  0.458703 -0.741903 -0.222123 -0.165650  0.812513 -0.607341 -1.434015   \n",
       "2 -0.421503  0.802356  0.982811 -0.327560 -1.432869 -0.611179 -0.211967   \n",
       "3  0.653125 -0.156830 -2.315100 -0.465468 -0.274741 -1.484076 -0.756861   \n",
       "4 -1.375795 -0.518241 -2.202036  0.496923 -0.591149 -0.369657 -0.090341   \n",
       "\n",
       "          H         I         J  \n",
       "0  0.071180 -0.352970 -0.166813  \n",
       "1 -0.339093  0.841057 -0.205175  \n",
       "2 -0.794308 -0.491659 -0.842206  \n",
       "3 -0.566303  0.258462  1.110805  \n",
       "4 -0.035255  0.758453 -1.157040  "
      ]
     },
     "execution_count": 420,
     "metadata": {},
     "output_type": "execute_result"
    }
   ],
   "source": [
    "data.head()"
   ]
  },
  {
   "cell_type": "code",
   "execution_count": 421,
   "metadata": {},
   "outputs": [
    {
     "data": {
      "text/html": [
       "<div>\n",
       "<style scoped>\n",
       "    .dataframe tbody tr th:only-of-type {\n",
       "        vertical-align: middle;\n",
       "    }\n",
       "\n",
       "    .dataframe tbody tr th {\n",
       "        vertical-align: top;\n",
       "    }\n",
       "\n",
       "    .dataframe thead th {\n",
       "        text-align: right;\n",
       "    }\n",
       "</style>\n",
       "<table border=\"1\" class=\"dataframe\">\n",
       "  <thead>\n",
       "    <tr style=\"text-align: right;\">\n",
       "      <th></th>\n",
       "      <th>A</th>\n",
       "      <th>B</th>\n",
       "      <th>C</th>\n",
       "      <th>D</th>\n",
       "      <th>E</th>\n",
       "      <th>F</th>\n",
       "      <th>G</th>\n",
       "      <th>H</th>\n",
       "      <th>I</th>\n",
       "      <th>J</th>\n",
       "    </tr>\n",
       "  </thead>\n",
       "  <tbody>\n",
       "    <tr>\n",
       "      <th>0</th>\n",
       "      <td>-0.508419</td>\n",
       "      <td>-0.809501</td>\n",
       "      <td>0.464212</td>\n",
       "      <td>0.00401</td>\n",
       "      <td>-2.591329</td>\n",
       "      <td>-0.629943</td>\n",
       "      <td>-1.028110</td>\n",
       "      <td>0.071180</td>\n",
       "      <td>-0.352970</td>\n",
       "      <td>-0.166813</td>\n",
       "    </tr>\n",
       "    <tr>\n",
       "      <th>1</th>\n",
       "      <td>0.458703</td>\n",
       "      <td>-0.741903</td>\n",
       "      <td>-0.222123</td>\n",
       "      <td>-0.16565</td>\n",
       "      <td>0.812513</td>\n",
       "      <td>-0.607341</td>\n",
       "      <td>-1.434015</td>\n",
       "      <td>-0.339093</td>\n",
       "      <td>0.841057</td>\n",
       "      <td>-0.205175</td>\n",
       "    </tr>\n",
       "    <tr>\n",
       "      <th>2</th>\n",
       "      <td>-0.421503</td>\n",
       "      <td>0.802356</td>\n",
       "      <td>0.982811</td>\n",
       "      <td>-0.32756</td>\n",
       "      <td>-1.432869</td>\n",
       "      <td>-0.611179</td>\n",
       "      <td>-0.211967</td>\n",
       "      <td>-0.794308</td>\n",
       "      <td>-0.491659</td>\n",
       "      <td>-0.842206</td>\n",
       "    </tr>\n",
       "  </tbody>\n",
       "</table>\n",
       "</div>"
      ],
      "text/plain": [
       "          A         B         C        D         E         F         G  \\\n",
       "0 -0.508419 -0.809501  0.464212  0.00401 -2.591329 -0.629943 -1.028110   \n",
       "1  0.458703 -0.741903 -0.222123 -0.16565  0.812513 -0.607341 -1.434015   \n",
       "2 -0.421503  0.802356  0.982811 -0.32756 -1.432869 -0.611179 -0.211967   \n",
       "\n",
       "          H         I         J  \n",
       "0  0.071180 -0.352970 -0.166813  \n",
       "1 -0.339093  0.841057 -0.205175  \n",
       "2 -0.794308 -0.491659 -0.842206  "
      ]
     },
     "execution_count": 421,
     "metadata": {},
     "output_type": "execute_result"
    }
   ],
   "source": [
    "data.head(3)"
   ]
  },
  {
   "cell_type": "markdown",
   "metadata": {},
   "source": [
    "Same thing for method 'tail()'..."
   ]
  },
  {
   "cell_type": "code",
   "execution_count": 422,
   "metadata": {},
   "outputs": [
    {
     "data": {
      "text/html": [
       "<div>\n",
       "<style scoped>\n",
       "    .dataframe tbody tr th:only-of-type {\n",
       "        vertical-align: middle;\n",
       "    }\n",
       "\n",
       "    .dataframe tbody tr th {\n",
       "        vertical-align: top;\n",
       "    }\n",
       "\n",
       "    .dataframe thead th {\n",
       "        text-align: right;\n",
       "    }\n",
       "</style>\n",
       "<table border=\"1\" class=\"dataframe\">\n",
       "  <thead>\n",
       "    <tr style=\"text-align: right;\">\n",
       "      <th></th>\n",
       "      <th>A</th>\n",
       "      <th>B</th>\n",
       "      <th>C</th>\n",
       "      <th>D</th>\n",
       "      <th>E</th>\n",
       "      <th>F</th>\n",
       "      <th>G</th>\n",
       "      <th>H</th>\n",
       "      <th>I</th>\n",
       "      <th>J</th>\n",
       "    </tr>\n",
       "  </thead>\n",
       "  <tbody>\n",
       "    <tr>\n",
       "      <th>395</th>\n",
       "      <td>-0.545222</td>\n",
       "      <td>0.079999</td>\n",
       "      <td>1.082402</td>\n",
       "      <td>0.780390</td>\n",
       "      <td>1.186726</td>\n",
       "      <td>1.341771</td>\n",
       "      <td>0.249340</td>\n",
       "      <td>-1.912650</td>\n",
       "      <td>2.153120</td>\n",
       "      <td>-0.554297</td>\n",
       "    </tr>\n",
       "    <tr>\n",
       "      <th>396</th>\n",
       "      <td>-0.120554</td>\n",
       "      <td>0.712456</td>\n",
       "      <td>1.086944</td>\n",
       "      <td>-0.921550</td>\n",
       "      <td>0.313897</td>\n",
       "      <td>-0.119294</td>\n",
       "      <td>-0.355124</td>\n",
       "      <td>2.171085</td>\n",
       "      <td>-0.693911</td>\n",
       "      <td>-1.144403</td>\n",
       "    </tr>\n",
       "    <tr>\n",
       "      <th>397</th>\n",
       "      <td>0.870202</td>\n",
       "      <td>-0.174426</td>\n",
       "      <td>0.501444</td>\n",
       "      <td>-1.148298</td>\n",
       "      <td>0.332812</td>\n",
       "      <td>0.894386</td>\n",
       "      <td>1.454256</td>\n",
       "      <td>0.643534</td>\n",
       "      <td>0.859927</td>\n",
       "      <td>-1.007962</td>\n",
       "    </tr>\n",
       "    <tr>\n",
       "      <th>398</th>\n",
       "      <td>1.192645</td>\n",
       "      <td>-0.479319</td>\n",
       "      <td>0.678675</td>\n",
       "      <td>-0.503124</td>\n",
       "      <td>1.859727</td>\n",
       "      <td>-1.235014</td>\n",
       "      <td>-0.889291</td>\n",
       "      <td>1.041647</td>\n",
       "      <td>0.485133</td>\n",
       "      <td>2.091500</td>\n",
       "    </tr>\n",
       "    <tr>\n",
       "      <th>399</th>\n",
       "      <td>-0.447056</td>\n",
       "      <td>0.904568</td>\n",
       "      <td>1.335487</td>\n",
       "      <td>-0.703162</td>\n",
       "      <td>-1.008153</td>\n",
       "      <td>1.898332</td>\n",
       "      <td>0.752677</td>\n",
       "      <td>-0.536101</td>\n",
       "      <td>-0.269068</td>\n",
       "      <td>0.928400</td>\n",
       "    </tr>\n",
       "  </tbody>\n",
       "</table>\n",
       "</div>"
      ],
      "text/plain": [
       "            A         B         C         D         E         F         G  \\\n",
       "395 -0.545222  0.079999  1.082402  0.780390  1.186726  1.341771  0.249340   \n",
       "396 -0.120554  0.712456  1.086944 -0.921550  0.313897 -0.119294 -0.355124   \n",
       "397  0.870202 -0.174426  0.501444 -1.148298  0.332812  0.894386  1.454256   \n",
       "398  1.192645 -0.479319  0.678675 -0.503124  1.859727 -1.235014 -0.889291   \n",
       "399 -0.447056  0.904568  1.335487 -0.703162 -1.008153  1.898332  0.752677   \n",
       "\n",
       "            H         I         J  \n",
       "395 -1.912650  2.153120 -0.554297  \n",
       "396  2.171085 -0.693911 -1.144403  \n",
       "397  0.643534  0.859927 -1.007962  \n",
       "398  1.041647  0.485133  2.091500  \n",
       "399 -0.536101 -0.269068  0.928400  "
      ]
     },
     "execution_count": 422,
     "metadata": {},
     "output_type": "execute_result"
    }
   ],
   "source": [
    "data.tail()"
   ]
  },
  {
   "cell_type": "code",
   "execution_count": 423,
   "metadata": {},
   "outputs": [
    {
     "data": {
      "text/html": [
       "<div>\n",
       "<style scoped>\n",
       "    .dataframe tbody tr th:only-of-type {\n",
       "        vertical-align: middle;\n",
       "    }\n",
       "\n",
       "    .dataframe tbody tr th {\n",
       "        vertical-align: top;\n",
       "    }\n",
       "\n",
       "    .dataframe thead th {\n",
       "        text-align: right;\n",
       "    }\n",
       "</style>\n",
       "<table border=\"1\" class=\"dataframe\">\n",
       "  <thead>\n",
       "    <tr style=\"text-align: right;\">\n",
       "      <th></th>\n",
       "      <th>A</th>\n",
       "      <th>B</th>\n",
       "      <th>C</th>\n",
       "      <th>D</th>\n",
       "      <th>E</th>\n",
       "      <th>F</th>\n",
       "      <th>G</th>\n",
       "      <th>H</th>\n",
       "      <th>I</th>\n",
       "      <th>J</th>\n",
       "    </tr>\n",
       "  </thead>\n",
       "  <tbody>\n",
       "    <tr>\n",
       "      <th>390</th>\n",
       "      <td>-0.366924</td>\n",
       "      <td>0.002266</td>\n",
       "      <td>-1.663578</td>\n",
       "      <td>0.372017</td>\n",
       "      <td>-2.518245</td>\n",
       "      <td>-0.344957</td>\n",
       "      <td>1.353806</td>\n",
       "      <td>-1.005733</td>\n",
       "      <td>-0.622353</td>\n",
       "      <td>-1.201462</td>\n",
       "    </tr>\n",
       "    <tr>\n",
       "      <th>391</th>\n",
       "      <td>1.774875</td>\n",
       "      <td>-1.711905</td>\n",
       "      <td>-0.683024</td>\n",
       "      <td>0.372471</td>\n",
       "      <td>0.550015</td>\n",
       "      <td>0.043948</td>\n",
       "      <td>0.209415</td>\n",
       "      <td>1.078545</td>\n",
       "      <td>0.530641</td>\n",
       "      <td>-1.128720</td>\n",
       "    </tr>\n",
       "    <tr>\n",
       "      <th>392</th>\n",
       "      <td>-0.985998</td>\n",
       "      <td>1.443004</td>\n",
       "      <td>-1.695757</td>\n",
       "      <td>-0.123109</td>\n",
       "      <td>1.380132</td>\n",
       "      <td>-0.104154</td>\n",
       "      <td>0.906934</td>\n",
       "      <td>0.563014</td>\n",
       "      <td>-0.762480</td>\n",
       "      <td>-0.430563</td>\n",
       "    </tr>\n",
       "    <tr>\n",
       "      <th>393</th>\n",
       "      <td>0.538745</td>\n",
       "      <td>-0.185874</td>\n",
       "      <td>-0.132482</td>\n",
       "      <td>0.509295</td>\n",
       "      <td>0.138702</td>\n",
       "      <td>-1.681307</td>\n",
       "      <td>0.284003</td>\n",
       "      <td>-2.682490</td>\n",
       "      <td>-0.260139</td>\n",
       "      <td>-1.140059</td>\n",
       "    </tr>\n",
       "    <tr>\n",
       "      <th>394</th>\n",
       "      <td>-0.214971</td>\n",
       "      <td>-1.225135</td>\n",
       "      <td>0.829755</td>\n",
       "      <td>-0.835011</td>\n",
       "      <td>-0.176855</td>\n",
       "      <td>0.972798</td>\n",
       "      <td>-0.971317</td>\n",
       "      <td>1.114393</td>\n",
       "      <td>-0.632957</td>\n",
       "      <td>-0.696170</td>\n",
       "    </tr>\n",
       "    <tr>\n",
       "      <th>395</th>\n",
       "      <td>-0.545222</td>\n",
       "      <td>0.079999</td>\n",
       "      <td>1.082402</td>\n",
       "      <td>0.780390</td>\n",
       "      <td>1.186726</td>\n",
       "      <td>1.341771</td>\n",
       "      <td>0.249340</td>\n",
       "      <td>-1.912650</td>\n",
       "      <td>2.153120</td>\n",
       "      <td>-0.554297</td>\n",
       "    </tr>\n",
       "    <tr>\n",
       "      <th>396</th>\n",
       "      <td>-0.120554</td>\n",
       "      <td>0.712456</td>\n",
       "      <td>1.086944</td>\n",
       "      <td>-0.921550</td>\n",
       "      <td>0.313897</td>\n",
       "      <td>-0.119294</td>\n",
       "      <td>-0.355124</td>\n",
       "      <td>2.171085</td>\n",
       "      <td>-0.693911</td>\n",
       "      <td>-1.144403</td>\n",
       "    </tr>\n",
       "    <tr>\n",
       "      <th>397</th>\n",
       "      <td>0.870202</td>\n",
       "      <td>-0.174426</td>\n",
       "      <td>0.501444</td>\n",
       "      <td>-1.148298</td>\n",
       "      <td>0.332812</td>\n",
       "      <td>0.894386</td>\n",
       "      <td>1.454256</td>\n",
       "      <td>0.643534</td>\n",
       "      <td>0.859927</td>\n",
       "      <td>-1.007962</td>\n",
       "    </tr>\n",
       "    <tr>\n",
       "      <th>398</th>\n",
       "      <td>1.192645</td>\n",
       "      <td>-0.479319</td>\n",
       "      <td>0.678675</td>\n",
       "      <td>-0.503124</td>\n",
       "      <td>1.859727</td>\n",
       "      <td>-1.235014</td>\n",
       "      <td>-0.889291</td>\n",
       "      <td>1.041647</td>\n",
       "      <td>0.485133</td>\n",
       "      <td>2.091500</td>\n",
       "    </tr>\n",
       "    <tr>\n",
       "      <th>399</th>\n",
       "      <td>-0.447056</td>\n",
       "      <td>0.904568</td>\n",
       "      <td>1.335487</td>\n",
       "      <td>-0.703162</td>\n",
       "      <td>-1.008153</td>\n",
       "      <td>1.898332</td>\n",
       "      <td>0.752677</td>\n",
       "      <td>-0.536101</td>\n",
       "      <td>-0.269068</td>\n",
       "      <td>0.928400</td>\n",
       "    </tr>\n",
       "  </tbody>\n",
       "</table>\n",
       "</div>"
      ],
      "text/plain": [
       "            A         B         C         D         E         F         G  \\\n",
       "390 -0.366924  0.002266 -1.663578  0.372017 -2.518245 -0.344957  1.353806   \n",
       "391  1.774875 -1.711905 -0.683024  0.372471  0.550015  0.043948  0.209415   \n",
       "392 -0.985998  1.443004 -1.695757 -0.123109  1.380132 -0.104154  0.906934   \n",
       "393  0.538745 -0.185874 -0.132482  0.509295  0.138702 -1.681307  0.284003   \n",
       "394 -0.214971 -1.225135  0.829755 -0.835011 -0.176855  0.972798 -0.971317   \n",
       "395 -0.545222  0.079999  1.082402  0.780390  1.186726  1.341771  0.249340   \n",
       "396 -0.120554  0.712456  1.086944 -0.921550  0.313897 -0.119294 -0.355124   \n",
       "397  0.870202 -0.174426  0.501444 -1.148298  0.332812  0.894386  1.454256   \n",
       "398  1.192645 -0.479319  0.678675 -0.503124  1.859727 -1.235014 -0.889291   \n",
       "399 -0.447056  0.904568  1.335487 -0.703162 -1.008153  1.898332  0.752677   \n",
       "\n",
       "            H         I         J  \n",
       "390 -1.005733 -0.622353 -1.201462  \n",
       "391  1.078545  0.530641 -1.128720  \n",
       "392  0.563014 -0.762480 -0.430563  \n",
       "393 -2.682490 -0.260139 -1.140059  \n",
       "394  1.114393 -0.632957 -0.696170  \n",
       "395 -1.912650  2.153120 -0.554297  \n",
       "396  2.171085 -0.693911 -1.144403  \n",
       "397  0.643534  0.859927 -1.007962  \n",
       "398  1.041647  0.485133  2.091500  \n",
       "399 -0.536101 -0.269068  0.928400  "
      ]
     },
     "execution_count": 423,
     "metadata": {},
     "output_type": "execute_result"
    }
   ],
   "source": [
    "data.tail(10)"
   ]
  },
  {
   "cell_type": "markdown",
   "metadata": {},
   "source": [
    "We can perform basic statistics in one line! Method 'describe()' describes the data statistically. \n",
    "For each column, describe() computes the following.\n",
    "- count gives the number of non-null data.\n",
    "- mean gives the mean of the data.\n",
    "- std is the standart deviation of the data.\n",
    "- min is the minimum of the data.\n",
    "- 25%, 50% and 70% are the lower percentile, median and upper percentile. \n",
    "- max is the maximum of the data."
   ]
  },
  {
   "cell_type": "code",
   "execution_count": 424,
   "metadata": {},
   "outputs": [
    {
     "data": {
      "text/html": [
       "<div>\n",
       "<style scoped>\n",
       "    .dataframe tbody tr th:only-of-type {\n",
       "        vertical-align: middle;\n",
       "    }\n",
       "\n",
       "    .dataframe tbody tr th {\n",
       "        vertical-align: top;\n",
       "    }\n",
       "\n",
       "    .dataframe thead th {\n",
       "        text-align: right;\n",
       "    }\n",
       "</style>\n",
       "<table border=\"1\" class=\"dataframe\">\n",
       "  <thead>\n",
       "    <tr style=\"text-align: right;\">\n",
       "      <th></th>\n",
       "      <th>A</th>\n",
       "      <th>B</th>\n",
       "      <th>C</th>\n",
       "      <th>D</th>\n",
       "      <th>E</th>\n",
       "      <th>F</th>\n",
       "      <th>G</th>\n",
       "      <th>H</th>\n",
       "      <th>I</th>\n",
       "      <th>J</th>\n",
       "    </tr>\n",
       "  </thead>\n",
       "  <tbody>\n",
       "    <tr>\n",
       "      <th>count</th>\n",
       "      <td>400.000000</td>\n",
       "      <td>400.000000</td>\n",
       "      <td>400.000000</td>\n",
       "      <td>400.000000</td>\n",
       "      <td>400.000000</td>\n",
       "      <td>400.000000</td>\n",
       "      <td>400.000000</td>\n",
       "      <td>400.000000</td>\n",
       "      <td>400.000000</td>\n",
       "      <td>400.000000</td>\n",
       "    </tr>\n",
       "    <tr>\n",
       "      <th>mean</th>\n",
       "      <td>-0.121330</td>\n",
       "      <td>-0.018475</td>\n",
       "      <td>-0.009081</td>\n",
       "      <td>0.004598</td>\n",
       "      <td>-0.099179</td>\n",
       "      <td>-0.026629</td>\n",
       "      <td>-0.018709</td>\n",
       "      <td>0.038244</td>\n",
       "      <td>-0.040243</td>\n",
       "      <td>-0.064910</td>\n",
       "    </tr>\n",
       "    <tr>\n",
       "      <th>std</th>\n",
       "      <td>0.971693</td>\n",
       "      <td>0.955590</td>\n",
       "      <td>1.009573</td>\n",
       "      <td>0.973823</td>\n",
       "      <td>1.046432</td>\n",
       "      <td>1.010666</td>\n",
       "      <td>0.930187</td>\n",
       "      <td>1.031422</td>\n",
       "      <td>0.937244</td>\n",
       "      <td>1.066807</td>\n",
       "    </tr>\n",
       "    <tr>\n",
       "      <th>min</th>\n",
       "      <td>-2.566751</td>\n",
       "      <td>-2.550892</td>\n",
       "      <td>-3.095665</td>\n",
       "      <td>-3.129976</td>\n",
       "      <td>-3.489752</td>\n",
       "      <td>-2.625466</td>\n",
       "      <td>-3.549541</td>\n",
       "      <td>-3.003892</td>\n",
       "      <td>-3.649741</td>\n",
       "      <td>-3.588896</td>\n",
       "    </tr>\n",
       "    <tr>\n",
       "      <th>25%</th>\n",
       "      <td>-0.766417</td>\n",
       "      <td>-0.733184</td>\n",
       "      <td>-0.730950</td>\n",
       "      <td>-0.659846</td>\n",
       "      <td>-0.756127</td>\n",
       "      <td>-0.735528</td>\n",
       "      <td>-0.659703</td>\n",
       "      <td>-0.629434</td>\n",
       "      <td>-0.668255</td>\n",
       "      <td>-0.782369</td>\n",
       "    </tr>\n",
       "    <tr>\n",
       "      <th>50%</th>\n",
       "      <td>-0.192724</td>\n",
       "      <td>-0.007937</td>\n",
       "      <td>-0.038879</td>\n",
       "      <td>-0.033969</td>\n",
       "      <td>-0.092698</td>\n",
       "      <td>-0.078527</td>\n",
       "      <td>-0.034880</td>\n",
       "      <td>0.085210</td>\n",
       "      <td>-0.074580</td>\n",
       "      <td>-0.058233</td>\n",
       "    </tr>\n",
       "    <tr>\n",
       "      <th>75%</th>\n",
       "      <td>0.584195</td>\n",
       "      <td>0.589227</td>\n",
       "      <td>0.697198</td>\n",
       "      <td>0.624255</td>\n",
       "      <td>0.563173</td>\n",
       "      <td>0.699299</td>\n",
       "      <td>0.642224</td>\n",
       "      <td>0.726174</td>\n",
       "      <td>0.597022</td>\n",
       "      <td>0.663843</td>\n",
       "    </tr>\n",
       "    <tr>\n",
       "      <th>max</th>\n",
       "      <td>2.728574</td>\n",
       "      <td>3.030540</td>\n",
       "      <td>3.184723</td>\n",
       "      <td>2.883516</td>\n",
       "      <td>2.512933</td>\n",
       "      <td>2.571493</td>\n",
       "      <td>2.579600</td>\n",
       "      <td>2.480170</td>\n",
       "      <td>2.328013</td>\n",
       "      <td>3.027640</td>\n",
       "    </tr>\n",
       "  </tbody>\n",
       "</table>\n",
       "</div>"
      ],
      "text/plain": [
       "                A           B           C           D           E           F  \\\n",
       "count  400.000000  400.000000  400.000000  400.000000  400.000000  400.000000   \n",
       "mean    -0.121330   -0.018475   -0.009081    0.004598   -0.099179   -0.026629   \n",
       "std      0.971693    0.955590    1.009573    0.973823    1.046432    1.010666   \n",
       "min     -2.566751   -2.550892   -3.095665   -3.129976   -3.489752   -2.625466   \n",
       "25%     -0.766417   -0.733184   -0.730950   -0.659846   -0.756127   -0.735528   \n",
       "50%     -0.192724   -0.007937   -0.038879   -0.033969   -0.092698   -0.078527   \n",
       "75%      0.584195    0.589227    0.697198    0.624255    0.563173    0.699299   \n",
       "max      2.728574    3.030540    3.184723    2.883516    2.512933    2.571493   \n",
       "\n",
       "                G           H           I           J  \n",
       "count  400.000000  400.000000  400.000000  400.000000  \n",
       "mean    -0.018709    0.038244   -0.040243   -0.064910  \n",
       "std      0.930187    1.031422    0.937244    1.066807  \n",
       "min     -3.549541   -3.003892   -3.649741   -3.588896  \n",
       "25%     -0.659703   -0.629434   -0.668255   -0.782369  \n",
       "50%     -0.034880    0.085210   -0.074580   -0.058233  \n",
       "75%      0.642224    0.726174    0.597022    0.663843  \n",
       "max      2.579600    2.480170    2.328013    3.027640  "
      ]
     },
     "execution_count": 424,
     "metadata": {},
     "output_type": "execute_result"
    }
   ],
   "source": [
    "data.describe()"
   ]
  },
  {
   "cell_type": "markdown",
   "metadata": {},
   "source": [
    "Methods for basic statistics can be called separately."
   ]
  },
  {
   "cell_type": "code",
   "execution_count": 425,
   "metadata": {},
   "outputs": [
    {
     "data": {
      "text/plain": [
       "A   -0.121330\n",
       "B   -0.018475\n",
       "C   -0.009081\n",
       "D    0.004598\n",
       "E   -0.099179\n",
       "F   -0.026629\n",
       "G   -0.018709\n",
       "H    0.038244\n",
       "I   -0.040243\n",
       "J   -0.064910\n",
       "dtype: float64"
      ]
     },
     "execution_count": 425,
     "metadata": {},
     "output_type": "execute_result"
    }
   ],
   "source": [
    "data.mean() # computes the mean for each column"
   ]
  },
  {
   "cell_type": "code",
   "execution_count": 426,
   "metadata": {},
   "outputs": [
    {
     "data": {
      "text/plain": [
       "0     -0.554768\n",
       "1     -0.160303\n",
       "2     -0.334808\n",
       "3     -0.399699\n",
       "4     -0.508414\n",
       "5     -0.080444\n",
       "6     -0.138164\n",
       "7      0.074909\n",
       "8      0.059072\n",
       "9      0.241898\n",
       "10     0.248219\n",
       "11    -0.607447\n",
       "12     0.323956\n",
       "13    -0.481340\n",
       "14    -0.246530\n",
       "15    -0.124692\n",
       "16    -0.193678\n",
       "17     0.100801\n",
       "18    -0.127969\n",
       "19    -0.005769\n",
       "20     0.004208\n",
       "21     0.284564\n",
       "22     0.241054\n",
       "23    -0.033169\n",
       "24     0.246474\n",
       "25    -0.074642\n",
       "26     0.034654\n",
       "27    -0.458332\n",
       "28     0.261124\n",
       "29    -0.601261\n",
       "         ...   \n",
       "370    0.074820\n",
       "371    0.470905\n",
       "372    0.355392\n",
       "373   -0.439230\n",
       "374   -0.087046\n",
       "375   -0.234794\n",
       "376   -0.009741\n",
       "377   -0.310153\n",
       "378   -0.543075\n",
       "379   -0.212800\n",
       "380    0.213641\n",
       "381   -0.160446\n",
       "382   -0.236634\n",
       "383    0.267282\n",
       "384   -0.102331\n",
       "385   -0.211179\n",
       "386   -0.129513\n",
       "387   -0.282543\n",
       "388   -0.254090\n",
       "389   -0.008034\n",
       "390   -0.599516\n",
       "391    0.103626\n",
       "392    0.019102\n",
       "393   -0.461161\n",
       "394   -0.183547\n",
       "395    0.386158\n",
       "396    0.092955\n",
       "397    0.322588\n",
       "398    0.424258\n",
       "399    0.285592\n",
       "Length: 400, dtype: float64"
      ]
     },
     "execution_count": 426,
     "metadata": {},
     "output_type": "execute_result"
    }
   ],
   "source": [
    "data.mean(axis = 1) # computes the mean for each row"
   ]
  },
  {
   "cell_type": "code",
   "execution_count": 427,
   "metadata": {},
   "outputs": [
    {
     "data": {
      "text/plain": [
       "A    0.971693\n",
       "B    0.955590\n",
       "C    1.009573\n",
       "D    0.973823\n",
       "E    1.046432\n",
       "F    1.010666\n",
       "G    0.930187\n",
       "H    1.031422\n",
       "I    0.937244\n",
       "J    1.066807\n",
       "dtype: float64"
      ]
     },
     "execution_count": 427,
     "metadata": {},
     "output_type": "execute_result"
    }
   ],
   "source": [
    "data.std() # computes the standard deviation for each column"
   ]
  },
  {
   "cell_type": "code",
   "execution_count": 428,
   "metadata": {},
   "outputs": [
    {
     "data": {
      "text/plain": [
       "0      0.841818\n",
       "1      0.709502\n",
       "2      0.732366\n",
       "3      0.994547\n",
       "4      0.887063\n",
       "5      1.219905\n",
       "6      0.658452\n",
       "7      1.037633\n",
       "8      0.999688\n",
       "9      1.019902\n",
       "10     0.726309\n",
       "11     1.333081\n",
       "12     1.045154\n",
       "13     0.849915\n",
       "14     1.093115\n",
       "15     0.971225\n",
       "16     0.996209\n",
       "17     1.303833\n",
       "18     0.694059\n",
       "19     1.090249\n",
       "20     1.041564\n",
       "21     0.949863\n",
       "22     1.179525\n",
       "23     0.765529\n",
       "24     1.263889\n",
       "25     1.046386\n",
       "26     1.367169\n",
       "27     1.085438\n",
       "28     0.929848\n",
       "29     1.359729\n",
       "         ...   \n",
       "370    1.156498\n",
       "371    1.087139\n",
       "372    1.126861\n",
       "373    1.049771\n",
       "374    1.080293\n",
       "375    0.907907\n",
       "376    1.355636\n",
       "377    1.436741\n",
       "378    0.825714\n",
       "379    0.887740\n",
       "380    1.243150\n",
       "381    0.897164\n",
       "382    0.760254\n",
       "383    0.838091\n",
       "384    0.801180\n",
       "385    0.823370\n",
       "386    1.140116\n",
       "387    0.851395\n",
       "388    1.194731\n",
       "389    0.976941\n",
       "390    1.084333\n",
       "391    1.035257\n",
       "392    1.041550\n",
       "393    1.052240\n",
       "394    0.859214\n",
       "395    1.176876\n",
       "396    1.011604\n",
       "397    0.850636\n",
       "398    1.156401\n",
       "399    0.993799\n",
       "Length: 400, dtype: float64"
      ]
     },
     "execution_count": 428,
     "metadata": {},
     "output_type": "execute_result"
    }
   ],
   "source": [
    "data.std(axis = 1) # computes the standard deviation for each row"
   ]
  },
  {
   "cell_type": "code",
   "execution_count": 429,
   "metadata": {},
   "outputs": [
    {
     "data": {
      "text/plain": [
       "A    400\n",
       "B    400\n",
       "C    400\n",
       "D    400\n",
       "E    400\n",
       "F    400\n",
       "G    400\n",
       "H    400\n",
       "I    400\n",
       "J    400\n",
       "dtype: int64"
      ]
     },
     "execution_count": 429,
     "metadata": {},
     "output_type": "execute_result"
    }
   ],
   "source": [
    "data.count() # counts the number of values for each column"
   ]
  },
  {
   "cell_type": "code",
   "execution_count": 430,
   "metadata": {},
   "outputs": [
    {
     "data": {
      "text/plain": [
       "A   -2.566751\n",
       "B   -2.550892\n",
       "C   -3.095665\n",
       "D   -3.129976\n",
       "E   -3.489752\n",
       "F   -2.625466\n",
       "G   -3.549541\n",
       "H   -3.003892\n",
       "I   -3.649741\n",
       "J   -3.588896\n",
       "dtype: float64"
      ]
     },
     "execution_count": 430,
     "metadata": {},
     "output_type": "execute_result"
    }
   ],
   "source": [
    "data.min() # returns the min of the values for each column"
   ]
  },
  {
   "cell_type": "code",
   "execution_count": 431,
   "metadata": {},
   "outputs": [
    {
     "data": {
      "text/plain": [
       "0     -2.591329\n",
       "1     -1.434015\n",
       "2     -1.432869\n",
       "3     -2.315100\n",
       "4     -2.202036\n",
       "5     -2.440685\n",
       "6     -1.276702\n",
       "7     -2.012623\n",
       "8     -2.189840\n",
       "9     -1.728786\n",
       "10    -1.086235\n",
       "11    -2.217277\n",
       "12    -1.583116\n",
       "13    -2.249558\n",
       "14    -1.713860\n",
       "15    -1.715253\n",
       "16    -1.072133\n",
       "17    -2.503812\n",
       "18    -1.033359\n",
       "19    -1.780962\n",
       "20    -2.033258\n",
       "21    -1.092403\n",
       "22    -1.542041\n",
       "23    -1.112869\n",
       "24    -1.557083\n",
       "25    -1.964034\n",
       "26    -2.168816\n",
       "27    -2.390900\n",
       "28    -1.572286\n",
       "29    -2.647917\n",
       "         ...   \n",
       "370   -1.726938\n",
       "371   -1.234087\n",
       "372   -1.632888\n",
       "373   -1.837312\n",
       "374   -1.082555\n",
       "375   -1.662666\n",
       "376   -2.383428\n",
       "377   -2.287651\n",
       "378   -2.686242\n",
       "379   -1.280891\n",
       "380   -2.050132\n",
       "381   -1.290126\n",
       "382   -1.321531\n",
       "383   -1.216372\n",
       "384   -1.003964\n",
       "385   -1.269212\n",
       "386   -2.565448\n",
       "387   -1.516716\n",
       "388   -2.533409\n",
       "389   -1.197145\n",
       "390   -2.518245\n",
       "391   -1.711905\n",
       "392   -1.695757\n",
       "393   -2.682490\n",
       "394   -1.225135\n",
       "395   -1.912650\n",
       "396   -1.144403\n",
       "397   -1.148298\n",
       "398   -1.235014\n",
       "399   -1.008153\n",
       "Length: 400, dtype: float64"
      ]
     },
     "execution_count": 431,
     "metadata": {},
     "output_type": "execute_result"
    }
   ],
   "source": [
    "data.min(axis = 1) # returns the min of the values for each row"
   ]
  },
  {
   "cell_type": "code",
   "execution_count": 432,
   "metadata": {},
   "outputs": [
    {
     "data": {
      "text/plain": [
       "A    2.728574\n",
       "B    3.030540\n",
       "C    3.184723\n",
       "D    2.883516\n",
       "E    2.512933\n",
       "F    2.571493\n",
       "G    2.579600\n",
       "H    2.480170\n",
       "I    2.328013\n",
       "J    3.027640\n",
       "dtype: float64"
      ]
     },
     "execution_count": 432,
     "metadata": {},
     "output_type": "execute_result"
    }
   ],
   "source": [
    "data.max() # returns the max of the values for each column"
   ]
  },
  {
   "cell_type": "code",
   "execution_count": 433,
   "metadata": {},
   "outputs": [
    {
     "data": {
      "text/plain": [
       "0      0.464212\n",
       "1      0.841057\n",
       "2      0.982811\n",
       "3      1.110805\n",
       "4      0.758453\n",
       "5      1.510999\n",
       "6      0.908417\n",
       "7      1.262275\n",
       "8      1.782679\n",
       "9      1.212018\n",
       "10     1.265035\n",
       "11     1.374051\n",
       "12     1.498892\n",
       "13     0.655012\n",
       "14     1.572010\n",
       "15     1.143668\n",
       "16     1.686917\n",
       "17     1.771615\n",
       "18     1.200175\n",
       "19     1.327367\n",
       "20     1.693646\n",
       "21     1.992398\n",
       "22     1.811429\n",
       "23     1.095318\n",
       "24     2.894574\n",
       "25     1.079818\n",
       "26     2.244687\n",
       "27     1.438292\n",
       "28     1.652423\n",
       "29     1.204911\n",
       "         ...   \n",
       "370    1.749169\n",
       "371    2.352166\n",
       "372    1.662094\n",
       "373    1.419854\n",
       "374    1.600793\n",
       "375    1.113881\n",
       "376    1.577777\n",
       "377    1.759849\n",
       "378    0.089521\n",
       "379    1.528787\n",
       "380    1.711833\n",
       "381    1.596605\n",
       "382    1.418267\n",
       "383    1.599127\n",
       "384    1.269408\n",
       "385    1.028472\n",
       "386    1.587089\n",
       "387    0.777224\n",
       "388    1.497878\n",
       "389    1.640054\n",
       "390    1.353806\n",
       "391    1.774875\n",
       "392    1.443004\n",
       "393    0.538745\n",
       "394    1.114393\n",
       "395    2.153120\n",
       "396    2.171085\n",
       "397    1.454256\n",
       "398    2.091500\n",
       "399    1.898332\n",
       "Length: 400, dtype: float64"
      ]
     },
     "execution_count": 433,
     "metadata": {},
     "output_type": "execute_result"
    }
   ],
   "source": [
    "data.max(axis = 1) # returns the max of the values for each row"
   ]
  },
  {
   "cell_type": "code",
   "execution_count": 434,
   "metadata": {},
   "outputs": [
    {
     "data": {
      "text/plain": [
       "A   -48.531985\n",
       "B    -7.390117\n",
       "C    -3.632534\n",
       "D     1.839343\n",
       "E   -39.671720\n",
       "F   -10.651610\n",
       "G    -7.483601\n",
       "H    15.297433\n",
       "I   -16.097068\n",
       "J   -25.963868\n",
       "dtype: float64"
      ]
     },
     "execution_count": 434,
     "metadata": {},
     "output_type": "execute_result"
    }
   ],
   "source": [
    "data.sum() # computes the sum of the values for each column"
   ]
  },
  {
   "cell_type": "code",
   "execution_count": 435,
   "metadata": {},
   "outputs": [
    {
     "data": {
      "text/plain": [
       "0     -5.547682\n",
       "1     -1.603026\n",
       "2     -3.348083\n",
       "3     -3.996986\n",
       "4     -5.084136\n",
       "5     -0.804442\n",
       "6     -1.381642\n",
       "7      0.749091\n",
       "8      0.590720\n",
       "9      2.418979\n",
       "10     2.482195\n",
       "11    -6.074469\n",
       "12     3.239556\n",
       "13    -4.813402\n",
       "14    -2.465299\n",
       "15    -1.246925\n",
       "16    -1.936778\n",
       "17     1.008012\n",
       "18    -1.279687\n",
       "19    -0.057687\n",
       "20     0.042078\n",
       "21     2.845640\n",
       "22     2.410536\n",
       "23    -0.331693\n",
       "24     2.464742\n",
       "25    -0.746415\n",
       "26     0.346536\n",
       "27    -4.583323\n",
       "28     2.611238\n",
       "29    -6.012608\n",
       "         ...   \n",
       "370    0.748202\n",
       "371    4.709049\n",
       "372    3.553916\n",
       "373   -4.392304\n",
       "374   -0.870457\n",
       "375   -2.347940\n",
       "376   -0.097413\n",
       "377   -3.101533\n",
       "378   -5.430750\n",
       "379   -2.127998\n",
       "380    2.136407\n",
       "381   -1.604456\n",
       "382   -2.366341\n",
       "383    2.672821\n",
       "384   -1.023308\n",
       "385   -2.111792\n",
       "386   -1.295127\n",
       "387   -2.825428\n",
       "388   -2.540897\n",
       "389   -0.080344\n",
       "390   -5.995162\n",
       "391    1.036262\n",
       "392    0.191024\n",
       "393   -4.611607\n",
       "394   -1.835471\n",
       "395    3.861577\n",
       "396    0.929546\n",
       "397    3.225875\n",
       "398    4.242580\n",
       "399    2.855925\n",
       "Length: 400, dtype: float64"
      ]
     },
     "execution_count": 435,
     "metadata": {},
     "output_type": "execute_result"
    }
   ],
   "source": [
    "data.sum(axis = 1) # computes the sum of the values for each row"
   ]
  },
  {
   "cell_type": "code",
   "execution_count": 436,
   "metadata": {},
   "outputs": [
    {
     "data": {
      "text/html": [
       "<div>\n",
       "<style scoped>\n",
       "    .dataframe tbody tr th:only-of-type {\n",
       "        vertical-align: middle;\n",
       "    }\n",
       "\n",
       "    .dataframe tbody tr th {\n",
       "        vertical-align: top;\n",
       "    }\n",
       "\n",
       "    .dataframe thead th {\n",
       "        text-align: right;\n",
       "    }\n",
       "</style>\n",
       "<table border=\"1\" class=\"dataframe\">\n",
       "  <thead>\n",
       "    <tr style=\"text-align: right;\">\n",
       "      <th></th>\n",
       "      <th>A</th>\n",
       "      <th>B</th>\n",
       "      <th>C</th>\n",
       "      <th>D</th>\n",
       "      <th>E</th>\n",
       "      <th>F</th>\n",
       "      <th>G</th>\n",
       "      <th>H</th>\n",
       "      <th>I</th>\n",
       "      <th>J</th>\n",
       "    </tr>\n",
       "  </thead>\n",
       "  <tbody>\n",
       "    <tr>\n",
       "      <th>0</th>\n",
       "      <td>-1.0</td>\n",
       "      <td>-1.0</td>\n",
       "      <td>0.0</td>\n",
       "      <td>0.0</td>\n",
       "      <td>-3.0</td>\n",
       "      <td>-1.0</td>\n",
       "      <td>-1.0</td>\n",
       "      <td>0.0</td>\n",
       "      <td>-0.0</td>\n",
       "      <td>-0.0</td>\n",
       "    </tr>\n",
       "    <tr>\n",
       "      <th>1</th>\n",
       "      <td>0.0</td>\n",
       "      <td>-1.0</td>\n",
       "      <td>-0.0</td>\n",
       "      <td>-0.0</td>\n",
       "      <td>1.0</td>\n",
       "      <td>-1.0</td>\n",
       "      <td>-1.0</td>\n",
       "      <td>-0.0</td>\n",
       "      <td>1.0</td>\n",
       "      <td>-0.0</td>\n",
       "    </tr>\n",
       "    <tr>\n",
       "      <th>2</th>\n",
       "      <td>-0.0</td>\n",
       "      <td>1.0</td>\n",
       "      <td>1.0</td>\n",
       "      <td>-0.0</td>\n",
       "      <td>-1.0</td>\n",
       "      <td>-1.0</td>\n",
       "      <td>-0.0</td>\n",
       "      <td>-1.0</td>\n",
       "      <td>-0.0</td>\n",
       "      <td>-1.0</td>\n",
       "    </tr>\n",
       "    <tr>\n",
       "      <th>3</th>\n",
       "      <td>1.0</td>\n",
       "      <td>-0.0</td>\n",
       "      <td>-2.0</td>\n",
       "      <td>-0.0</td>\n",
       "      <td>-0.0</td>\n",
       "      <td>-1.0</td>\n",
       "      <td>-1.0</td>\n",
       "      <td>-1.0</td>\n",
       "      <td>0.0</td>\n",
       "      <td>1.0</td>\n",
       "    </tr>\n",
       "    <tr>\n",
       "      <th>4</th>\n",
       "      <td>-1.0</td>\n",
       "      <td>-1.0</td>\n",
       "      <td>-2.0</td>\n",
       "      <td>0.0</td>\n",
       "      <td>-1.0</td>\n",
       "      <td>-0.0</td>\n",
       "      <td>-0.0</td>\n",
       "      <td>-0.0</td>\n",
       "      <td>1.0</td>\n",
       "      <td>-1.0</td>\n",
       "    </tr>\n",
       "    <tr>\n",
       "      <th>5</th>\n",
       "      <td>-0.0</td>\n",
       "      <td>-1.0</td>\n",
       "      <td>-1.0</td>\n",
       "      <td>1.0</td>\n",
       "      <td>2.0</td>\n",
       "      <td>-0.0</td>\n",
       "      <td>-0.0</td>\n",
       "      <td>1.0</td>\n",
       "      <td>1.0</td>\n",
       "      <td>-2.0</td>\n",
       "    </tr>\n",
       "    <tr>\n",
       "      <th>6</th>\n",
       "      <td>-1.0</td>\n",
       "      <td>0.0</td>\n",
       "      <td>1.0</td>\n",
       "      <td>-0.0</td>\n",
       "      <td>-0.0</td>\n",
       "      <td>0.0</td>\n",
       "      <td>-1.0</td>\n",
       "      <td>-0.0</td>\n",
       "      <td>-0.0</td>\n",
       "      <td>1.0</td>\n",
       "    </tr>\n",
       "    <tr>\n",
       "      <th>7</th>\n",
       "      <td>1.0</td>\n",
       "      <td>-0.0</td>\n",
       "      <td>-0.0</td>\n",
       "      <td>1.0</td>\n",
       "      <td>-1.0</td>\n",
       "      <td>-1.0</td>\n",
       "      <td>0.0</td>\n",
       "      <td>-2.0</td>\n",
       "      <td>1.0</td>\n",
       "      <td>1.0</td>\n",
       "    </tr>\n",
       "    <tr>\n",
       "      <th>8</th>\n",
       "      <td>0.0</td>\n",
       "      <td>2.0</td>\n",
       "      <td>0.0</td>\n",
       "      <td>-1.0</td>\n",
       "      <td>0.0</td>\n",
       "      <td>1.0</td>\n",
       "      <td>0.0</td>\n",
       "      <td>0.0</td>\n",
       "      <td>1.0</td>\n",
       "      <td>-2.0</td>\n",
       "    </tr>\n",
       "    <tr>\n",
       "      <th>9</th>\n",
       "      <td>1.0</td>\n",
       "      <td>0.0</td>\n",
       "      <td>-2.0</td>\n",
       "      <td>0.0</td>\n",
       "      <td>1.0</td>\n",
       "      <td>1.0</td>\n",
       "      <td>1.0</td>\n",
       "      <td>1.0</td>\n",
       "      <td>-2.0</td>\n",
       "      <td>0.0</td>\n",
       "    </tr>\n",
       "    <tr>\n",
       "      <th>10</th>\n",
       "      <td>-1.0</td>\n",
       "      <td>-0.0</td>\n",
       "      <td>1.0</td>\n",
       "      <td>1.0</td>\n",
       "      <td>1.0</td>\n",
       "      <td>-1.0</td>\n",
       "      <td>0.0</td>\n",
       "      <td>0.0</td>\n",
       "      <td>0.0</td>\n",
       "      <td>0.0</td>\n",
       "    </tr>\n",
       "    <tr>\n",
       "      <th>11</th>\n",
       "      <td>-2.0</td>\n",
       "      <td>-2.0</td>\n",
       "      <td>0.0</td>\n",
       "      <td>1.0</td>\n",
       "      <td>-2.0</td>\n",
       "      <td>-2.0</td>\n",
       "      <td>1.0</td>\n",
       "      <td>-1.0</td>\n",
       "      <td>-1.0</td>\n",
       "      <td>1.0</td>\n",
       "    </tr>\n",
       "    <tr>\n",
       "      <th>12</th>\n",
       "      <td>-1.0</td>\n",
       "      <td>-0.0</td>\n",
       "      <td>1.0</td>\n",
       "      <td>-2.0</td>\n",
       "      <td>1.0</td>\n",
       "      <td>0.0</td>\n",
       "      <td>-0.0</td>\n",
       "      <td>1.0</td>\n",
       "      <td>1.0</td>\n",
       "      <td>1.0</td>\n",
       "    </tr>\n",
       "    <tr>\n",
       "      <th>13</th>\n",
       "      <td>1.0</td>\n",
       "      <td>-0.0</td>\n",
       "      <td>-1.0</td>\n",
       "      <td>-1.0</td>\n",
       "      <td>-0.0</td>\n",
       "      <td>-2.0</td>\n",
       "      <td>-0.0</td>\n",
       "      <td>0.0</td>\n",
       "      <td>-1.0</td>\n",
       "      <td>0.0</td>\n",
       "    </tr>\n",
       "    <tr>\n",
       "      <th>14</th>\n",
       "      <td>-1.0</td>\n",
       "      <td>2.0</td>\n",
       "      <td>-1.0</td>\n",
       "      <td>-1.0</td>\n",
       "      <td>-0.0</td>\n",
       "      <td>-2.0</td>\n",
       "      <td>0.0</td>\n",
       "      <td>1.0</td>\n",
       "      <td>-1.0</td>\n",
       "      <td>1.0</td>\n",
       "    </tr>\n",
       "    <tr>\n",
       "      <th>15</th>\n",
       "      <td>1.0</td>\n",
       "      <td>-1.0</td>\n",
       "      <td>-1.0</td>\n",
       "      <td>0.0</td>\n",
       "      <td>0.0</td>\n",
       "      <td>0.0</td>\n",
       "      <td>-1.0</td>\n",
       "      <td>1.0</td>\n",
       "      <td>-0.0</td>\n",
       "      <td>-2.0</td>\n",
       "    </tr>\n",
       "    <tr>\n",
       "      <th>16</th>\n",
       "      <td>-0.0</td>\n",
       "      <td>-1.0</td>\n",
       "      <td>-1.0</td>\n",
       "      <td>-1.0</td>\n",
       "      <td>1.0</td>\n",
       "      <td>0.0</td>\n",
       "      <td>-1.0</td>\n",
       "      <td>2.0</td>\n",
       "      <td>-0.0</td>\n",
       "      <td>-1.0</td>\n",
       "    </tr>\n",
       "    <tr>\n",
       "      <th>17</th>\n",
       "      <td>-1.0</td>\n",
       "      <td>2.0</td>\n",
       "      <td>-1.0</td>\n",
       "      <td>-3.0</td>\n",
       "      <td>1.0</td>\n",
       "      <td>1.0</td>\n",
       "      <td>1.0</td>\n",
       "      <td>-0.0</td>\n",
       "      <td>1.0</td>\n",
       "      <td>-0.0</td>\n",
       "    </tr>\n",
       "    <tr>\n",
       "      <th>18</th>\n",
       "      <td>1.0</td>\n",
       "      <td>-1.0</td>\n",
       "      <td>-0.0</td>\n",
       "      <td>-1.0</td>\n",
       "      <td>0.0</td>\n",
       "      <td>-0.0</td>\n",
       "      <td>-0.0</td>\n",
       "      <td>-1.0</td>\n",
       "      <td>-0.0</td>\n",
       "      <td>1.0</td>\n",
       "    </tr>\n",
       "    <tr>\n",
       "      <th>19</th>\n",
       "      <td>1.0</td>\n",
       "      <td>-1.0</td>\n",
       "      <td>1.0</td>\n",
       "      <td>1.0</td>\n",
       "      <td>-2.0</td>\n",
       "      <td>1.0</td>\n",
       "      <td>-1.0</td>\n",
       "      <td>0.0</td>\n",
       "      <td>-0.0</td>\n",
       "      <td>-0.0</td>\n",
       "    </tr>\n",
       "    <tr>\n",
       "      <th>20</th>\n",
       "      <td>1.0</td>\n",
       "      <td>-2.0</td>\n",
       "      <td>-1.0</td>\n",
       "      <td>1.0</td>\n",
       "      <td>-0.0</td>\n",
       "      <td>-0.0</td>\n",
       "      <td>1.0</td>\n",
       "      <td>-0.0</td>\n",
       "      <td>-0.0</td>\n",
       "      <td>2.0</td>\n",
       "    </tr>\n",
       "    <tr>\n",
       "      <th>21</th>\n",
       "      <td>-1.0</td>\n",
       "      <td>1.0</td>\n",
       "      <td>2.0</td>\n",
       "      <td>1.0</td>\n",
       "      <td>-1.0</td>\n",
       "      <td>0.0</td>\n",
       "      <td>1.0</td>\n",
       "      <td>-0.0</td>\n",
       "      <td>1.0</td>\n",
       "      <td>-0.0</td>\n",
       "    </tr>\n",
       "    <tr>\n",
       "      <th>22</th>\n",
       "      <td>1.0</td>\n",
       "      <td>1.0</td>\n",
       "      <td>2.0</td>\n",
       "      <td>-1.0</td>\n",
       "      <td>0.0</td>\n",
       "      <td>-0.0</td>\n",
       "      <td>-0.0</td>\n",
       "      <td>2.0</td>\n",
       "      <td>-1.0</td>\n",
       "      <td>-2.0</td>\n",
       "    </tr>\n",
       "    <tr>\n",
       "      <th>23</th>\n",
       "      <td>0.0</td>\n",
       "      <td>-0.0</td>\n",
       "      <td>1.0</td>\n",
       "      <td>0.0</td>\n",
       "      <td>-1.0</td>\n",
       "      <td>-0.0</td>\n",
       "      <td>1.0</td>\n",
       "      <td>-1.0</td>\n",
       "      <td>-1.0</td>\n",
       "      <td>0.0</td>\n",
       "    </tr>\n",
       "    <tr>\n",
       "      <th>24</th>\n",
       "      <td>-2.0</td>\n",
       "      <td>1.0</td>\n",
       "      <td>-0.0</td>\n",
       "      <td>1.0</td>\n",
       "      <td>-0.0</td>\n",
       "      <td>-1.0</td>\n",
       "      <td>-0.0</td>\n",
       "      <td>0.0</td>\n",
       "      <td>1.0</td>\n",
       "      <td>3.0</td>\n",
       "    </tr>\n",
       "    <tr>\n",
       "      <th>25</th>\n",
       "      <td>1.0</td>\n",
       "      <td>0.0</td>\n",
       "      <td>-2.0</td>\n",
       "      <td>1.0</td>\n",
       "      <td>-1.0</td>\n",
       "      <td>1.0</td>\n",
       "      <td>-0.0</td>\n",
       "      <td>0.0</td>\n",
       "      <td>-1.0</td>\n",
       "      <td>-0.0</td>\n",
       "    </tr>\n",
       "    <tr>\n",
       "      <th>26</th>\n",
       "      <td>1.0</td>\n",
       "      <td>1.0</td>\n",
       "      <td>0.0</td>\n",
       "      <td>-1.0</td>\n",
       "      <td>-2.0</td>\n",
       "      <td>2.0</td>\n",
       "      <td>0.0</td>\n",
       "      <td>0.0</td>\n",
       "      <td>1.0</td>\n",
       "      <td>-2.0</td>\n",
       "    </tr>\n",
       "    <tr>\n",
       "      <th>27</th>\n",
       "      <td>-0.0</td>\n",
       "      <td>-1.0</td>\n",
       "      <td>-1.0</td>\n",
       "      <td>-0.0</td>\n",
       "      <td>0.0</td>\n",
       "      <td>1.0</td>\n",
       "      <td>1.0</td>\n",
       "      <td>-2.0</td>\n",
       "      <td>-1.0</td>\n",
       "      <td>-1.0</td>\n",
       "    </tr>\n",
       "    <tr>\n",
       "      <th>28</th>\n",
       "      <td>-2.0</td>\n",
       "      <td>1.0</td>\n",
       "      <td>0.0</td>\n",
       "      <td>1.0</td>\n",
       "      <td>0.0</td>\n",
       "      <td>-0.0</td>\n",
       "      <td>2.0</td>\n",
       "      <td>-1.0</td>\n",
       "      <td>0.0</td>\n",
       "      <td>1.0</td>\n",
       "    </tr>\n",
       "    <tr>\n",
       "      <th>29</th>\n",
       "      <td>-2.0</td>\n",
       "      <td>1.0</td>\n",
       "      <td>-1.0</td>\n",
       "      <td>-3.0</td>\n",
       "      <td>-1.0</td>\n",
       "      <td>1.0</td>\n",
       "      <td>0.0</td>\n",
       "      <td>1.0</td>\n",
       "      <td>-2.0</td>\n",
       "      <td>-1.0</td>\n",
       "    </tr>\n",
       "    <tr>\n",
       "      <th>...</th>\n",
       "      <td>...</td>\n",
       "      <td>...</td>\n",
       "      <td>...</td>\n",
       "      <td>...</td>\n",
       "      <td>...</td>\n",
       "      <td>...</td>\n",
       "      <td>...</td>\n",
       "      <td>...</td>\n",
       "      <td>...</td>\n",
       "      <td>...</td>\n",
       "    </tr>\n",
       "    <tr>\n",
       "      <th>370</th>\n",
       "      <td>2.0</td>\n",
       "      <td>1.0</td>\n",
       "      <td>0.0</td>\n",
       "      <td>0.0</td>\n",
       "      <td>-1.0</td>\n",
       "      <td>-2.0</td>\n",
       "      <td>-1.0</td>\n",
       "      <td>1.0</td>\n",
       "      <td>0.0</td>\n",
       "      <td>0.0</td>\n",
       "    </tr>\n",
       "    <tr>\n",
       "      <th>371</th>\n",
       "      <td>1.0</td>\n",
       "      <td>-1.0</td>\n",
       "      <td>1.0</td>\n",
       "      <td>0.0</td>\n",
       "      <td>-0.0</td>\n",
       "      <td>-1.0</td>\n",
       "      <td>1.0</td>\n",
       "      <td>2.0</td>\n",
       "      <td>0.0</td>\n",
       "      <td>2.0</td>\n",
       "    </tr>\n",
       "    <tr>\n",
       "      <th>372</th>\n",
       "      <td>-1.0</td>\n",
       "      <td>2.0</td>\n",
       "      <td>2.0</td>\n",
       "      <td>-0.0</td>\n",
       "      <td>-2.0</td>\n",
       "      <td>-0.0</td>\n",
       "      <td>-0.0</td>\n",
       "      <td>2.0</td>\n",
       "      <td>1.0</td>\n",
       "      <td>1.0</td>\n",
       "    </tr>\n",
       "    <tr>\n",
       "      <th>373</th>\n",
       "      <td>0.0</td>\n",
       "      <td>1.0</td>\n",
       "      <td>1.0</td>\n",
       "      <td>-2.0</td>\n",
       "      <td>-1.0</td>\n",
       "      <td>-1.0</td>\n",
       "      <td>-2.0</td>\n",
       "      <td>-1.0</td>\n",
       "      <td>-0.0</td>\n",
       "      <td>-1.0</td>\n",
       "    </tr>\n",
       "    <tr>\n",
       "      <th>374</th>\n",
       "      <td>-0.0</td>\n",
       "      <td>-1.0</td>\n",
       "      <td>-1.0</td>\n",
       "      <td>-1.0</td>\n",
       "      <td>1.0</td>\n",
       "      <td>2.0</td>\n",
       "      <td>-1.0</td>\n",
       "      <td>1.0</td>\n",
       "      <td>-1.0</td>\n",
       "      <td>-0.0</td>\n",
       "    </tr>\n",
       "    <tr>\n",
       "      <th>375</th>\n",
       "      <td>-1.0</td>\n",
       "      <td>-1.0</td>\n",
       "      <td>0.0</td>\n",
       "      <td>1.0</td>\n",
       "      <td>-2.0</td>\n",
       "      <td>-1.0</td>\n",
       "      <td>-0.0</td>\n",
       "      <td>-1.0</td>\n",
       "      <td>1.0</td>\n",
       "      <td>0.0</td>\n",
       "    </tr>\n",
       "    <tr>\n",
       "      <th>376</th>\n",
       "      <td>-2.0</td>\n",
       "      <td>-0.0</td>\n",
       "      <td>1.0</td>\n",
       "      <td>-2.0</td>\n",
       "      <td>2.0</td>\n",
       "      <td>0.0</td>\n",
       "      <td>-1.0</td>\n",
       "      <td>0.0</td>\n",
       "      <td>0.0</td>\n",
       "      <td>1.0</td>\n",
       "    </tr>\n",
       "    <tr>\n",
       "      <th>377</th>\n",
       "      <td>1.0</td>\n",
       "      <td>-1.0</td>\n",
       "      <td>-2.0</td>\n",
       "      <td>-2.0</td>\n",
       "      <td>1.0</td>\n",
       "      <td>1.0</td>\n",
       "      <td>0.0</td>\n",
       "      <td>2.0</td>\n",
       "      <td>-2.0</td>\n",
       "      <td>-1.0</td>\n",
       "    </tr>\n",
       "    <tr>\n",
       "      <th>378</th>\n",
       "      <td>0.0</td>\n",
       "      <td>0.0</td>\n",
       "      <td>-0.0</td>\n",
       "      <td>-1.0</td>\n",
       "      <td>-3.0</td>\n",
       "      <td>-0.0</td>\n",
       "      <td>-0.0</td>\n",
       "      <td>-0.0</td>\n",
       "      <td>-1.0</td>\n",
       "      <td>-1.0</td>\n",
       "    </tr>\n",
       "    <tr>\n",
       "      <th>379</th>\n",
       "      <td>-1.0</td>\n",
       "      <td>-1.0</td>\n",
       "      <td>-1.0</td>\n",
       "      <td>-0.0</td>\n",
       "      <td>-1.0</td>\n",
       "      <td>-0.0</td>\n",
       "      <td>-1.0</td>\n",
       "      <td>2.0</td>\n",
       "      <td>-0.0</td>\n",
       "      <td>1.0</td>\n",
       "    </tr>\n",
       "    <tr>\n",
       "      <th>380</th>\n",
       "      <td>1.0</td>\n",
       "      <td>-1.0</td>\n",
       "      <td>-2.0</td>\n",
       "      <td>2.0</td>\n",
       "      <td>1.0</td>\n",
       "      <td>-1.0</td>\n",
       "      <td>1.0</td>\n",
       "      <td>1.0</td>\n",
       "      <td>-1.0</td>\n",
       "      <td>1.0</td>\n",
       "    </tr>\n",
       "    <tr>\n",
       "      <th>381</th>\n",
       "      <td>-1.0</td>\n",
       "      <td>-1.0</td>\n",
       "      <td>0.0</td>\n",
       "      <td>0.0</td>\n",
       "      <td>-1.0</td>\n",
       "      <td>2.0</td>\n",
       "      <td>-0.0</td>\n",
       "      <td>-1.0</td>\n",
       "      <td>1.0</td>\n",
       "      <td>-1.0</td>\n",
       "    </tr>\n",
       "    <tr>\n",
       "      <th>382</th>\n",
       "      <td>-0.0</td>\n",
       "      <td>1.0</td>\n",
       "      <td>-0.0</td>\n",
       "      <td>-1.0</td>\n",
       "      <td>-1.0</td>\n",
       "      <td>-1.0</td>\n",
       "      <td>0.0</td>\n",
       "      <td>0.0</td>\n",
       "      <td>-0.0</td>\n",
       "      <td>-0.0</td>\n",
       "    </tr>\n",
       "    <tr>\n",
       "      <th>383</th>\n",
       "      <td>-0.0</td>\n",
       "      <td>0.0</td>\n",
       "      <td>2.0</td>\n",
       "      <td>1.0</td>\n",
       "      <td>-1.0</td>\n",
       "      <td>-1.0</td>\n",
       "      <td>1.0</td>\n",
       "      <td>0.0</td>\n",
       "      <td>0.0</td>\n",
       "      <td>1.0</td>\n",
       "    </tr>\n",
       "    <tr>\n",
       "      <th>384</th>\n",
       "      <td>-1.0</td>\n",
       "      <td>1.0</td>\n",
       "      <td>-1.0</td>\n",
       "      <td>-0.0</td>\n",
       "      <td>-0.0</td>\n",
       "      <td>-0.0</td>\n",
       "      <td>-1.0</td>\n",
       "      <td>1.0</td>\n",
       "      <td>-1.0</td>\n",
       "      <td>1.0</td>\n",
       "    </tr>\n",
       "    <tr>\n",
       "      <th>385</th>\n",
       "      <td>1.0</td>\n",
       "      <td>-0.0</td>\n",
       "      <td>-1.0</td>\n",
       "      <td>-1.0</td>\n",
       "      <td>1.0</td>\n",
       "      <td>-1.0</td>\n",
       "      <td>1.0</td>\n",
       "      <td>-1.0</td>\n",
       "      <td>0.0</td>\n",
       "      <td>-1.0</td>\n",
       "    </tr>\n",
       "    <tr>\n",
       "      <th>386</th>\n",
       "      <td>-1.0</td>\n",
       "      <td>-1.0</td>\n",
       "      <td>-0.0</td>\n",
       "      <td>-0.0</td>\n",
       "      <td>-3.0</td>\n",
       "      <td>1.0</td>\n",
       "      <td>2.0</td>\n",
       "      <td>1.0</td>\n",
       "      <td>-0.0</td>\n",
       "      <td>0.0</td>\n",
       "    </tr>\n",
       "    <tr>\n",
       "      <th>387</th>\n",
       "      <td>1.0</td>\n",
       "      <td>-0.0</td>\n",
       "      <td>-1.0</td>\n",
       "      <td>-0.0</td>\n",
       "      <td>-1.0</td>\n",
       "      <td>-1.0</td>\n",
       "      <td>0.0</td>\n",
       "      <td>-2.0</td>\n",
       "      <td>1.0</td>\n",
       "      <td>1.0</td>\n",
       "    </tr>\n",
       "    <tr>\n",
       "      <th>388</th>\n",
       "      <td>-1.0</td>\n",
       "      <td>0.0</td>\n",
       "      <td>0.0</td>\n",
       "      <td>-3.0</td>\n",
       "      <td>1.0</td>\n",
       "      <td>-1.0</td>\n",
       "      <td>1.0</td>\n",
       "      <td>0.0</td>\n",
       "      <td>-1.0</td>\n",
       "      <td>0.0</td>\n",
       "    </tr>\n",
       "    <tr>\n",
       "      <th>389</th>\n",
       "      <td>-0.0</td>\n",
       "      <td>1.0</td>\n",
       "      <td>2.0</td>\n",
       "      <td>-1.0</td>\n",
       "      <td>-1.0</td>\n",
       "      <td>-1.0</td>\n",
       "      <td>-1.0</td>\n",
       "      <td>0.0</td>\n",
       "      <td>-0.0</td>\n",
       "      <td>1.0</td>\n",
       "    </tr>\n",
       "    <tr>\n",
       "      <th>390</th>\n",
       "      <td>-0.0</td>\n",
       "      <td>0.0</td>\n",
       "      <td>-2.0</td>\n",
       "      <td>0.0</td>\n",
       "      <td>-3.0</td>\n",
       "      <td>-0.0</td>\n",
       "      <td>1.0</td>\n",
       "      <td>-1.0</td>\n",
       "      <td>-1.0</td>\n",
       "      <td>-1.0</td>\n",
       "    </tr>\n",
       "    <tr>\n",
       "      <th>391</th>\n",
       "      <td>2.0</td>\n",
       "      <td>-2.0</td>\n",
       "      <td>-1.0</td>\n",
       "      <td>0.0</td>\n",
       "      <td>1.0</td>\n",
       "      <td>0.0</td>\n",
       "      <td>0.0</td>\n",
       "      <td>1.0</td>\n",
       "      <td>1.0</td>\n",
       "      <td>-1.0</td>\n",
       "    </tr>\n",
       "    <tr>\n",
       "      <th>392</th>\n",
       "      <td>-1.0</td>\n",
       "      <td>1.0</td>\n",
       "      <td>-2.0</td>\n",
       "      <td>-0.0</td>\n",
       "      <td>1.0</td>\n",
       "      <td>-0.0</td>\n",
       "      <td>1.0</td>\n",
       "      <td>1.0</td>\n",
       "      <td>-1.0</td>\n",
       "      <td>-0.0</td>\n",
       "    </tr>\n",
       "    <tr>\n",
       "      <th>393</th>\n",
       "      <td>1.0</td>\n",
       "      <td>-0.0</td>\n",
       "      <td>-0.0</td>\n",
       "      <td>1.0</td>\n",
       "      <td>0.0</td>\n",
       "      <td>-2.0</td>\n",
       "      <td>0.0</td>\n",
       "      <td>-3.0</td>\n",
       "      <td>-0.0</td>\n",
       "      <td>-1.0</td>\n",
       "    </tr>\n",
       "    <tr>\n",
       "      <th>394</th>\n",
       "      <td>-0.0</td>\n",
       "      <td>-1.0</td>\n",
       "      <td>1.0</td>\n",
       "      <td>-1.0</td>\n",
       "      <td>-0.0</td>\n",
       "      <td>1.0</td>\n",
       "      <td>-1.0</td>\n",
       "      <td>1.0</td>\n",
       "      <td>-1.0</td>\n",
       "      <td>-1.0</td>\n",
       "    </tr>\n",
       "    <tr>\n",
       "      <th>395</th>\n",
       "      <td>-1.0</td>\n",
       "      <td>0.0</td>\n",
       "      <td>1.0</td>\n",
       "      <td>1.0</td>\n",
       "      <td>1.0</td>\n",
       "      <td>1.0</td>\n",
       "      <td>0.0</td>\n",
       "      <td>-2.0</td>\n",
       "      <td>2.0</td>\n",
       "      <td>-1.0</td>\n",
       "    </tr>\n",
       "    <tr>\n",
       "      <th>396</th>\n",
       "      <td>-0.0</td>\n",
       "      <td>1.0</td>\n",
       "      <td>1.0</td>\n",
       "      <td>-1.0</td>\n",
       "      <td>0.0</td>\n",
       "      <td>-0.0</td>\n",
       "      <td>-0.0</td>\n",
       "      <td>2.0</td>\n",
       "      <td>-1.0</td>\n",
       "      <td>-1.0</td>\n",
       "    </tr>\n",
       "    <tr>\n",
       "      <th>397</th>\n",
       "      <td>1.0</td>\n",
       "      <td>-0.0</td>\n",
       "      <td>1.0</td>\n",
       "      <td>-1.0</td>\n",
       "      <td>0.0</td>\n",
       "      <td>1.0</td>\n",
       "      <td>1.0</td>\n",
       "      <td>1.0</td>\n",
       "      <td>1.0</td>\n",
       "      <td>-1.0</td>\n",
       "    </tr>\n",
       "    <tr>\n",
       "      <th>398</th>\n",
       "      <td>1.0</td>\n",
       "      <td>-0.0</td>\n",
       "      <td>1.0</td>\n",
       "      <td>-1.0</td>\n",
       "      <td>2.0</td>\n",
       "      <td>-1.0</td>\n",
       "      <td>-1.0</td>\n",
       "      <td>1.0</td>\n",
       "      <td>0.0</td>\n",
       "      <td>2.0</td>\n",
       "    </tr>\n",
       "    <tr>\n",
       "      <th>399</th>\n",
       "      <td>-0.0</td>\n",
       "      <td>1.0</td>\n",
       "      <td>1.0</td>\n",
       "      <td>-1.0</td>\n",
       "      <td>-1.0</td>\n",
       "      <td>2.0</td>\n",
       "      <td>1.0</td>\n",
       "      <td>-1.0</td>\n",
       "      <td>-0.0</td>\n",
       "      <td>1.0</td>\n",
       "    </tr>\n",
       "  </tbody>\n",
       "</table>\n",
       "<p>400 rows × 10 columns</p>\n",
       "</div>"
      ],
      "text/plain": [
       "       A    B    C    D    E    F    G    H    I    J\n",
       "0   -1.0 -1.0  0.0  0.0 -3.0 -1.0 -1.0  0.0 -0.0 -0.0\n",
       "1    0.0 -1.0 -0.0 -0.0  1.0 -1.0 -1.0 -0.0  1.0 -0.0\n",
       "2   -0.0  1.0  1.0 -0.0 -1.0 -1.0 -0.0 -1.0 -0.0 -1.0\n",
       "3    1.0 -0.0 -2.0 -0.0 -0.0 -1.0 -1.0 -1.0  0.0  1.0\n",
       "4   -1.0 -1.0 -2.0  0.0 -1.0 -0.0 -0.0 -0.0  1.0 -1.0\n",
       "5   -0.0 -1.0 -1.0  1.0  2.0 -0.0 -0.0  1.0  1.0 -2.0\n",
       "6   -1.0  0.0  1.0 -0.0 -0.0  0.0 -1.0 -0.0 -0.0  1.0\n",
       "7    1.0 -0.0 -0.0  1.0 -1.0 -1.0  0.0 -2.0  1.0  1.0\n",
       "8    0.0  2.0  0.0 -1.0  0.0  1.0  0.0  0.0  1.0 -2.0\n",
       "9    1.0  0.0 -2.0  0.0  1.0  1.0  1.0  1.0 -2.0  0.0\n",
       "10  -1.0 -0.0  1.0  1.0  1.0 -1.0  0.0  0.0  0.0  0.0\n",
       "11  -2.0 -2.0  0.0  1.0 -2.0 -2.0  1.0 -1.0 -1.0  1.0\n",
       "12  -1.0 -0.0  1.0 -2.0  1.0  0.0 -0.0  1.0  1.0  1.0\n",
       "13   1.0 -0.0 -1.0 -1.0 -0.0 -2.0 -0.0  0.0 -1.0  0.0\n",
       "14  -1.0  2.0 -1.0 -1.0 -0.0 -2.0  0.0  1.0 -1.0  1.0\n",
       "15   1.0 -1.0 -1.0  0.0  0.0  0.0 -1.0  1.0 -0.0 -2.0\n",
       "16  -0.0 -1.0 -1.0 -1.0  1.0  0.0 -1.0  2.0 -0.0 -1.0\n",
       "17  -1.0  2.0 -1.0 -3.0  1.0  1.0  1.0 -0.0  1.0 -0.0\n",
       "18   1.0 -1.0 -0.0 -1.0  0.0 -0.0 -0.0 -1.0 -0.0  1.0\n",
       "19   1.0 -1.0  1.0  1.0 -2.0  1.0 -1.0  0.0 -0.0 -0.0\n",
       "20   1.0 -2.0 -1.0  1.0 -0.0 -0.0  1.0 -0.0 -0.0  2.0\n",
       "21  -1.0  1.0  2.0  1.0 -1.0  0.0  1.0 -0.0  1.0 -0.0\n",
       "22   1.0  1.0  2.0 -1.0  0.0 -0.0 -0.0  2.0 -1.0 -2.0\n",
       "23   0.0 -0.0  1.0  0.0 -1.0 -0.0  1.0 -1.0 -1.0  0.0\n",
       "24  -2.0  1.0 -0.0  1.0 -0.0 -1.0 -0.0  0.0  1.0  3.0\n",
       "25   1.0  0.0 -2.0  1.0 -1.0  1.0 -0.0  0.0 -1.0 -0.0\n",
       "26   1.0  1.0  0.0 -1.0 -2.0  2.0  0.0  0.0  1.0 -2.0\n",
       "27  -0.0 -1.0 -1.0 -0.0  0.0  1.0  1.0 -2.0 -1.0 -1.0\n",
       "28  -2.0  1.0  0.0  1.0  0.0 -0.0  2.0 -1.0  0.0  1.0\n",
       "29  -2.0  1.0 -1.0 -3.0 -1.0  1.0  0.0  1.0 -2.0 -1.0\n",
       "..   ...  ...  ...  ...  ...  ...  ...  ...  ...  ...\n",
       "370  2.0  1.0  0.0  0.0 -1.0 -2.0 -1.0  1.0  0.0  0.0\n",
       "371  1.0 -1.0  1.0  0.0 -0.0 -1.0  1.0  2.0  0.0  2.0\n",
       "372 -1.0  2.0  2.0 -0.0 -2.0 -0.0 -0.0  2.0  1.0  1.0\n",
       "373  0.0  1.0  1.0 -2.0 -1.0 -1.0 -2.0 -1.0 -0.0 -1.0\n",
       "374 -0.0 -1.0 -1.0 -1.0  1.0  2.0 -1.0  1.0 -1.0 -0.0\n",
       "375 -1.0 -1.0  0.0  1.0 -2.0 -1.0 -0.0 -1.0  1.0  0.0\n",
       "376 -2.0 -0.0  1.0 -2.0  2.0  0.0 -1.0  0.0  0.0  1.0\n",
       "377  1.0 -1.0 -2.0 -2.0  1.0  1.0  0.0  2.0 -2.0 -1.0\n",
       "378  0.0  0.0 -0.0 -1.0 -3.0 -0.0 -0.0 -0.0 -1.0 -1.0\n",
       "379 -1.0 -1.0 -1.0 -0.0 -1.0 -0.0 -1.0  2.0 -0.0  1.0\n",
       "380  1.0 -1.0 -2.0  2.0  1.0 -1.0  1.0  1.0 -1.0  1.0\n",
       "381 -1.0 -1.0  0.0  0.0 -1.0  2.0 -0.0 -1.0  1.0 -1.0\n",
       "382 -0.0  1.0 -0.0 -1.0 -1.0 -1.0  0.0  0.0 -0.0 -0.0\n",
       "383 -0.0  0.0  2.0  1.0 -1.0 -1.0  1.0  0.0  0.0  1.0\n",
       "384 -1.0  1.0 -1.0 -0.0 -0.0 -0.0 -1.0  1.0 -1.0  1.0\n",
       "385  1.0 -0.0 -1.0 -1.0  1.0 -1.0  1.0 -1.0  0.0 -1.0\n",
       "386 -1.0 -1.0 -0.0 -0.0 -3.0  1.0  2.0  1.0 -0.0  0.0\n",
       "387  1.0 -0.0 -1.0 -0.0 -1.0 -1.0  0.0 -2.0  1.0  1.0\n",
       "388 -1.0  0.0  0.0 -3.0  1.0 -1.0  1.0  0.0 -1.0  0.0\n",
       "389 -0.0  1.0  2.0 -1.0 -1.0 -1.0 -1.0  0.0 -0.0  1.0\n",
       "390 -0.0  0.0 -2.0  0.0 -3.0 -0.0  1.0 -1.0 -1.0 -1.0\n",
       "391  2.0 -2.0 -1.0  0.0  1.0  0.0  0.0  1.0  1.0 -1.0\n",
       "392 -1.0  1.0 -2.0 -0.0  1.0 -0.0  1.0  1.0 -1.0 -0.0\n",
       "393  1.0 -0.0 -0.0  1.0  0.0 -2.0  0.0 -3.0 -0.0 -1.0\n",
       "394 -0.0 -1.0  1.0 -1.0 -0.0  1.0 -1.0  1.0 -1.0 -1.0\n",
       "395 -1.0  0.0  1.0  1.0  1.0  1.0  0.0 -2.0  2.0 -1.0\n",
       "396 -0.0  1.0  1.0 -1.0  0.0 -0.0 -0.0  2.0 -1.0 -1.0\n",
       "397  1.0 -0.0  1.0 -1.0  0.0  1.0  1.0  1.0  1.0 -1.0\n",
       "398  1.0 -0.0  1.0 -1.0  2.0 -1.0 -1.0  1.0  0.0  2.0\n",
       "399 -0.0  1.0  1.0 -1.0 -1.0  2.0  1.0 -1.0 -0.0  1.0\n",
       "\n",
       "[400 rows x 10 columns]"
      ]
     },
     "execution_count": 436,
     "metadata": {},
     "output_type": "execute_result"
    }
   ],
   "source": [
    "data.round() # rounds values"
   ]
  },
  {
   "cell_type": "code",
   "execution_count": 437,
   "metadata": {},
   "outputs": [
    {
     "data": {
      "text/plain": [
       "A    400\n",
       "B    400\n",
       "C    400\n",
       "D    400\n",
       "E    400\n",
       "F    400\n",
       "G    400\n",
       "H    400\n",
       "I    400\n",
       "J    400\n",
       "dtype: int64"
      ]
     },
     "execution_count": 437,
     "metadata": {},
     "output_type": "execute_result"
    }
   ],
   "source": [
    "data.nunique() # counts the unique values for each column"
   ]
  },
  {
   "cell_type": "code",
   "execution_count": 438,
   "metadata": {},
   "outputs": [
    {
     "data": {
      "text/plain": [
       "0      10\n",
       "1      10\n",
       "2      10\n",
       "3      10\n",
       "4      10\n",
       "5      10\n",
       "6      10\n",
       "7      10\n",
       "8      10\n",
       "9      10\n",
       "10     10\n",
       "11     10\n",
       "12     10\n",
       "13     10\n",
       "14     10\n",
       "15     10\n",
       "16     10\n",
       "17     10\n",
       "18     10\n",
       "19     10\n",
       "20     10\n",
       "21     10\n",
       "22     10\n",
       "23     10\n",
       "24     10\n",
       "25     10\n",
       "26     10\n",
       "27     10\n",
       "28     10\n",
       "29     10\n",
       "       ..\n",
       "370    10\n",
       "371    10\n",
       "372    10\n",
       "373    10\n",
       "374    10\n",
       "375    10\n",
       "376    10\n",
       "377    10\n",
       "378    10\n",
       "379    10\n",
       "380    10\n",
       "381    10\n",
       "382    10\n",
       "383    10\n",
       "384    10\n",
       "385    10\n",
       "386    10\n",
       "387    10\n",
       "388    10\n",
       "389    10\n",
       "390    10\n",
       "391    10\n",
       "392    10\n",
       "393    10\n",
       "394    10\n",
       "395    10\n",
       "396    10\n",
       "397    10\n",
       "398    10\n",
       "399    10\n",
       "Length: 400, dtype: int64"
      ]
     },
     "execution_count": 438,
     "metadata": {},
     "output_type": "execute_result"
    }
   ],
   "source": [
    "data.nunique(axis = 1) # counts the unique values for each row"
   ]
  },
  {
   "cell_type": "markdown",
   "metadata": {},
   "source": [
    "For object data (e.g. strings), describe() provides the following statistical description for each column.\n",
    "- count is the number of data.\n",
    "- unique is the number of unique data.\n",
    "- top is the most common data.\n",
    "- freq is the frequency of the most common data."
   ]
  },
  {
   "cell_type": "code",
   "execution_count": 439,
   "metadata": {},
   "outputs": [],
   "source": [
    "df_obj = pd.DataFrame({'Name':['A','D','S','K'],\n",
    "                       'Nationality':['Japan','Colombia','Japan','Chile'],\n",
    "                      'Gender':['F','F','M','F']})"
   ]
  },
  {
   "cell_type": "code",
   "execution_count": 440,
   "metadata": {},
   "outputs": [
    {
     "data": {
      "text/html": [
       "<div>\n",
       "<style scoped>\n",
       "    .dataframe tbody tr th:only-of-type {\n",
       "        vertical-align: middle;\n",
       "    }\n",
       "\n",
       "    .dataframe tbody tr th {\n",
       "        vertical-align: top;\n",
       "    }\n",
       "\n",
       "    .dataframe thead th {\n",
       "        text-align: right;\n",
       "    }\n",
       "</style>\n",
       "<table border=\"1\" class=\"dataframe\">\n",
       "  <thead>\n",
       "    <tr style=\"text-align: right;\">\n",
       "      <th></th>\n",
       "      <th>Name</th>\n",
       "      <th>Nationality</th>\n",
       "      <th>Gender</th>\n",
       "    </tr>\n",
       "  </thead>\n",
       "  <tbody>\n",
       "    <tr>\n",
       "      <th>count</th>\n",
       "      <td>4</td>\n",
       "      <td>4</td>\n",
       "      <td>4</td>\n",
       "    </tr>\n",
       "    <tr>\n",
       "      <th>unique</th>\n",
       "      <td>4</td>\n",
       "      <td>3</td>\n",
       "      <td>2</td>\n",
       "    </tr>\n",
       "    <tr>\n",
       "      <th>top</th>\n",
       "      <td>S</td>\n",
       "      <td>Japan</td>\n",
       "      <td>F</td>\n",
       "    </tr>\n",
       "    <tr>\n",
       "      <th>freq</th>\n",
       "      <td>1</td>\n",
       "      <td>2</td>\n",
       "      <td>3</td>\n",
       "    </tr>\n",
       "  </tbody>\n",
       "</table>\n",
       "</div>"
      ],
      "text/plain": [
       "       Name Nationality Gender\n",
       "count     4           4      4\n",
       "unique    4           3      2\n",
       "top       S       Japan      F\n",
       "freq      1           2      3"
      ]
     },
     "execution_count": 440,
     "metadata": {},
     "output_type": "execute_result"
    }
   ],
   "source": [
    "df_obj.describe()"
   ]
  },
  {
   "cell_type": "markdown",
   "metadata": {},
   "source": [
    "#### 3.2) Modifying dataframe\n",
    "Dataframe are mutable data structure. We can modify them or part of them.\n",
    "When assigning a dataframe to another one, i.e. $\\mathtt{df\\_obj2} = \\mathtt{df\\_obj}$, both dataframes point to the same object in the memory."
   ]
  },
  {
   "cell_type": "code",
   "execution_count": 441,
   "metadata": {},
   "outputs": [
    {
     "data": {
      "text/plain": [
       "4820901112"
      ]
     },
     "execution_count": 441,
     "metadata": {},
     "output_type": "execute_result"
    }
   ],
   "source": [
    "id(df_obj) # dataframe id in the memory"
   ]
  },
  {
   "cell_type": "code",
   "execution_count": 442,
   "metadata": {},
   "outputs": [],
   "source": [
    "df_obj2 = df_obj"
   ]
  },
  {
   "cell_type": "code",
   "execution_count": 444,
   "metadata": {},
   "outputs": [
    {
     "data": {
      "text/plain": [
       "4820901112"
      ]
     },
     "execution_count": 444,
     "metadata": {},
     "output_type": "execute_result"
    }
   ],
   "source": [
    "id(df_obj2)"
   ]
  },
  {
   "cell_type": "code",
   "execution_count": 445,
   "metadata": {},
   "outputs": [
    {
     "data": {
      "text/html": [
       "<div>\n",
       "<style scoped>\n",
       "    .dataframe tbody tr th:only-of-type {\n",
       "        vertical-align: middle;\n",
       "    }\n",
       "\n",
       "    .dataframe tbody tr th {\n",
       "        vertical-align: top;\n",
       "    }\n",
       "\n",
       "    .dataframe thead th {\n",
       "        text-align: right;\n",
       "    }\n",
       "</style>\n",
       "<table border=\"1\" class=\"dataframe\">\n",
       "  <thead>\n",
       "    <tr style=\"text-align: right;\">\n",
       "      <th></th>\n",
       "      <th>Name</th>\n",
       "      <th>Nationality</th>\n",
       "      <th>Gender</th>\n",
       "    </tr>\n",
       "  </thead>\n",
       "  <tbody>\n",
       "    <tr>\n",
       "      <th>0</th>\n",
       "      <td>A</td>\n",
       "      <td>Japan</td>\n",
       "      <td>F</td>\n",
       "    </tr>\n",
       "    <tr>\n",
       "      <th>1</th>\n",
       "      <td>D</td>\n",
       "      <td>Colombia</td>\n",
       "      <td>F</td>\n",
       "    </tr>\n",
       "    <tr>\n",
       "      <th>2</th>\n",
       "      <td>S</td>\n",
       "      <td>Japan</td>\n",
       "      <td>M</td>\n",
       "    </tr>\n",
       "    <tr>\n",
       "      <th>3</th>\n",
       "      <td>K</td>\n",
       "      <td>Chile</td>\n",
       "      <td>F</td>\n",
       "    </tr>\n",
       "  </tbody>\n",
       "</table>\n",
       "</div>"
      ],
      "text/plain": [
       "  Name Nationality Gender\n",
       "0    A       Japan      F\n",
       "1    D    Colombia      F\n",
       "2    S       Japan      M\n",
       "3    K       Chile      F"
      ]
     },
     "execution_count": 445,
     "metadata": {},
     "output_type": "execute_result"
    }
   ],
   "source": [
    "df_obj"
   ]
  },
  {
   "cell_type": "markdown",
   "metadata": {},
   "source": [
    "We can modify a single value."
   ]
  },
  {
   "cell_type": "code",
   "execution_count": 446,
   "metadata": {},
   "outputs": [],
   "source": [
    "df_obj.iloc[3,1] = 'Palau'"
   ]
  },
  {
   "cell_type": "code",
   "execution_count": 447,
   "metadata": {},
   "outputs": [
    {
     "data": {
      "text/html": [
       "<div>\n",
       "<style scoped>\n",
       "    .dataframe tbody tr th:only-of-type {\n",
       "        vertical-align: middle;\n",
       "    }\n",
       "\n",
       "    .dataframe tbody tr th {\n",
       "        vertical-align: top;\n",
       "    }\n",
       "\n",
       "    .dataframe thead th {\n",
       "        text-align: right;\n",
       "    }\n",
       "</style>\n",
       "<table border=\"1\" class=\"dataframe\">\n",
       "  <thead>\n",
       "    <tr style=\"text-align: right;\">\n",
       "      <th></th>\n",
       "      <th>Name</th>\n",
       "      <th>Nationality</th>\n",
       "      <th>Gender</th>\n",
       "    </tr>\n",
       "  </thead>\n",
       "  <tbody>\n",
       "    <tr>\n",
       "      <th>0</th>\n",
       "      <td>A</td>\n",
       "      <td>Japan</td>\n",
       "      <td>F</td>\n",
       "    </tr>\n",
       "    <tr>\n",
       "      <th>1</th>\n",
       "      <td>D</td>\n",
       "      <td>Colombia</td>\n",
       "      <td>F</td>\n",
       "    </tr>\n",
       "    <tr>\n",
       "      <th>2</th>\n",
       "      <td>S</td>\n",
       "      <td>Japan</td>\n",
       "      <td>M</td>\n",
       "    </tr>\n",
       "    <tr>\n",
       "      <th>3</th>\n",
       "      <td>K</td>\n",
       "      <td>Palau</td>\n",
       "      <td>F</td>\n",
       "    </tr>\n",
       "  </tbody>\n",
       "</table>\n",
       "</div>"
      ],
      "text/plain": [
       "  Name Nationality Gender\n",
       "0    A       Japan      F\n",
       "1    D    Colombia      F\n",
       "2    S       Japan      M\n",
       "3    K       Palau      F"
      ]
     },
     "execution_count": 447,
     "metadata": {},
     "output_type": "execute_result"
    }
   ],
   "source": [
    "df_obj"
   ]
  },
  {
   "cell_type": "markdown",
   "metadata": {},
   "source": [
    "We can modify an entire column."
   ]
  },
  {
   "cell_type": "code",
   "execution_count": 452,
   "metadata": {},
   "outputs": [],
   "source": [
    "new_names = np.array(['Tsubaki','Rose','Yuri','Azalea'])\n",
    "df_obj.Name = pd.Series(new_names, index = df_obj.index)"
   ]
  },
  {
   "cell_type": "code",
   "execution_count": 453,
   "metadata": {},
   "outputs": [
    {
     "data": {
      "text/html": [
       "<div>\n",
       "<style scoped>\n",
       "    .dataframe tbody tr th:only-of-type {\n",
       "        vertical-align: middle;\n",
       "    }\n",
       "\n",
       "    .dataframe tbody tr th {\n",
       "        vertical-align: top;\n",
       "    }\n",
       "\n",
       "    .dataframe thead th {\n",
       "        text-align: right;\n",
       "    }\n",
       "</style>\n",
       "<table border=\"1\" class=\"dataframe\">\n",
       "  <thead>\n",
       "    <tr style=\"text-align: right;\">\n",
       "      <th></th>\n",
       "      <th>Name</th>\n",
       "      <th>Nationality</th>\n",
       "      <th>Gender</th>\n",
       "    </tr>\n",
       "  </thead>\n",
       "  <tbody>\n",
       "    <tr>\n",
       "      <th>0</th>\n",
       "      <td>Tsubaki</td>\n",
       "      <td>Japan</td>\n",
       "      <td>F</td>\n",
       "    </tr>\n",
       "    <tr>\n",
       "      <th>1</th>\n",
       "      <td>Rose</td>\n",
       "      <td>Colombia</td>\n",
       "      <td>F</td>\n",
       "    </tr>\n",
       "    <tr>\n",
       "      <th>2</th>\n",
       "      <td>Yuri</td>\n",
       "      <td>Japan</td>\n",
       "      <td>M</td>\n",
       "    </tr>\n",
       "    <tr>\n",
       "      <th>3</th>\n",
       "      <td>Azalea</td>\n",
       "      <td>Palau</td>\n",
       "      <td>F</td>\n",
       "    </tr>\n",
       "  </tbody>\n",
       "</table>\n",
       "</div>"
      ],
      "text/plain": [
       "      Name Nationality Gender\n",
       "0  Tsubaki       Japan      F\n",
       "1     Rose    Colombia      F\n",
       "2     Yuri       Japan      M\n",
       "3   Azalea       Palau      F"
      ]
     },
     "execution_count": 453,
     "metadata": {},
     "output_type": "execute_result"
    }
   ],
   "source": [
    "df_obj"
   ]
  },
  {
   "cell_type": "markdown",
   "metadata": {},
   "source": [
    "Adding new columns or new rows to a dataframe is tricky. First, recall that dataframe is 2D tabular structure. Each column is of type Series, which is a 1D tabular structure. \n",
    "To add new data --> we add a new column ---> we add a Series.\n",
    "\n",
    "1. **Adding a new column**:\n",
    "Let's add to $\\mathtt{df\\_obj}$ a new column that contains the age. The new column is a Series. Similarly to the way we defined dataframes in the previous section, we can make a Series from a Numpy array. The series must have one label to access its values because it is a 1D tabular structure. The label should be the same as the labels of rows of $\\mathtt{df\\_obj}$. "
   ]
  },
  {
   "cell_type": "code",
   "execution_count": 455,
   "metadata": {},
   "outputs": [],
   "source": [
    "age_arr = np.array([20,23,22,21])\n",
    "df_obj['Age'] = pd.Series(age_arr, index=df_obj.index)"
   ]
  },
  {
   "cell_type": "code",
   "execution_count": 456,
   "metadata": {},
   "outputs": [
    {
     "data": {
      "text/html": [
       "<div>\n",
       "<style scoped>\n",
       "    .dataframe tbody tr th:only-of-type {\n",
       "        vertical-align: middle;\n",
       "    }\n",
       "\n",
       "    .dataframe tbody tr th {\n",
       "        vertical-align: top;\n",
       "    }\n",
       "\n",
       "    .dataframe thead th {\n",
       "        text-align: right;\n",
       "    }\n",
       "</style>\n",
       "<table border=\"1\" class=\"dataframe\">\n",
       "  <thead>\n",
       "    <tr style=\"text-align: right;\">\n",
       "      <th></th>\n",
       "      <th>Name</th>\n",
       "      <th>Nationality</th>\n",
       "      <th>Gender</th>\n",
       "      <th>Age</th>\n",
       "    </tr>\n",
       "  </thead>\n",
       "  <tbody>\n",
       "    <tr>\n",
       "      <th>0</th>\n",
       "      <td>Tsubaki</td>\n",
       "      <td>Japan</td>\n",
       "      <td>F</td>\n",
       "      <td>20</td>\n",
       "    </tr>\n",
       "    <tr>\n",
       "      <th>1</th>\n",
       "      <td>Rose</td>\n",
       "      <td>Colombia</td>\n",
       "      <td>F</td>\n",
       "      <td>23</td>\n",
       "    </tr>\n",
       "    <tr>\n",
       "      <th>2</th>\n",
       "      <td>Yuri</td>\n",
       "      <td>Japan</td>\n",
       "      <td>M</td>\n",
       "      <td>22</td>\n",
       "    </tr>\n",
       "    <tr>\n",
       "      <th>3</th>\n",
       "      <td>Azalea</td>\n",
       "      <td>Palau</td>\n",
       "      <td>F</td>\n",
       "      <td>21</td>\n",
       "    </tr>\n",
       "  </tbody>\n",
       "</table>\n",
       "</div>"
      ],
      "text/plain": [
       "      Name Nationality Gender  Age\n",
       "0  Tsubaki       Japan      F   20\n",
       "1     Rose    Colombia      F   23\n",
       "2     Yuri       Japan      M   22\n",
       "3   Azalea       Palau      F   21"
      ]
     },
     "execution_count": 456,
     "metadata": {},
     "output_type": "execute_result"
    }
   ],
   "source": [
    "df_obj"
   ]
  },
  {
   "cell_type": "markdown",
   "metadata": {},
   "source": [
    "2. **Adding a new Row**: Let's add a new person to $\\mathtt{df\\_obj}$. We use the method $\\mathtt{append()}$ to add a new row. The new row is a Series. In this case the indexes of the values are the names of the columns of $\\mathtt{df\\_obj}$. Note the parameter $\\mathtt{ingnore\\_index=True}$, it means that the index of the Series should be ignored and the index of the dataframe $\\mathtt{df\\_obj}$ should be used. Otherwise, pandas will complain."
   ]
  },
  {
   "cell_type": "code",
   "execution_count": 459,
   "metadata": {},
   "outputs": [
    {
     "data": {
      "text/html": [
       "<div>\n",
       "<style scoped>\n",
       "    .dataframe tbody tr th:only-of-type {\n",
       "        vertical-align: middle;\n",
       "    }\n",
       "\n",
       "    .dataframe tbody tr th {\n",
       "        vertical-align: top;\n",
       "    }\n",
       "\n",
       "    .dataframe thead th {\n",
       "        text-align: right;\n",
       "    }\n",
       "</style>\n",
       "<table border=\"1\" class=\"dataframe\">\n",
       "  <thead>\n",
       "    <tr style=\"text-align: right;\">\n",
       "      <th></th>\n",
       "      <th>Name</th>\n",
       "      <th>Nationality</th>\n",
       "      <th>Gender</th>\n",
       "      <th>Age</th>\n",
       "    </tr>\n",
       "  </thead>\n",
       "  <tbody>\n",
       "    <tr>\n",
       "      <th>0</th>\n",
       "      <td>Tsubaki</td>\n",
       "      <td>Japan</td>\n",
       "      <td>F</td>\n",
       "      <td>20</td>\n",
       "    </tr>\n",
       "    <tr>\n",
       "      <th>1</th>\n",
       "      <td>Rose</td>\n",
       "      <td>Colombia</td>\n",
       "      <td>F</td>\n",
       "      <td>23</td>\n",
       "    </tr>\n",
       "    <tr>\n",
       "      <th>2</th>\n",
       "      <td>Yuri</td>\n",
       "      <td>Japan</td>\n",
       "      <td>M</td>\n",
       "      <td>22</td>\n",
       "    </tr>\n",
       "    <tr>\n",
       "      <th>3</th>\n",
       "      <td>Azalea</td>\n",
       "      <td>Palau</td>\n",
       "      <td>F</td>\n",
       "      <td>21</td>\n",
       "    </tr>\n",
       "    <tr>\n",
       "      <th>4</th>\n",
       "      <td>Jasmine</td>\n",
       "      <td>Angola</td>\n",
       "      <td>F</td>\n",
       "      <td>19</td>\n",
       "    </tr>\n",
       "  </tbody>\n",
       "</table>\n",
       "</div>"
      ],
      "text/plain": [
       "      Name Nationality Gender Age\n",
       "0  Tsubaki       Japan      F  20\n",
       "1     Rose    Colombia      F  23\n",
       "2     Yuri       Japan      M  22\n",
       "3   Azalea       Palau      F  21\n",
       "4  Jasmine      Angola      F  19"
      ]
     },
     "execution_count": 459,
     "metadata": {},
     "output_type": "execute_result"
    }
   ],
   "source": [
    "new_person = np.array(['Jasmine','Angola','F',19])\n",
    "df_obj.append(pd.Series(new_person,index=df_obj.columns),ignore_index=True)"
   ]
  },
  {
   "cell_type": "markdown",
   "metadata": {},
   "source": [
    "#### 3.3) Function application\n",
    "This is a cool staff about pandas! Dataframe comes with useful methods to reason about the data. Let's add the grades to dataframe $\\mathtt{df\\_obj}$."
   ]
  },
  {
   "cell_type": "code",
   "execution_count": 476,
   "metadata": {},
   "outputs": [
    {
     "data": {
      "text/html": [
       "<div>\n",
       "<style scoped>\n",
       "    .dataframe tbody tr th:only-of-type {\n",
       "        vertical-align: middle;\n",
       "    }\n",
       "\n",
       "    .dataframe tbody tr th {\n",
       "        vertical-align: top;\n",
       "    }\n",
       "\n",
       "    .dataframe thead th {\n",
       "        text-align: right;\n",
       "    }\n",
       "</style>\n",
       "<table border=\"1\" class=\"dataframe\">\n",
       "  <thead>\n",
       "    <tr style=\"text-align: right;\">\n",
       "      <th></th>\n",
       "      <th>Name</th>\n",
       "      <th>Nationality</th>\n",
       "      <th>Gender</th>\n",
       "      <th>Age</th>\n",
       "    </tr>\n",
       "  </thead>\n",
       "  <tbody>\n",
       "    <tr>\n",
       "      <th>0</th>\n",
       "      <td>Tsubaki</td>\n",
       "      <td>Japan</td>\n",
       "      <td>F</td>\n",
       "      <td>20</td>\n",
       "    </tr>\n",
       "    <tr>\n",
       "      <th>1</th>\n",
       "      <td>Rose</td>\n",
       "      <td>Colombia</td>\n",
       "      <td>F</td>\n",
       "      <td>23</td>\n",
       "    </tr>\n",
       "    <tr>\n",
       "      <th>2</th>\n",
       "      <td>Yuri</td>\n",
       "      <td>Japan</td>\n",
       "      <td>M</td>\n",
       "      <td>22</td>\n",
       "    </tr>\n",
       "    <tr>\n",
       "      <th>3</th>\n",
       "      <td>Azalea</td>\n",
       "      <td>Palau</td>\n",
       "      <td>F</td>\n",
       "      <td>21</td>\n",
       "    </tr>\n",
       "  </tbody>\n",
       "</table>\n",
       "</div>"
      ],
      "text/plain": [
       "      Name Nationality Gender  Age\n",
       "0  Tsubaki       Japan      F   20\n",
       "1     Rose    Colombia      F   23\n",
       "2     Yuri       Japan      M   22\n",
       "3   Azalea       Palau      F   21"
      ]
     },
     "execution_count": 476,
     "metadata": {},
     "output_type": "execute_result"
    }
   ],
   "source": [
    "df_obj"
   ]
  },
  {
   "cell_type": "code",
   "execution_count": 477,
   "metadata": {},
   "outputs": [],
   "source": [
    "grades = np.array([[8,6,10,5],[2,8,7,5],[5,10,10,2]])\n",
    "df_obj['Math'] = pd.Series(grades[0], index=df_obj.index)\n",
    "df_obj['Physics'] = pd.Series(grades[1], index=df_obj.index)\n",
    "df_obj['CS'] = pd.Series(grades[2], index=df_obj.index)"
   ]
  },
  {
   "cell_type": "code",
   "execution_count": 478,
   "metadata": {},
   "outputs": [
    {
     "data": {
      "text/html": [
       "<div>\n",
       "<style scoped>\n",
       "    .dataframe tbody tr th:only-of-type {\n",
       "        vertical-align: middle;\n",
       "    }\n",
       "\n",
       "    .dataframe tbody tr th {\n",
       "        vertical-align: top;\n",
       "    }\n",
       "\n",
       "    .dataframe thead th {\n",
       "        text-align: right;\n",
       "    }\n",
       "</style>\n",
       "<table border=\"1\" class=\"dataframe\">\n",
       "  <thead>\n",
       "    <tr style=\"text-align: right;\">\n",
       "      <th></th>\n",
       "      <th>Name</th>\n",
       "      <th>Nationality</th>\n",
       "      <th>Gender</th>\n",
       "      <th>Age</th>\n",
       "      <th>Math</th>\n",
       "      <th>Physics</th>\n",
       "      <th>CS</th>\n",
       "    </tr>\n",
       "  </thead>\n",
       "  <tbody>\n",
       "    <tr>\n",
       "      <th>0</th>\n",
       "      <td>Tsubaki</td>\n",
       "      <td>Japan</td>\n",
       "      <td>F</td>\n",
       "      <td>20</td>\n",
       "      <td>8</td>\n",
       "      <td>2</td>\n",
       "      <td>5</td>\n",
       "    </tr>\n",
       "    <tr>\n",
       "      <th>1</th>\n",
       "      <td>Rose</td>\n",
       "      <td>Colombia</td>\n",
       "      <td>F</td>\n",
       "      <td>23</td>\n",
       "      <td>6</td>\n",
       "      <td>8</td>\n",
       "      <td>10</td>\n",
       "    </tr>\n",
       "    <tr>\n",
       "      <th>2</th>\n",
       "      <td>Yuri</td>\n",
       "      <td>Japan</td>\n",
       "      <td>M</td>\n",
       "      <td>22</td>\n",
       "      <td>10</td>\n",
       "      <td>7</td>\n",
       "      <td>10</td>\n",
       "    </tr>\n",
       "    <tr>\n",
       "      <th>3</th>\n",
       "      <td>Azalea</td>\n",
       "      <td>Palau</td>\n",
       "      <td>F</td>\n",
       "      <td>21</td>\n",
       "      <td>5</td>\n",
       "      <td>5</td>\n",
       "      <td>2</td>\n",
       "    </tr>\n",
       "  </tbody>\n",
       "</table>\n",
       "</div>"
      ],
      "text/plain": [
       "      Name Nationality Gender  Age  Math  Physics  CS\n",
       "0  Tsubaki       Japan      F   20     8        2   5\n",
       "1     Rose    Colombia      F   23     6        8  10\n",
       "2     Yuri       Japan      M   22    10        7  10\n",
       "3   Azalea       Palau      F   21     5        5   2"
      ]
     },
     "execution_count": 478,
     "metadata": {},
     "output_type": "execute_result"
    }
   ],
   "source": [
    "df_obj"
   ]
  },
  {
   "cell_type": "markdown",
   "metadata": {},
   "source": [
    "Question 1: How many students per country?"
   ]
  },
  {
   "cell_type": "code",
   "execution_count": 479,
   "metadata": {},
   "outputs": [
    {
     "data": {
      "text/html": [
       "<div>\n",
       "<style scoped>\n",
       "    .dataframe tbody tr th:only-of-type {\n",
       "        vertical-align: middle;\n",
       "    }\n",
       "\n",
       "    .dataframe tbody tr th {\n",
       "        vertical-align: top;\n",
       "    }\n",
       "\n",
       "    .dataframe thead th {\n",
       "        text-align: right;\n",
       "    }\n",
       "</style>\n",
       "<table border=\"1\" class=\"dataframe\">\n",
       "  <thead>\n",
       "    <tr style=\"text-align: right;\">\n",
       "      <th></th>\n",
       "      <th>Name</th>\n",
       "      <th>Gender</th>\n",
       "      <th>Age</th>\n",
       "      <th>Math</th>\n",
       "      <th>Physics</th>\n",
       "      <th>CS</th>\n",
       "    </tr>\n",
       "    <tr>\n",
       "      <th>Nationality</th>\n",
       "      <th></th>\n",
       "      <th></th>\n",
       "      <th></th>\n",
       "      <th></th>\n",
       "      <th></th>\n",
       "      <th></th>\n",
       "    </tr>\n",
       "  </thead>\n",
       "  <tbody>\n",
       "    <tr>\n",
       "      <th>Colombia</th>\n",
       "      <td>1</td>\n",
       "      <td>1</td>\n",
       "      <td>1</td>\n",
       "      <td>1</td>\n",
       "      <td>1</td>\n",
       "      <td>1</td>\n",
       "    </tr>\n",
       "    <tr>\n",
       "      <th>Japan</th>\n",
       "      <td>2</td>\n",
       "      <td>2</td>\n",
       "      <td>2</td>\n",
       "      <td>2</td>\n",
       "      <td>2</td>\n",
       "      <td>2</td>\n",
       "    </tr>\n",
       "    <tr>\n",
       "      <th>Palau</th>\n",
       "      <td>1</td>\n",
       "      <td>1</td>\n",
       "      <td>1</td>\n",
       "      <td>1</td>\n",
       "      <td>1</td>\n",
       "      <td>1</td>\n",
       "    </tr>\n",
       "  </tbody>\n",
       "</table>\n",
       "</div>"
      ],
      "text/plain": [
       "             Name  Gender  Age  Math  Physics  CS\n",
       "Nationality                                      \n",
       "Colombia        1       1    1     1        1   1\n",
       "Japan           2       2    2     2        2   2\n",
       "Palau           1       1    1     1        1   1"
      ]
     },
     "execution_count": 479,
     "metadata": {},
     "output_type": "execute_result"
    }
   ],
   "source": [
    "df_obj.groupby(['Nationality']).count()"
   ]
  },
  {
   "cell_type": "markdown",
   "metadata": {},
   "source": [
    "We can remove the unnecessary columns by indicating the label of the desired column."
   ]
  },
  {
   "cell_type": "code",
   "execution_count": 480,
   "metadata": {},
   "outputs": [
    {
     "data": {
      "text/plain": [
       "Nationality\n",
       "Colombia    1\n",
       "Japan       2\n",
       "Palau       1\n",
       "Name: Name, dtype: int64"
      ]
     },
     "execution_count": 480,
     "metadata": {},
     "output_type": "execute_result"
    }
   ],
   "source": [
    "df_obj.groupby('Nationality').count().Name"
   ]
  },
  {
   "cell_type": "markdown",
   "metadata": {},
   "source": [
    "Question 2: What is the average grade for Physics?"
   ]
  },
  {
   "cell_type": "code",
   "execution_count": 481,
   "metadata": {},
   "outputs": [
    {
     "data": {
      "text/plain": [
       "5.5"
      ]
     },
     "execution_count": 481,
     "metadata": {},
     "output_type": "execute_result"
    }
   ],
   "source": [
    "df_obj.Physics.mean()"
   ]
  },
  {
   "cell_type": "markdown",
   "metadata": {},
   "source": [
    "Question 3: What is the sum of the grades in Math per nationality?"
   ]
  },
  {
   "cell_type": "code",
   "execution_count": 482,
   "metadata": {},
   "outputs": [
    {
     "data": {
      "text/plain": [
       "Nationality\n",
       "Colombia     6\n",
       "Japan       18\n",
       "Palau        5\n",
       "Name: Math, dtype: int64"
      ]
     },
     "execution_count": 482,
     "metadata": {},
     "output_type": "execute_result"
    }
   ],
   "source": [
    "df_obj.groupby('Nationality').sum().Math"
   ]
  },
  {
   "cell_type": "markdown",
   "metadata": {},
   "source": [
    "Question 4: What is the mean of the scores per student?"
   ]
  },
  {
   "cell_type": "code",
   "execution_count": 487,
   "metadata": {},
   "outputs": [
    {
     "data": {
      "text/html": [
       "<div>\n",
       "<style scoped>\n",
       "    .dataframe tbody tr th:only-of-type {\n",
       "        vertical-align: middle;\n",
       "    }\n",
       "\n",
       "    .dataframe tbody tr th {\n",
       "        vertical-align: top;\n",
       "    }\n",
       "\n",
       "    .dataframe thead th {\n",
       "        text-align: right;\n",
       "    }\n",
       "</style>\n",
       "<table border=\"1\" class=\"dataframe\">\n",
       "  <thead>\n",
       "    <tr style=\"text-align: right;\">\n",
       "      <th></th>\n",
       "      <th>Name</th>\n",
       "      <th>Nationality</th>\n",
       "      <th>Gender</th>\n",
       "      <th>Age</th>\n",
       "      <th>Math</th>\n",
       "      <th>Physics</th>\n",
       "      <th>CS</th>\n",
       "    </tr>\n",
       "  </thead>\n",
       "  <tbody>\n",
       "    <tr>\n",
       "      <th>0</th>\n",
       "      <td>Tsubaki</td>\n",
       "      <td>Japan</td>\n",
       "      <td>F</td>\n",
       "      <td>20</td>\n",
       "      <td>8</td>\n",
       "      <td>2</td>\n",
       "      <td>5</td>\n",
       "    </tr>\n",
       "    <tr>\n",
       "      <th>1</th>\n",
       "      <td>Rose</td>\n",
       "      <td>Colombia</td>\n",
       "      <td>F</td>\n",
       "      <td>23</td>\n",
       "      <td>6</td>\n",
       "      <td>8</td>\n",
       "      <td>10</td>\n",
       "    </tr>\n",
       "    <tr>\n",
       "      <th>2</th>\n",
       "      <td>Yuri</td>\n",
       "      <td>Japan</td>\n",
       "      <td>M</td>\n",
       "      <td>22</td>\n",
       "      <td>10</td>\n",
       "      <td>7</td>\n",
       "      <td>10</td>\n",
       "    </tr>\n",
       "    <tr>\n",
       "      <th>3</th>\n",
       "      <td>Azalea</td>\n",
       "      <td>Palau</td>\n",
       "      <td>F</td>\n",
       "      <td>21</td>\n",
       "      <td>5</td>\n",
       "      <td>5</td>\n",
       "      <td>2</td>\n",
       "    </tr>\n",
       "  </tbody>\n",
       "</table>\n",
       "</div>"
      ],
      "text/plain": [
       "      Name Nationality Gender  Age  Math  Physics  CS\n",
       "0  Tsubaki       Japan      F   20     8        2   5\n",
       "1     Rose    Colombia      F   23     6        8  10\n",
       "2     Yuri       Japan      M   22    10        7  10\n",
       "3   Azalea       Palau      F   21     5        5   2"
      ]
     },
     "execution_count": 487,
     "metadata": {},
     "output_type": "execute_result"
    }
   ],
   "source": [
    "df_obj"
   ]
  },
  {
   "cell_type": "code",
   "execution_count": 494,
   "metadata": {},
   "outputs": [
    {
     "data": {
      "text/plain": [
       "0    5.0\n",
       "1    8.0\n",
       "2    9.0\n",
       "3    4.0\n",
       "dtype: float64"
      ]
     },
     "execution_count": 494,
     "metadata": {},
     "output_type": "execute_result"
    }
   ],
   "source": [
    "df_obj[['Name','Math','Physics','CS']].mean(axis=1)"
   ]
  },
  {
   "cell_type": "markdown",
   "metadata": {},
   "source": [
    "Question 5: What is the mean of math score per student?"
   ]
  },
  {
   "cell_type": "code",
   "execution_count": 503,
   "metadata": {},
   "outputs": [],
   "source": [
    "new_person = np.array([['Jasmine','Angola','F',8,5,2,10],['Jasmine','Angola','F',8,10,6,10]])\n",
    "df_obj = df_obj.append(pd.DataFrame(new_person,columns=df_obj.columns),ignore_index=True)"
   ]
  },
  {
   "cell_type": "code",
   "execution_count": 504,
   "metadata": {},
   "outputs": [
    {
     "data": {
      "text/html": [
       "<div>\n",
       "<style scoped>\n",
       "    .dataframe tbody tr th:only-of-type {\n",
       "        vertical-align: middle;\n",
       "    }\n",
       "\n",
       "    .dataframe tbody tr th {\n",
       "        vertical-align: top;\n",
       "    }\n",
       "\n",
       "    .dataframe thead th {\n",
       "        text-align: right;\n",
       "    }\n",
       "</style>\n",
       "<table border=\"1\" class=\"dataframe\">\n",
       "  <thead>\n",
       "    <tr style=\"text-align: right;\">\n",
       "      <th></th>\n",
       "      <th>Name</th>\n",
       "      <th>Nationality</th>\n",
       "      <th>Gender</th>\n",
       "      <th>Age</th>\n",
       "      <th>Math</th>\n",
       "      <th>Physics</th>\n",
       "      <th>CS</th>\n",
       "    </tr>\n",
       "  </thead>\n",
       "  <tbody>\n",
       "    <tr>\n",
       "      <th>0</th>\n",
       "      <td>Tsubaki</td>\n",
       "      <td>Japan</td>\n",
       "      <td>F</td>\n",
       "      <td>20</td>\n",
       "      <td>8</td>\n",
       "      <td>2</td>\n",
       "      <td>5</td>\n",
       "    </tr>\n",
       "    <tr>\n",
       "      <th>1</th>\n",
       "      <td>Rose</td>\n",
       "      <td>Colombia</td>\n",
       "      <td>F</td>\n",
       "      <td>23</td>\n",
       "      <td>6</td>\n",
       "      <td>8</td>\n",
       "      <td>10</td>\n",
       "    </tr>\n",
       "    <tr>\n",
       "      <th>2</th>\n",
       "      <td>Yuri</td>\n",
       "      <td>Japan</td>\n",
       "      <td>M</td>\n",
       "      <td>22</td>\n",
       "      <td>10</td>\n",
       "      <td>7</td>\n",
       "      <td>10</td>\n",
       "    </tr>\n",
       "    <tr>\n",
       "      <th>3</th>\n",
       "      <td>Azalea</td>\n",
       "      <td>Palau</td>\n",
       "      <td>F</td>\n",
       "      <td>21</td>\n",
       "      <td>5</td>\n",
       "      <td>5</td>\n",
       "      <td>2</td>\n",
       "    </tr>\n",
       "    <tr>\n",
       "      <th>4</th>\n",
       "      <td>Jasmine</td>\n",
       "      <td>Angola</td>\n",
       "      <td>F</td>\n",
       "      <td>8</td>\n",
       "      <td>5</td>\n",
       "      <td>2</td>\n",
       "      <td>10</td>\n",
       "    </tr>\n",
       "    <tr>\n",
       "      <th>5</th>\n",
       "      <td>Jasmine</td>\n",
       "      <td>Angola</td>\n",
       "      <td>F</td>\n",
       "      <td>8</td>\n",
       "      <td>10</td>\n",
       "      <td>6</td>\n",
       "      <td>10</td>\n",
       "    </tr>\n",
       "  </tbody>\n",
       "</table>\n",
       "</div>"
      ],
      "text/plain": [
       "      Name Nationality Gender Age Math Physics  CS\n",
       "0  Tsubaki       Japan      F  20    8       2   5\n",
       "1     Rose    Colombia      F  23    6       8  10\n",
       "2     Yuri       Japan      M  22   10       7  10\n",
       "3   Azalea       Palau      F  21    5       5   2\n",
       "4  Jasmine      Angola      F   8    5       2  10\n",
       "5  Jasmine      Angola      F   8   10       6  10"
      ]
     },
     "execution_count": 504,
     "metadata": {},
     "output_type": "execute_result"
    }
   ],
   "source": [
    "df_obj"
   ]
  },
  {
   "cell_type": "code",
   "execution_count": 518,
   "metadata": {},
   "outputs": [],
   "source": [
    "df = df_obj[['Name','Math','Physics','CS']].groupby('Name') ## Find a solution!!"
   ]
  },
  {
   "cell_type": "markdown",
   "metadata": {},
   "source": [
    "#### 3.4) Missing data\n",
    "When working in a ML project with real-world data, it may happen that some data is missing. There are couple of useful methods that allow us to tackle missing data. We demonstrate with dataframe data. First, we change some of the data, randomly, to None."
   ]
  },
  {
   "cell_type": "code",
   "execution_count": 462,
   "metadata": {},
   "outputs": [],
   "source": [
    "import random "
   ]
  },
  {
   "cell_type": "code",
   "execution_count": 464,
   "metadata": {},
   "outputs": [
    {
     "data": {
      "text/html": [
       "<div>\n",
       "<style scoped>\n",
       "    .dataframe tbody tr th:only-of-type {\n",
       "        vertical-align: middle;\n",
       "    }\n",
       "\n",
       "    .dataframe tbody tr th {\n",
       "        vertical-align: top;\n",
       "    }\n",
       "\n",
       "    .dataframe thead th {\n",
       "        text-align: right;\n",
       "    }\n",
       "</style>\n",
       "<table border=\"1\" class=\"dataframe\">\n",
       "  <thead>\n",
       "    <tr style=\"text-align: right;\">\n",
       "      <th></th>\n",
       "      <th>A</th>\n",
       "      <th>B</th>\n",
       "      <th>C</th>\n",
       "      <th>D</th>\n",
       "      <th>E</th>\n",
       "      <th>F</th>\n",
       "      <th>G</th>\n",
       "      <th>H</th>\n",
       "      <th>I</th>\n",
       "      <th>J</th>\n",
       "    </tr>\n",
       "  </thead>\n",
       "  <tbody>\n",
       "    <tr>\n",
       "      <th>0</th>\n",
       "      <td>-0.508419</td>\n",
       "      <td>-0.809501</td>\n",
       "      <td>0.464212</td>\n",
       "      <td>0.004010</td>\n",
       "      <td>-2.591329</td>\n",
       "      <td>-0.629943</td>\n",
       "      <td>-1.028110</td>\n",
       "      <td>0.071180</td>\n",
       "      <td>-0.352970</td>\n",
       "      <td>-0.166813</td>\n",
       "    </tr>\n",
       "    <tr>\n",
       "      <th>1</th>\n",
       "      <td>0.458703</td>\n",
       "      <td>-0.741903</td>\n",
       "      <td>-0.222123</td>\n",
       "      <td>-0.165650</td>\n",
       "      <td>0.812513</td>\n",
       "      <td>-0.607341</td>\n",
       "      <td>-1.434015</td>\n",
       "      <td>-0.339093</td>\n",
       "      <td>0.841057</td>\n",
       "      <td>-0.205175</td>\n",
       "    </tr>\n",
       "    <tr>\n",
       "      <th>2</th>\n",
       "      <td>-0.421503</td>\n",
       "      <td>0.802356</td>\n",
       "      <td>0.982811</td>\n",
       "      <td>-0.327560</td>\n",
       "      <td>-1.432869</td>\n",
       "      <td>-0.611179</td>\n",
       "      <td>-0.211967</td>\n",
       "      <td>-0.794308</td>\n",
       "      <td>-0.491659</td>\n",
       "      <td>-0.842206</td>\n",
       "    </tr>\n",
       "    <tr>\n",
       "      <th>3</th>\n",
       "      <td>0.653125</td>\n",
       "      <td>-0.156830</td>\n",
       "      <td>-2.315100</td>\n",
       "      <td>-0.465468</td>\n",
       "      <td>-0.274741</td>\n",
       "      <td>-1.484076</td>\n",
       "      <td>-0.756861</td>\n",
       "      <td>-0.566303</td>\n",
       "      <td>0.258462</td>\n",
       "      <td>1.110805</td>\n",
       "    </tr>\n",
       "    <tr>\n",
       "      <th>4</th>\n",
       "      <td>-1.375795</td>\n",
       "      <td>-0.518241</td>\n",
       "      <td>-2.202036</td>\n",
       "      <td>0.496923</td>\n",
       "      <td>-0.591149</td>\n",
       "      <td>-0.369657</td>\n",
       "      <td>-0.090341</td>\n",
       "      <td>-0.035255</td>\n",
       "      <td>0.758453</td>\n",
       "      <td>-1.157040</td>\n",
       "    </tr>\n",
       "  </tbody>\n",
       "</table>\n",
       "</div>"
      ],
      "text/plain": [
       "          A         B         C         D         E         F         G  \\\n",
       "0 -0.508419 -0.809501  0.464212  0.004010 -2.591329 -0.629943 -1.028110   \n",
       "1  0.458703 -0.741903 -0.222123 -0.165650  0.812513 -0.607341 -1.434015   \n",
       "2 -0.421503  0.802356  0.982811 -0.327560 -1.432869 -0.611179 -0.211967   \n",
       "3  0.653125 -0.156830 -2.315100 -0.465468 -0.274741 -1.484076 -0.756861   \n",
       "4 -1.375795 -0.518241 -2.202036  0.496923 -0.591149 -0.369657 -0.090341   \n",
       "\n",
       "          H         I         J  \n",
       "0  0.071180 -0.352970 -0.166813  \n",
       "1 -0.339093  0.841057 -0.205175  \n",
       "2 -0.794308 -0.491659 -0.842206  \n",
       "3 -0.566303  0.258462  1.110805  \n",
       "4 -0.035255  0.758453 -1.157040  "
      ]
     },
     "execution_count": 464,
     "metadata": {},
     "output_type": "execute_result"
    }
   ],
   "source": [
    "data.head()"
   ]
  },
  {
   "cell_type": "code",
   "execution_count": 465,
   "metadata": {},
   "outputs": [
    {
     "data": {
      "text/plain": [
       "(400, 10)"
      ]
     },
     "execution_count": 465,
     "metadata": {},
     "output_type": "execute_result"
    }
   ],
   "source": [
    "data.shape"
   ]
  },
  {
   "cell_type": "markdown",
   "metadata": {},
   "source": [
    "Let $\\mathtt{random\\_null(data, n)}$ be a function that replaces some $\\mathtt{n}$ random values of a dataframe by np.nan (null value). "
   ]
  },
  {
   "cell_type": "code",
   "execution_count": 466,
   "metadata": {},
   "outputs": [],
   "source": [
    "def random_null(data, n):\n",
    "    pos = []\n",
    "    nb_rows = data.shape[0]\n",
    "    nb_columns = data.shape[1]\n",
    "    for i in range(n):\n",
    "        random_row = random.randint(0,nb_rows)\n",
    "        random_col = random.randint(0,nb_columns)\n",
    "        data.iloc[random_row,random_col] = np.nan"
   ]
  },
  {
   "cell_type": "code",
   "execution_count": 467,
   "metadata": {},
   "outputs": [],
   "source": [
    "random_null(data,4) ## dataframe data will be modified."
   ]
  },
  {
   "cell_type": "markdown",
   "metadata": {},
   "source": [
    "We search for columns with missing values. Variable $\\mathtt{col}$ iterates over the columns of the dataframe. For each column, i.e. given by $\\mathtt{data[col]}$, we check whether some values/elements are null using the method $\\mathtt{isnull()}$. It proceeds as follows. The values are given boolean values: $\\mathtt{True}$ if it is $\\mathtt{None}$, otherwise $\\mathtt{False}$. Then, the method $\\mathtt{any()}$ returns $\\mathtt{True}$ if any value is $\\mathtt{True}$, otherwise $\\mathtt{False}$. Finally, a list of columns with missing values is returned."
   ]
  },
  {
   "cell_type": "code",
   "execution_count": 468,
   "metadata": {},
   "outputs": [],
   "source": [
    "def find_cols_with_missing_values(df):\n",
    "    cols_with_missing = [col for col in df.columns\n",
    "                         if df[col].isnull().any()]\n",
    "    return cols_with_missing"
   ]
  },
  {
   "cell_type": "code",
   "execution_count": 469,
   "metadata": {},
   "outputs": [
    {
     "data": {
      "text/plain": [
       "['B', 'E', 'G', 'H']"
      ]
     },
     "execution_count": 469,
     "metadata": {},
     "output_type": "execute_result"
    }
   ],
   "source": [
    "find_cols_with_missing_values(data)"
   ]
  },
  {
   "cell_type": "markdown",
   "metadata": {},
   "source": [
    "What should we do with the missing values? They may cause a problem in a machine learning project."
   ]
  },
  {
   "cell_type": "markdown",
   "metadata": {},
   "source": [
    "1. We could drop the columns where at least one value is missing. \n",
    "We use the method $\\mathtt{drop(cols, axis)}$ where $\\mathtt{cols}$ is a list of columns with missing values and $\\mathtt{axis}$ indicates the axis for applying $\\mathtt{drop}$, i.e. axis = 0 for rows and axis = 1 for columns."
   ]
  },
  {
   "cell_type": "code",
   "execution_count": 470,
   "metadata": {},
   "outputs": [
    {
     "data": {
      "text/html": [
       "<div>\n",
       "<style scoped>\n",
       "    .dataframe tbody tr th:only-of-type {\n",
       "        vertical-align: middle;\n",
       "    }\n",
       "\n",
       "    .dataframe tbody tr th {\n",
       "        vertical-align: top;\n",
       "    }\n",
       "\n",
       "    .dataframe thead th {\n",
       "        text-align: right;\n",
       "    }\n",
       "</style>\n",
       "<table border=\"1\" class=\"dataframe\">\n",
       "  <thead>\n",
       "    <tr style=\"text-align: right;\">\n",
       "      <th></th>\n",
       "      <th>A</th>\n",
       "      <th>C</th>\n",
       "      <th>D</th>\n",
       "      <th>F</th>\n",
       "      <th>I</th>\n",
       "      <th>J</th>\n",
       "    </tr>\n",
       "  </thead>\n",
       "  <tbody>\n",
       "    <tr>\n",
       "      <th>0</th>\n",
       "      <td>-0.508419</td>\n",
       "      <td>0.464212</td>\n",
       "      <td>0.004010</td>\n",
       "      <td>-0.629943</td>\n",
       "      <td>-0.352970</td>\n",
       "      <td>-0.166813</td>\n",
       "    </tr>\n",
       "    <tr>\n",
       "      <th>1</th>\n",
       "      <td>0.458703</td>\n",
       "      <td>-0.222123</td>\n",
       "      <td>-0.165650</td>\n",
       "      <td>-0.607341</td>\n",
       "      <td>0.841057</td>\n",
       "      <td>-0.205175</td>\n",
       "    </tr>\n",
       "    <tr>\n",
       "      <th>2</th>\n",
       "      <td>-0.421503</td>\n",
       "      <td>0.982811</td>\n",
       "      <td>-0.327560</td>\n",
       "      <td>-0.611179</td>\n",
       "      <td>-0.491659</td>\n",
       "      <td>-0.842206</td>\n",
       "    </tr>\n",
       "    <tr>\n",
       "      <th>3</th>\n",
       "      <td>0.653125</td>\n",
       "      <td>-2.315100</td>\n",
       "      <td>-0.465468</td>\n",
       "      <td>-1.484076</td>\n",
       "      <td>0.258462</td>\n",
       "      <td>1.110805</td>\n",
       "    </tr>\n",
       "    <tr>\n",
       "      <th>4</th>\n",
       "      <td>-1.375795</td>\n",
       "      <td>-2.202036</td>\n",
       "      <td>0.496923</td>\n",
       "      <td>-0.369657</td>\n",
       "      <td>0.758453</td>\n",
       "      <td>-1.157040</td>\n",
       "    </tr>\n",
       "    <tr>\n",
       "      <th>5</th>\n",
       "      <td>-0.199611</td>\n",
       "      <td>-0.762258</td>\n",
       "      <td>0.953903</td>\n",
       "      <td>-0.306445</td>\n",
       "      <td>1.088707</td>\n",
       "      <td>-2.440685</td>\n",
       "    </tr>\n",
       "    <tr>\n",
       "      <th>6</th>\n",
       "      <td>-1.276702</td>\n",
       "      <td>0.908417</td>\n",
       "      <td>-0.466564</td>\n",
       "      <td>0.023954</td>\n",
       "      <td>-0.107784</td>\n",
       "      <td>0.710629</td>\n",
       "    </tr>\n",
       "    <tr>\n",
       "      <th>7</th>\n",
       "      <td>0.590063</td>\n",
       "      <td>-0.088735</td>\n",
       "      <td>1.169984</td>\n",
       "      <td>-0.626284</td>\n",
       "      <td>1.197713</td>\n",
       "      <td>1.262275</td>\n",
       "    </tr>\n",
       "    <tr>\n",
       "      <th>8</th>\n",
       "      <td>0.280601</td>\n",
       "      <td>0.225175</td>\n",
       "      <td>-0.616618</td>\n",
       "      <td>0.530370</td>\n",
       "      <td>0.513155</td>\n",
       "      <td>-2.189840</td>\n",
       "    </tr>\n",
       "    <tr>\n",
       "      <th>9</th>\n",
       "      <td>0.877845</td>\n",
       "      <td>-1.728786</td>\n",
       "      <td>0.334548</td>\n",
       "      <td>0.840472</td>\n",
       "      <td>-1.505587</td>\n",
       "      <td>0.362630</td>\n",
       "    </tr>\n",
       "    <tr>\n",
       "      <th>10</th>\n",
       "      <td>-1.086235</td>\n",
       "      <td>0.903136</td>\n",
       "      <td>1.265035</td>\n",
       "      <td>-0.745759</td>\n",
       "      <td>0.328413</td>\n",
       "      <td>0.152595</td>\n",
       "    </tr>\n",
       "    <tr>\n",
       "      <th>11</th>\n",
       "      <td>-1.766774</td>\n",
       "      <td>0.448916</td>\n",
       "      <td>0.733600</td>\n",
       "      <td>-1.922342</td>\n",
       "      <td>-1.148442</td>\n",
       "      <td>0.736957</td>\n",
       "    </tr>\n",
       "    <tr>\n",
       "      <th>12</th>\n",
       "      <td>-0.857477</td>\n",
       "      <td>1.407313</td>\n",
       "      <td>-1.583116</td>\n",
       "      <td>0.347175</td>\n",
       "      <td>1.498892</td>\n",
       "      <td>0.658667</td>\n",
       "    </tr>\n",
       "    <tr>\n",
       "      <th>13</th>\n",
       "      <td>0.655012</td>\n",
       "      <td>-0.755260</td>\n",
       "      <td>-1.273429</td>\n",
       "      <td>-2.249558</td>\n",
       "      <td>-0.841035</td>\n",
       "      <td>0.410167</td>\n",
       "    </tr>\n",
       "    <tr>\n",
       "      <th>14</th>\n",
       "      <td>-0.673531</td>\n",
       "      <td>-1.292018</td>\n",
       "      <td>-1.145381</td>\n",
       "      <td>-1.713860</td>\n",
       "      <td>-0.866793</td>\n",
       "      <td>0.516982</td>\n",
       "    </tr>\n",
       "    <tr>\n",
       "      <th>15</th>\n",
       "      <td>1.128067</td>\n",
       "      <td>-1.140391</td>\n",
       "      <td>0.355362</td>\n",
       "      <td>0.294118</td>\n",
       "      <td>-0.106846</td>\n",
       "      <td>-1.715253</td>\n",
       "    </tr>\n",
       "    <tr>\n",
       "      <th>16</th>\n",
       "      <td>-0.080973</td>\n",
       "      <td>-1.045650</td>\n",
       "      <td>-1.010038</td>\n",
       "      <td>0.132656</td>\n",
       "      <td>-0.014318</td>\n",
       "      <td>-0.993139</td>\n",
       "    </tr>\n",
       "    <tr>\n",
       "      <th>17</th>\n",
       "      <td>-1.050676</td>\n",
       "      <td>-0.666600</td>\n",
       "      <td>-2.503812</td>\n",
       "      <td>1.208741</td>\n",
       "      <td>0.596591</td>\n",
       "      <td>-0.157408</td>\n",
       "    </tr>\n",
       "    <tr>\n",
       "      <th>18</th>\n",
       "      <td>1.200175</td>\n",
       "      <td>-0.196911</td>\n",
       "      <td>-0.659019</td>\n",
       "      <td>-0.423635</td>\n",
       "      <td>-0.482923</td>\n",
       "      <td>0.818109</td>\n",
       "    </tr>\n",
       "    <tr>\n",
       "      <th>19</th>\n",
       "      <td>1.222261</td>\n",
       "      <td>0.601841</td>\n",
       "      <td>1.139489</td>\n",
       "      <td>1.327367</td>\n",
       "      <td>-0.463260</td>\n",
       "      <td>-0.003746</td>\n",
       "    </tr>\n",
       "    <tr>\n",
       "      <th>20</th>\n",
       "      <td>0.717057</td>\n",
       "      <td>-0.846825</td>\n",
       "      <td>0.831337</td>\n",
       "      <td>-0.300017</td>\n",
       "      <td>-0.351669</td>\n",
       "      <td>1.693646</td>\n",
       "    </tr>\n",
       "    <tr>\n",
       "      <th>21</th>\n",
       "      <td>-0.860085</td>\n",
       "      <td>1.992398</td>\n",
       "      <td>1.125608</td>\n",
       "      <td>0.352089</td>\n",
       "      <td>0.529916</td>\n",
       "      <td>-0.489016</td>\n",
       "    </tr>\n",
       "    <tr>\n",
       "      <th>22</th>\n",
       "      <td>1.126195</td>\n",
       "      <td>1.811429</td>\n",
       "      <td>-0.530549</td>\n",
       "      <td>-0.206250</td>\n",
       "      <td>-1.388245</td>\n",
       "      <td>-1.542041</td>\n",
       "    </tr>\n",
       "    <tr>\n",
       "      <th>23</th>\n",
       "      <td>0.494729</td>\n",
       "      <td>1.095318</td>\n",
       "      <td>0.373843</td>\n",
       "      <td>-0.174998</td>\n",
       "      <td>-0.943910</td>\n",
       "      <td>0.221713</td>\n",
       "    </tr>\n",
       "    <tr>\n",
       "      <th>24</th>\n",
       "      <td>-1.557083</td>\n",
       "      <td>-0.346393</td>\n",
       "      <td>0.852429</td>\n",
       "      <td>-1.137781</td>\n",
       "      <td>0.972904</td>\n",
       "      <td>2.894574</td>\n",
       "    </tr>\n",
       "    <tr>\n",
       "      <th>25</th>\n",
       "      <td>0.851912</td>\n",
       "      <td>-1.964034</td>\n",
       "      <td>1.026519</td>\n",
       "      <td>1.079818</td>\n",
       "      <td>-0.910235</td>\n",
       "      <td>-0.011784</td>\n",
       "    </tr>\n",
       "    <tr>\n",
       "      <th>26</th>\n",
       "      <td>0.971019</td>\n",
       "      <td>0.033933</td>\n",
       "      <td>-0.776386</td>\n",
       "      <td>2.244687</td>\n",
       "      <td>0.939231</td>\n",
       "      <td>-2.019917</td>\n",
       "    </tr>\n",
       "    <tr>\n",
       "      <th>27</th>\n",
       "      <td>-0.202888</td>\n",
       "      <td>-1.399564</td>\n",
       "      <td>-0.054016</td>\n",
       "      <td>1.438292</td>\n",
       "      <td>-0.663759</td>\n",
       "      <td>-1.203014</td>\n",
       "    </tr>\n",
       "    <tr>\n",
       "      <th>28</th>\n",
       "      <td>-1.572286</td>\n",
       "      <td>0.088029</td>\n",
       "      <td>0.588155</td>\n",
       "      <td>-0.200403</td>\n",
       "      <td>0.025689</td>\n",
       "      <td>1.253129</td>\n",
       "    </tr>\n",
       "    <tr>\n",
       "      <th>29</th>\n",
       "      <td>-1.663192</td>\n",
       "      <td>-1.273141</td>\n",
       "      <td>-2.647917</td>\n",
       "      <td>1.204911</td>\n",
       "      <td>-2.072784</td>\n",
       "      <td>-0.859725</td>\n",
       "    </tr>\n",
       "    <tr>\n",
       "      <th>...</th>\n",
       "      <td>...</td>\n",
       "      <td>...</td>\n",
       "      <td>...</td>\n",
       "      <td>...</td>\n",
       "      <td>...</td>\n",
       "      <td>...</td>\n",
       "    </tr>\n",
       "    <tr>\n",
       "      <th>370</th>\n",
       "      <td>1.749169</td>\n",
       "      <td>0.402310</td>\n",
       "      <td>0.036701</td>\n",
       "      <td>-1.726938</td>\n",
       "      <td>0.418957</td>\n",
       "      <td>0.102460</td>\n",
       "    </tr>\n",
       "    <tr>\n",
       "      <th>371</th>\n",
       "      <td>0.675663</td>\n",
       "      <td>0.730917</td>\n",
       "      <td>0.485172</td>\n",
       "      <td>-0.748045</td>\n",
       "      <td>0.393629</td>\n",
       "      <td>2.352166</td>\n",
       "    </tr>\n",
       "    <tr>\n",
       "      <th>372</th>\n",
       "      <td>-0.697520</td>\n",
       "      <td>1.592317</td>\n",
       "      <td>-0.319711</td>\n",
       "      <td>-0.298511</td>\n",
       "      <td>1.013917</td>\n",
       "      <td>0.622195</td>\n",
       "    </tr>\n",
       "    <tr>\n",
       "      <th>373</th>\n",
       "      <td>0.246297</td>\n",
       "      <td>1.419854</td>\n",
       "      <td>-1.611641</td>\n",
       "      <td>-0.533710</td>\n",
       "      <td>-0.259570</td>\n",
       "      <td>-0.776554</td>\n",
       "    </tr>\n",
       "    <tr>\n",
       "      <th>374</th>\n",
       "      <td>-0.475400</td>\n",
       "      <td>-1.082555</td>\n",
       "      <td>-0.920087</td>\n",
       "      <td>1.600793</td>\n",
       "      <td>-0.965578</td>\n",
       "      <td>-0.157787</td>\n",
       "    </tr>\n",
       "    <tr>\n",
       "      <th>375</th>\n",
       "      <td>-0.820579</td>\n",
       "      <td>0.469094</td>\n",
       "      <td>1.113881</td>\n",
       "      <td>-0.697855</td>\n",
       "      <td>0.739672</td>\n",
       "      <td>0.455665</td>\n",
       "    </tr>\n",
       "    <tr>\n",
       "      <th>376</th>\n",
       "      <td>-2.383428</td>\n",
       "      <td>1.475883</td>\n",
       "      <td>-2.067411</td>\n",
       "      <td>0.310358</td>\n",
       "      <td>0.423309</td>\n",
       "      <td>1.151636</td>\n",
       "    </tr>\n",
       "    <tr>\n",
       "      <th>377</th>\n",
       "      <td>1.387492</td>\n",
       "      <td>-2.287651</td>\n",
       "      <td>-1.608878</td>\n",
       "      <td>0.555711</td>\n",
       "      <td>-2.000088</td>\n",
       "      <td>-1.289477</td>\n",
       "    </tr>\n",
       "    <tr>\n",
       "      <th>378</th>\n",
       "      <td>0.089521</td>\n",
       "      <td>-0.134548</td>\n",
       "      <td>-0.945269</td>\n",
       "      <td>-0.199210</td>\n",
       "      <td>-0.508308</td>\n",
       "      <td>-0.766631</td>\n",
       "    </tr>\n",
       "    <tr>\n",
       "      <th>379</th>\n",
       "      <td>-0.615527</td>\n",
       "      <td>-0.763761</td>\n",
       "      <td>-0.421910</td>\n",
       "      <td>-0.084411</td>\n",
       "      <td>-0.132103</td>\n",
       "      <td>1.123791</td>\n",
       "    </tr>\n",
       "    <tr>\n",
       "      <th>380</th>\n",
       "      <td>1.133519</td>\n",
       "      <td>-2.050132</td>\n",
       "      <td>1.711833</td>\n",
       "      <td>-0.639263</td>\n",
       "      <td>-0.904538</td>\n",
       "      <td>1.370332</td>\n",
       "    </tr>\n",
       "    <tr>\n",
       "      <th>381</th>\n",
       "      <td>-1.016160</td>\n",
       "      <td>0.419856</td>\n",
       "      <td>0.198014</td>\n",
       "      <td>1.596605</td>\n",
       "      <td>0.745386</td>\n",
       "      <td>-0.684989</td>\n",
       "    </tr>\n",
       "    <tr>\n",
       "      <th>382</th>\n",
       "      <td>-0.314889</td>\n",
       "      <td>-0.441852</td>\n",
       "      <td>-0.919534</td>\n",
       "      <td>-0.752842</td>\n",
       "      <td>-0.412547</td>\n",
       "      <td>-0.086416</td>\n",
       "    </tr>\n",
       "    <tr>\n",
       "      <th>383</th>\n",
       "      <td>-0.205314</td>\n",
       "      <td>1.599127</td>\n",
       "      <td>0.871297</td>\n",
       "      <td>-1.216372</td>\n",
       "      <td>0.409599</td>\n",
       "      <td>0.782358</td>\n",
       "    </tr>\n",
       "    <tr>\n",
       "      <th>384</th>\n",
       "      <td>-0.734394</td>\n",
       "      <td>-1.003964</td>\n",
       "      <td>-0.390457</td>\n",
       "      <td>-0.072642</td>\n",
       "      <td>-0.721363</td>\n",
       "      <td>1.269408</td>\n",
       "    </tr>\n",
       "    <tr>\n",
       "      <th>385</th>\n",
       "      <td>0.546518</td>\n",
       "      <td>-1.185915</td>\n",
       "      <td>-0.540120</td>\n",
       "      <td>-1.269212</td>\n",
       "      <td>0.107134</td>\n",
       "      <td>-0.589139</td>\n",
       "    </tr>\n",
       "    <tr>\n",
       "      <th>386</th>\n",
       "      <td>-0.949990</td>\n",
       "      <td>-0.033851</td>\n",
       "      <td>-0.477940</td>\n",
       "      <td>0.961714</td>\n",
       "      <td>-0.035673</td>\n",
       "      <td>0.224554</td>\n",
       "    </tr>\n",
       "    <tr>\n",
       "      <th>387</th>\n",
       "      <td>0.548764</td>\n",
       "      <td>-1.335625</td>\n",
       "      <td>-0.255994</td>\n",
       "      <td>-0.719582</td>\n",
       "      <td>0.777224</td>\n",
       "      <td>0.680220</td>\n",
       "    </tr>\n",
       "    <tr>\n",
       "      <th>388</th>\n",
       "      <td>-1.266451</td>\n",
       "      <td>0.465721</td>\n",
       "      <td>-2.533409</td>\n",
       "      <td>-0.990112</td>\n",
       "      <td>-1.161702</td>\n",
       "      <td>0.457793</td>\n",
       "    </tr>\n",
       "    <tr>\n",
       "      <th>389</th>\n",
       "      <td>-0.049883</td>\n",
       "      <td>1.640054</td>\n",
       "      <td>-0.802448</td>\n",
       "      <td>-0.931724</td>\n",
       "      <td>-0.201930</td>\n",
       "      <td>1.399231</td>\n",
       "    </tr>\n",
       "    <tr>\n",
       "      <th>390</th>\n",
       "      <td>-0.366924</td>\n",
       "      <td>-1.663578</td>\n",
       "      <td>0.372017</td>\n",
       "      <td>-0.344957</td>\n",
       "      <td>-0.622353</td>\n",
       "      <td>-1.201462</td>\n",
       "    </tr>\n",
       "    <tr>\n",
       "      <th>391</th>\n",
       "      <td>1.774875</td>\n",
       "      <td>-0.683024</td>\n",
       "      <td>0.372471</td>\n",
       "      <td>0.043948</td>\n",
       "      <td>0.530641</td>\n",
       "      <td>-1.128720</td>\n",
       "    </tr>\n",
       "    <tr>\n",
       "      <th>392</th>\n",
       "      <td>-0.985998</td>\n",
       "      <td>-1.695757</td>\n",
       "      <td>-0.123109</td>\n",
       "      <td>-0.104154</td>\n",
       "      <td>-0.762480</td>\n",
       "      <td>-0.430563</td>\n",
       "    </tr>\n",
       "    <tr>\n",
       "      <th>393</th>\n",
       "      <td>0.538745</td>\n",
       "      <td>-0.132482</td>\n",
       "      <td>0.509295</td>\n",
       "      <td>-1.681307</td>\n",
       "      <td>-0.260139</td>\n",
       "      <td>-1.140059</td>\n",
       "    </tr>\n",
       "    <tr>\n",
       "      <th>394</th>\n",
       "      <td>-0.214971</td>\n",
       "      <td>0.829755</td>\n",
       "      <td>-0.835011</td>\n",
       "      <td>0.972798</td>\n",
       "      <td>-0.632957</td>\n",
       "      <td>-0.696170</td>\n",
       "    </tr>\n",
       "    <tr>\n",
       "      <th>395</th>\n",
       "      <td>-0.545222</td>\n",
       "      <td>1.082402</td>\n",
       "      <td>0.780390</td>\n",
       "      <td>1.341771</td>\n",
       "      <td>2.153120</td>\n",
       "      <td>-0.554297</td>\n",
       "    </tr>\n",
       "    <tr>\n",
       "      <th>396</th>\n",
       "      <td>-0.120554</td>\n",
       "      <td>1.086944</td>\n",
       "      <td>-0.921550</td>\n",
       "      <td>-0.119294</td>\n",
       "      <td>-0.693911</td>\n",
       "      <td>-1.144403</td>\n",
       "    </tr>\n",
       "    <tr>\n",
       "      <th>397</th>\n",
       "      <td>0.870202</td>\n",
       "      <td>0.501444</td>\n",
       "      <td>-1.148298</td>\n",
       "      <td>0.894386</td>\n",
       "      <td>0.859927</td>\n",
       "      <td>-1.007962</td>\n",
       "    </tr>\n",
       "    <tr>\n",
       "      <th>398</th>\n",
       "      <td>1.192645</td>\n",
       "      <td>0.678675</td>\n",
       "      <td>-0.503124</td>\n",
       "      <td>-1.235014</td>\n",
       "      <td>0.485133</td>\n",
       "      <td>2.091500</td>\n",
       "    </tr>\n",
       "    <tr>\n",
       "      <th>399</th>\n",
       "      <td>-0.447056</td>\n",
       "      <td>1.335487</td>\n",
       "      <td>-0.703162</td>\n",
       "      <td>1.898332</td>\n",
       "      <td>-0.269068</td>\n",
       "      <td>0.928400</td>\n",
       "    </tr>\n",
       "  </tbody>\n",
       "</table>\n",
       "<p>400 rows × 6 columns</p>\n",
       "</div>"
      ],
      "text/plain": [
       "            A         C         D         F         I         J\n",
       "0   -0.508419  0.464212  0.004010 -0.629943 -0.352970 -0.166813\n",
       "1    0.458703 -0.222123 -0.165650 -0.607341  0.841057 -0.205175\n",
       "2   -0.421503  0.982811 -0.327560 -0.611179 -0.491659 -0.842206\n",
       "3    0.653125 -2.315100 -0.465468 -1.484076  0.258462  1.110805\n",
       "4   -1.375795 -2.202036  0.496923 -0.369657  0.758453 -1.157040\n",
       "5   -0.199611 -0.762258  0.953903 -0.306445  1.088707 -2.440685\n",
       "6   -1.276702  0.908417 -0.466564  0.023954 -0.107784  0.710629\n",
       "7    0.590063 -0.088735  1.169984 -0.626284  1.197713  1.262275\n",
       "8    0.280601  0.225175 -0.616618  0.530370  0.513155 -2.189840\n",
       "9    0.877845 -1.728786  0.334548  0.840472 -1.505587  0.362630\n",
       "10  -1.086235  0.903136  1.265035 -0.745759  0.328413  0.152595\n",
       "11  -1.766774  0.448916  0.733600 -1.922342 -1.148442  0.736957\n",
       "12  -0.857477  1.407313 -1.583116  0.347175  1.498892  0.658667\n",
       "13   0.655012 -0.755260 -1.273429 -2.249558 -0.841035  0.410167\n",
       "14  -0.673531 -1.292018 -1.145381 -1.713860 -0.866793  0.516982\n",
       "15   1.128067 -1.140391  0.355362  0.294118 -0.106846 -1.715253\n",
       "16  -0.080973 -1.045650 -1.010038  0.132656 -0.014318 -0.993139\n",
       "17  -1.050676 -0.666600 -2.503812  1.208741  0.596591 -0.157408\n",
       "18   1.200175 -0.196911 -0.659019 -0.423635 -0.482923  0.818109\n",
       "19   1.222261  0.601841  1.139489  1.327367 -0.463260 -0.003746\n",
       "20   0.717057 -0.846825  0.831337 -0.300017 -0.351669  1.693646\n",
       "21  -0.860085  1.992398  1.125608  0.352089  0.529916 -0.489016\n",
       "22   1.126195  1.811429 -0.530549 -0.206250 -1.388245 -1.542041\n",
       "23   0.494729  1.095318  0.373843 -0.174998 -0.943910  0.221713\n",
       "24  -1.557083 -0.346393  0.852429 -1.137781  0.972904  2.894574\n",
       "25   0.851912 -1.964034  1.026519  1.079818 -0.910235 -0.011784\n",
       "26   0.971019  0.033933 -0.776386  2.244687  0.939231 -2.019917\n",
       "27  -0.202888 -1.399564 -0.054016  1.438292 -0.663759 -1.203014\n",
       "28  -1.572286  0.088029  0.588155 -0.200403  0.025689  1.253129\n",
       "29  -1.663192 -1.273141 -2.647917  1.204911 -2.072784 -0.859725\n",
       "..        ...       ...       ...       ...       ...       ...\n",
       "370  1.749169  0.402310  0.036701 -1.726938  0.418957  0.102460\n",
       "371  0.675663  0.730917  0.485172 -0.748045  0.393629  2.352166\n",
       "372 -0.697520  1.592317 -0.319711 -0.298511  1.013917  0.622195\n",
       "373  0.246297  1.419854 -1.611641 -0.533710 -0.259570 -0.776554\n",
       "374 -0.475400 -1.082555 -0.920087  1.600793 -0.965578 -0.157787\n",
       "375 -0.820579  0.469094  1.113881 -0.697855  0.739672  0.455665\n",
       "376 -2.383428  1.475883 -2.067411  0.310358  0.423309  1.151636\n",
       "377  1.387492 -2.287651 -1.608878  0.555711 -2.000088 -1.289477\n",
       "378  0.089521 -0.134548 -0.945269 -0.199210 -0.508308 -0.766631\n",
       "379 -0.615527 -0.763761 -0.421910 -0.084411 -0.132103  1.123791\n",
       "380  1.133519 -2.050132  1.711833 -0.639263 -0.904538  1.370332\n",
       "381 -1.016160  0.419856  0.198014  1.596605  0.745386 -0.684989\n",
       "382 -0.314889 -0.441852 -0.919534 -0.752842 -0.412547 -0.086416\n",
       "383 -0.205314  1.599127  0.871297 -1.216372  0.409599  0.782358\n",
       "384 -0.734394 -1.003964 -0.390457 -0.072642 -0.721363  1.269408\n",
       "385  0.546518 -1.185915 -0.540120 -1.269212  0.107134 -0.589139\n",
       "386 -0.949990 -0.033851 -0.477940  0.961714 -0.035673  0.224554\n",
       "387  0.548764 -1.335625 -0.255994 -0.719582  0.777224  0.680220\n",
       "388 -1.266451  0.465721 -2.533409 -0.990112 -1.161702  0.457793\n",
       "389 -0.049883  1.640054 -0.802448 -0.931724 -0.201930  1.399231\n",
       "390 -0.366924 -1.663578  0.372017 -0.344957 -0.622353 -1.201462\n",
       "391  1.774875 -0.683024  0.372471  0.043948  0.530641 -1.128720\n",
       "392 -0.985998 -1.695757 -0.123109 -0.104154 -0.762480 -0.430563\n",
       "393  0.538745 -0.132482  0.509295 -1.681307 -0.260139 -1.140059\n",
       "394 -0.214971  0.829755 -0.835011  0.972798 -0.632957 -0.696170\n",
       "395 -0.545222  1.082402  0.780390  1.341771  2.153120 -0.554297\n",
       "396 -0.120554  1.086944 -0.921550 -0.119294 -0.693911 -1.144403\n",
       "397  0.870202  0.501444 -1.148298  0.894386  0.859927 -1.007962\n",
       "398  1.192645  0.678675 -0.503124 -1.235014  0.485133  2.091500\n",
       "399 -0.447056  1.335487 -0.703162  1.898332 -0.269068  0.928400\n",
       "\n",
       "[400 rows x 6 columns]"
      ]
     },
     "execution_count": 470,
     "metadata": {},
     "output_type": "execute_result"
    }
   ],
   "source": [
    "data.drop(find_cols_with_missing_values(data),axis=1) # a new dataframe will be generated and dataframe data will not be modified."
   ]
  },
  {
   "cell_type": "code",
   "execution_count": 471,
   "metadata": {},
   "outputs": [
    {
     "data": {
      "text/plain": [
       "Index(['A', 'B', 'C', 'D', 'E', 'F', 'G', 'H', 'I', 'J'], dtype='object')"
      ]
     },
     "execution_count": 471,
     "metadata": {},
     "output_type": "execute_result"
    }
   ],
   "source": [
    "data.columns"
   ]
  },
  {
   "cell_type": "markdown",
   "metadata": {},
   "source": [
    "2. We could replace the missing values with the mean of the values. \n",
    "We use the method $\\mathtt{mean(axis, skipna)}$ to compute the mean of each column. When the parameter $\\mathtt{skipna}$ is set to $\\mathtt{True}$, the missing values are excluded from computing the result."
   ]
  },
  {
   "cell_type": "code",
   "execution_count": 472,
   "metadata": {},
   "outputs": [
    {
     "data": {
      "text/plain": [
       "A   -0.121330\n",
       "B   -0.016828\n",
       "C   -0.009081\n",
       "D    0.004598\n",
       "E   -0.101692\n",
       "F   -0.026629\n",
       "G   -0.019227\n",
       "H    0.036208\n",
       "I   -0.040243\n",
       "J   -0.064910\n",
       "dtype: float64"
      ]
     },
     "execution_count": 472,
     "metadata": {},
     "output_type": "execute_result"
    }
   ],
   "source": [
    "data.mean(axis = 0, skipna=True)"
   ]
  },
  {
   "cell_type": "code",
   "execution_count": 473,
   "metadata": {},
   "outputs": [
    {
     "data": {
      "text/plain": [
       "['B', 'E', 'G', 'H']"
      ]
     },
     "execution_count": 473,
     "metadata": {},
     "output_type": "execute_result"
    }
   ],
   "source": [
    "find_cols_with_missing_values(data)"
   ]
  },
  {
   "cell_type": "code",
   "execution_count": 474,
   "metadata": {},
   "outputs": [],
   "source": [
    "data = data.fillna(data.mean(axis = 0, skipna=True))"
   ]
  },
  {
   "cell_type": "code",
   "execution_count": 475,
   "metadata": {},
   "outputs": [
    {
     "data": {
      "text/plain": [
       "[]"
      ]
     },
     "execution_count": 475,
     "metadata": {},
     "output_type": "execute_result"
    }
   ],
   "source": [
    "find_cols_with_missing_values(data)"
   ]
  },
  {
   "cell_type": "markdown",
   "metadata": {},
   "source": [
    "**Note** Methods $\\mathtt{drop()}$, $\\mathtt{mean()}$, $\\mathtt{isnull}$ and $\\mathtt{fillna}$ return **a new dataframe** and keep the original dataframe untouched."
   ]
  },
  {
   "cell_type": "code",
   "execution_count": null,
   "metadata": {},
   "outputs": [],
   "source": []
  }
 ],
 "metadata": {
  "kernelspec": {
   "display_name": "Python 3",
   "language": "python",
   "name": "python3"
  },
  "language_info": {
   "codemirror_mode": {
    "name": "ipython",
    "version": 3
   },
   "file_extension": ".py",
   "mimetype": "text/x-python",
   "name": "python",
   "nbconvert_exporter": "python",
   "pygments_lexer": "ipython3",
   "version": "3.7.2"
  }
 },
 "nbformat": 4,
 "nbformat_minor": 2
}
