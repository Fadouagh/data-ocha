{
 "cells": [
  {
   "cell_type": "markdown",
   "metadata": {},
   "source": [
    "# K-Nearest Neighbors (KNN)\n",
    "\n",
    "Author: Fadoua Ghourabi (fadouaghourabi@gmail.com)\n",
    "\n",
    "Date: June 20, 2019"
   ]
  },
  {
   "cell_type": "code",
   "execution_count": null,
   "metadata": {},
   "outputs": [],
   "source": [
    "import numpy as np\n",
    "import pandas as pd\n",
    "import matplotlib.pyplot as plt\n",
    "from sklearn.datasets import load_breast_cancer, load_diabetes\n",
    "from sklearn.model_selection import train_test_split\n",
    "from sklearn.neighbors import KNeighborsClassifier, KNeighborsRegressor"
   ]
  },
  {
   "cell_type": "markdown",
   "metadata": {},
   "source": [
    "## Classification\n",
    "\n",
    "The KNN algorithm is the simplest machine learning algorithm. To classify a new data, KNN searches for the nearest point in the training dataset.\n",
    "\n",
    "### 1-Nearest Neighbor\n",
    "\n",
    "<img src=\"knn_cla1.png\">"
   ]
  },
  {
   "cell_type": "code",
   "execution_count": null,
   "metadata": {},
   "outputs": [],
   "source": [
    "data = load_breast_cancer()\n",
    "X_train, X_test, y_train, y_test = train_test_split(data.data, data.target, stratify=data.target, random_state=66)"
   ]
  },
  {
   "cell_type": "code",
   "execution_count": null,
   "metadata": {},
   "outputs": [],
   "source": [
    "clf = KNeighborsClassifier(n_neighbors=1)\n",
    "clf.fit(X_train, y_train)\n",
    "print(\"Train set accuracy: {}\".format(clf.score(X_train, y_train)))\n",
    "print(\"Test set accuracy: {}\".format(clf.score(X_test, y_test)))"
   ]
  },
  {
   "cell_type": "code",
   "execution_count": null,
   "metadata": {},
   "outputs": [],
   "source": [
    "#plt.subplot(231)\n",
    "#plt.scatter(X_train[:,0],X_train[:,1], c=y_train)\n",
    "#plt.xlabel(data.feature_names[0])\n",
    "#plt.ylabel(data.feature_names[1])\n",
    "\n",
    "#plt.subplot(232)\n",
    "plt.scatter(X_train[:,1],X_train[:,2], c=y_train)\n",
    "plt.xlabel(data.feature_names[1])\n",
    "plt.ylabel(data.feature_names[2])\n",
    "\n",
    "#plt.subplot(233)\n",
    "#plt.scatter(X_train[:,2],X_train[:,3], c=y_train)\n",
    "#plt.xlabel(data.feature_names[2])\n",
    "#plt.ylabel(data.feature_names[3])\n",
    "\n",
    "#plt.subplot(234)\n",
    "#plt.scatter(X_train[:,3],X_train[:,4], c=y_train)\n",
    "#plt.xlabel(data.feature_names[3])\n",
    "#plt.ylabel(data.feature_names[4])\n",
    "\n",
    "#plt.subplot(235)\n",
    "#plt.scatter(X_train[:,4],X_train[:,5], c=y_train)\n",
    "#plt.xlabel(data.feature_names[4])\n",
    "#plt.ylabel(data.feature_names[5])\n",
    "\n",
    "#plt.subplot(236)\n",
    "#plt.scatter(X_train[:,5],X_train[:,6], c=y_train)\n",
    "#plt.xlabel(data.feature_names[5])\n",
    "#plt.ylabel(data.feature_names[6])"
   ]
  },
  {
   "cell_type": "markdown",
   "metadata": {},
   "source": [
    "### K>1-Nearest Neighbors\n",
    "\n",
    "<img src=\"knn_cla3.png\">"
   ]
  },
  {
   "cell_type": "code",
   "execution_count": null,
   "metadata": {},
   "outputs": [],
   "source": [
    "clf = KNeighborsClassifier(n_neighbors=3)\n",
    "clf.fit(X_train, y_train)\n",
    "print(\"Train set accuracy: {}\".format(clf.score(X_train, y_train)))\n",
    "print(\"Test set accuracy: {}\".format(clf.score(X_test, y_test)))"
   ]
  },
  {
   "cell_type": "code",
   "execution_count": null,
   "metadata": {},
   "outputs": [],
   "source": [
    "def plot_KNN(X_train, y_train, X_test, y_test, KNN):\n",
    "    training_accuracy = []\n",
    "    test_accuracy = []\n",
    "    for n in KNN:\n",
    "        clf = KNeighborsClassifier(n_neighbors=n)\n",
    "        clf.fit(X_train, y_train)\n",
    "        training_accuracy.append(clf.score(X_train, y_train))\n",
    "        test_accuracy.append(clf.score(X_test, y_test))\n",
    "        \n",
    "    plt.plot(KNN, training_accuracy, label=\"training accuracy\")\n",
    "    plt.plot(KNN, test_accuracy, label=\"test accuray\")\n",
    "    plt.xlabel(\"n_neighbors\")\n",
    "    plt.ylabel(\"Accuracy\")\n",
    "    plt.legend()"
   ]
  },
  {
   "cell_type": "code",
   "execution_count": null,
   "metadata": {},
   "outputs": [],
   "source": [
    "KNN = [1,2,3,4,5,6,7,8,9,10,11,12,13,14,15,16,17,18,19,20]\n",
    "plot_KNN(X_train, y_train, X_test, y_test, KNN)"
   ]
  },
  {
   "cell_type": "code",
   "execution_count": null,
   "metadata": {},
   "outputs": [],
   "source": [
    "clf = KNeighborsClassifier(n_neighbors=6)\n",
    "clf.fit(X_train, y_train)\n",
    "print(\"Train set accuracy: {}\".format(clf.score(X_train, y_train)))\n",
    "print(\"Test set accuracy: {}\".format(clf.score(X_test, y_test)))"
   ]
  },
  {
   "cell_type": "markdown",
   "metadata": {},
   "source": [
    "### Distance"
   ]
  },
  {
   "cell_type": "code",
   "execution_count": null,
   "metadata": {},
   "outputs": [],
   "source": [
    "clf = KNeighborsClassifier(n_neighbors=6, weights=\"uniform\") # uniform is the default\n",
    "clf.fit(X_train, y_train)\n",
    "print(\"Train set accuracy: {}\".format(clf.score(X_train, y_train)))\n",
    "print(\"Test set accuracy: {}\".format(clf.score(X_test, y_test)))"
   ]
  },
  {
   "cell_type": "code",
   "execution_count": null,
   "metadata": {},
   "outputs": [],
   "source": [
    "clf = KNeighborsClassifier(n_neighbors=6, weights=\"distance\")\n",
    "clf.fit(X_train, y_train)\n",
    "print(\"Train set accuracy: {}\".format(clf.score(X_train, y_train)))\n",
    "print(\"Test set accuracy: {}\".format(clf.score(X_test, y_test)))"
   ]
  },
  {
   "cell_type": "markdown",
   "metadata": {},
   "source": [
    "We can also define our own distance function. See example below."
   ]
  },
  {
   "cell_type": "code",
   "execution_count": null,
   "metadata": {},
   "outputs": [],
   "source": [
    "def mydist(x1, x2):\n",
    "    return 0.1 * np.abs(x1[0] - x2[0]) + 0.9*np.abs(x1[1] - x2[1]) "
   ]
  },
  {
   "cell_type": "code",
   "execution_count": null,
   "metadata": {},
   "outputs": [],
   "source": [
    "knn = KNeighborsClassifier(n_neighbors=3, metric=mydist) \n",
    "knn.fit(X_train, y_train)\n",
    "print(\"Train set accuracy: {}\".format(knn.score(X_train, y_train)))\n",
    "print(\"Test set accuracy: {}\".format(knn.score(X_test, y_test)))"
   ]
  },
  {
   "cell_type": "markdown",
   "metadata": {},
   "source": [
    "## Regression\n",
    "\n",
    "The KNN algorithm can be used for regression. \n",
    "<img src=\"knn_reg.png\">"
   ]
  },
  {
   "cell_type": "code",
   "execution_count": null,
   "metadata": {},
   "outputs": [],
   "source": [
    "data = load_diabetes()\n",
    "X_train, X_test, y_train, y_test = train_test_split(data.data, data.target, random_state=26)"
   ]
  },
  {
   "cell_type": "code",
   "execution_count": null,
   "metadata": {},
   "outputs": [],
   "source": [
    "knn_reg = KNeighborsRegressor(n_neighbors=10)\n",
    "knn_reg.fit(X_train, y_train)\n",
    "print(\"Train set accuracy: {}\".format(knn_reg.score(X_train, y_train)))\n",
    "print(\"Test set accuracy: {}\".format(knn_reg.score(X_test, y_test)))"
   ]
  },
  {
   "cell_type": "markdown",
   "metadata": {},
   "source": [
    "## Problem: Image classification\n",
    "\n",
    "**Description:** Image Classification problem is the task of assigning a class to an input image from a fixed set of categories. This is one of the core problems in **computer vision** that, despite its simplicity, has a variety of applications, for instance object recognition in autonomous cars. \n",
    "\n",
    "<add tesla video>\n",
    "\n",
    "**Problem:** For example, in the image below an image classification model takes a single image and assigns probabilities to 2 label, {cat, not cat}. Keep in mind that to a computer an image is represented as one large 3D array of numbers. In this example, the cat image is 64 pixels wide, 64 pixels tall, and has three color channels Red,Green,Blue (or RGB for short). Therefore, the image consists of 64 x 64 x 3 numbers, or a total of 12,288 numbers. Each number is an integer that ranges from 0 (black) to 255 (white). Our task is to turn this quarter of a million numbers into a single label, such as “cat”.\n",
    "\n",
    "<img src=\"cat.png\">\n",
    "\n",
    "Image courtesy to _Stanford CS class: Convolutional Neural Networks for Visual Recognition_\n",
    "\n",
    "**Note:** Although KNN can be applied to classification problem, it is not the most efficient algorithm. Deep learning and in particular convolutional networks are the most common approach in image classification. However, for the sake of our current study, we will use KNN. "
   ]
  },
  {
   "cell_type": "markdown",
   "metadata": {},
   "source": [
    "### Loading labeled images\n",
    "\n",
    "Folder datasets contains images that have been already labeled to **cat** and **not cat**. File ``train_catvnoncat.h5`` contains the train dataset and ``test_catvnoncat.h5`` contains the test dataset. Extension \".h5\" stands for Hierarchical Data Format, which is used to store and organize a large amount of data. To read \".h5\" files in python, you would need to install additional package such as h5py."
   ]
  },
  {
   "cell_type": "code",
   "execution_count": null,
   "metadata": {},
   "outputs": [],
   "source": [
    "import numpy as np\n",
    "import matplotlib.pyplot as plt\n",
    "import h5py\n",
    "\n",
    "def load_data():\n",
    "    train_dataset = h5py.File('datasets/train_catvnoncat.h5', \"r\") # dataset courtesy to deeplearningai\n",
    "    train_set_x_orig = np.array(train_dataset[\"train_set_x\"][:]) # your train set features\n",
    "    train_set_y_orig = np.array(train_dataset[\"train_set_y\"][:]) # your train set labels\n",
    "\n",
    "    test_dataset = h5py.File('datasets/test_catvnoncat.h5', \"r\")\n",
    "    test_set_x_orig = np.array(test_dataset[\"test_set_x\"][:]) # your test set features\n",
    "    test_set_y_orig = np.array(test_dataset[\"test_set_y\"][:]) # your test set labels\n",
    "\n",
    "    classes = np.array(test_dataset[\"list_classes\"][:]) # the list of classes\n",
    "    \n",
    "    train_set_y_orig = train_set_y_orig.reshape((1, train_set_y_orig.shape[0]))\n",
    "    test_set_y_orig = test_set_y_orig.reshape((1, test_set_y_orig.shape[0]))\n",
    "    \n",
    "    return train_set_x_orig, train_set_y_orig, test_set_x_orig, test_set_y_orig, classes"
   ]
  },
  {
   "cell_type": "code",
   "execution_count": null,
   "metadata": {},
   "outputs": [],
   "source": [
    "train_x, train_y, test_x, test_y, classes = load_data()"
   ]
  },
  {
   "cell_type": "markdown",
   "metadata": {},
   "source": [
    "Let's take a closer look at the images. In the code below, we display an image from the train dataset with ``imshow`` from matplotlib. Function ``imshow`` is powerful! It transforms a matrix that correspond to RGB coding explained above into a picture. ``train_x[index]`` gives an image ``train_y[0,index]`` its label. Change the index below and observe the of value y."
   ]
  },
  {
   "cell_type": "code",
   "execution_count": null,
   "metadata": {},
   "outputs": [],
   "source": [
    "# Example of a picture\n",
    "index = 56\n",
    "plt.imshow(train_x[index])\n",
    "print (\"y = \" + str(train_y[0,index]) + \". It's a \" + classes[train_y[0,index]].decode(\"utf-8\") +  \" picture.\")"
   ]
  },
  {
   "cell_type": "code",
   "execution_count": null,
   "metadata": {},
   "outputs": [],
   "source": [
    "print(\"The RGB matrix of the image is {}\".format(train_x[index]))"
   ]
  },
  {
   "cell_type": "markdown",
   "metadata": {},
   "source": [
    "Next, we explore the dataset. How many observations in the train set? In the test set? What is the size of an image in pixels? And so on..."
   ]
  },
  {
   "cell_type": "code",
   "execution_count": null,
   "metadata": {},
   "outputs": [],
   "source": [
    "# Explore your dataset \n",
    "m_train = train_x.shape[0]\n",
    "num_px = train_x.shape[1]\n",
    "m_test = test_x.shape[0]\n",
    "\n",
    "print (\"Number of training examples: \" + str(m_train))\n",
    "print (\"Number of testing examples: \" + str(m_test))\n",
    "print (\"Each image is of size: (\" + str(num_px) + \", \" + str(num_px) + \", 3)\")\n",
    "print (\"train_x_orig shape: \" + str(train_x.shape))\n",
    "print (\"train_y shape: \" + str(train_y.shape))\n",
    "print (\"test_x_orig shape: \" + str(test_x.shape))\n",
    "print (\"test_y shape: \" + str(test_y.shape))"
   ]
  },
  {
   "cell_type": "markdown",
   "metadata": {},
   "source": [
    "We apply ``KNeighborsClassifier`` on the datasets. It doesn't work! What could be the reason of the error ``ValueError: Found array with dim 4. Estimator expected <= 2.``?"
   ]
  },
  {
   "cell_type": "code",
   "execution_count": null,
   "metadata": {},
   "outputs": [],
   "source": [
    "knn = KNeighborsClassifier(n_neighbors=25)\n",
    "knn.fit(train_x, train_y)\n",
    "print(\"Train set accuracy: {}\".format(knn.score(train_x, train_y)))\n",
    "print(\"Test set accuracy: {}\".format(knn.score(test_x, test_y)))"
   ]
  },
  {
   "cell_type": "markdown",
   "metadata": {},
   "source": [
    "### Reshaping the data\n",
    "\n",
    "An image is converted to a 3D matrix of size 64 x 64 x 3. However, most of machine learning algorithms, including ``KNeighborsClassifier``, accept data of dimension $\\leq$ 2. Therefore, we should reshape the coding matrices from 4D matrices of size **(num_observations, width_px, hight_px, 3)** to a 2D matrices of size **(num_observations, width_px $\\times$ hight_px $\\times$ 3)**."
   ]
  },
  {
   "cell_type": "code",
   "execution_count": null,
   "metadata": {},
   "outputs": [],
   "source": [
    "train_x.shape"
   ]
  },
  {
   "cell_type": "code",
   "execution_count": null,
   "metadata": {},
   "outputs": [],
   "source": [
    "train_x_reshaped = train_x.reshape(m_train, num_px*num_px*3)\n",
    "train_x_reshaped.shape"
   ]
  },
  {
   "cell_type": "code",
   "execution_count": null,
   "metadata": {},
   "outputs": [],
   "source": [
    "test_x.shape"
   ]
  },
  {
   "cell_type": "code",
   "execution_count": null,
   "metadata": {},
   "outputs": [],
   "source": [
    "test_x_reshaped = test_x.reshape(m_test, num_px*num_px*3)\n",
    "test_x_reshaped.shape"
   ]
  },
  {
   "cell_type": "markdown",
   "metadata": {},
   "source": [
    "The target should be a vector with $m$ observations, where $m$ is 209 for the target of train dataset and 50 for the target of test dataset. One way is to transform ``train_y`` and ``test_y`` into a 1D array using function ``ravel``. "
   ]
  },
  {
   "cell_type": "code",
   "execution_count": null,
   "metadata": {},
   "outputs": [],
   "source": [
    "test_y.shape"
   ]
  },
  {
   "cell_type": "code",
   "execution_count": null,
   "metadata": {},
   "outputs": [],
   "source": [
    "test_y_reshaped = np.ravel(test_y)\n",
    "train_y_reshaped = np.ravel(train_y)"
   ]
  },
  {
   "cell_type": "code",
   "execution_count": null,
   "metadata": {},
   "outputs": [],
   "source": [
    "test_y_reshaped.shape"
   ]
  },
  {
   "cell_type": "markdown",
   "metadata": {},
   "source": [
    "### Fitting and prediction\n",
    "\n",
    "Now that we reshaped the data, we can fit the KNN model. The accuracy score is poor. We might get better score with deep learning algorithms (see demo). "
   ]
  },
  {
   "cell_type": "code",
   "execution_count": null,
   "metadata": {},
   "outputs": [],
   "source": [
    "knn = KNeighborsClassifier(n_neighbors=5)\n",
    "knn.fit(train_x_reshaped, train_y_reshaped)\n",
    "print(\"Train set accuracy: {}\".format(knn.score(train_x_reshaped, train_y_reshaped)))\n",
    "print(\"Test set accuracy: {}\".format(knn.score(test_x_reshaped, test_y_reshaped)))"
   ]
  },
  {
   "cell_type": "markdown",
   "metadata": {},
   "source": [
    "You can use your own image and see the output of your model. To do that:\n",
    "1. Add your image to this Jupyter Notebook's directory, in the \"images\" folder\n",
    "2. Change your image's name in the following code\n",
    "3. Run the code and check if the algorithm is right (1 = cat, 0 = non-cat)!"
   ]
  },
  {
   "cell_type": "code",
   "execution_count": null,
   "metadata": {},
   "outputs": [],
   "source": [
    "import scipy"
   ]
  },
  {
   "cell_type": "code",
   "execution_count": null,
   "metadata": {},
   "outputs": [],
   "source": [
    "def define_my_image(my_image,dim):\n",
    "    fname = \"images/\" + my_image # path to your image\n",
    "    image = np.array(plt.imread(fname)) # convert your image into 3D martix of RGB codes\n",
    "    my_image = scipy.misc.imresize(image, size=dim) # resize your image to same size as the images in the dataset.\n",
    "    \n",
    "    return my_image"
   ]
  },
  {
   "cell_type": "code",
   "execution_count": null,
   "metadata": {},
   "outputs": [],
   "source": [
    "my_image = define_my_image(\"cat1.jpg\",(num_px,num_px))\n",
    "#my_image = train_x[14]\n",
    "my_predicted_image = knn.predict(my_image.reshape((1,num_px*num_px*3))) #,np.array(my_label))\n",
    "\n",
    "plt.imshow(my_image)\n",
    "print (\"y = \" + str(my_predicted_image[0]) + \". It's a \" + classes[my_predicted_image[0]].decode(\"utf-8\") +  \" picture.\")"
   ]
  },
  {
   "cell_type": "code",
   "execution_count": null,
   "metadata": {},
   "outputs": [],
   "source": []
  }
 ],
 "metadata": {
  "kernelspec": {
   "display_name": "Python 3",
   "language": "python",
   "name": "python3"
  },
  "language_info": {
   "codemirror_mode": {
    "name": "ipython",
    "version": 3
   },
   "file_extension": ".py",
   "mimetype": "text/x-python",
   "name": "python",
   "nbconvert_exporter": "python",
   "pygments_lexer": "ipython3",
   "version": "3.7.2"
  }
 },
 "nbformat": 4,
 "nbformat_minor": 2
}
